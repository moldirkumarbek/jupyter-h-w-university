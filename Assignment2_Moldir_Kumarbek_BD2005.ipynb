{
 "cells": [
  {
   "cell_type": "markdown",
   "id": "50631ae9",
   "metadata": {},
   "source": [
    "### Assignment 2 \n",
    "### Moldir Kumarbek \n",
    "### BD-2005"
   ]
  },
  {
   "cell_type": "code",
   "execution_count": 1,
   "id": "23076ccb",
   "metadata": {},
   "outputs": [],
   "source": [
    "import pandas as pd\n",
    "import numpy as np\n",
    "import re\n",
    "from pprint import pprint\n",
    "from scipy.spatial.distance import pdist, squareform"
   ]
  },
  {
   "cell_type": "markdown",
   "id": "3fc42681",
   "metadata": {},
   "source": [
    "## Task 1.1. Open the file"
   ]
  },
  {
   "cell_type": "code",
   "execution_count": 2,
   "id": "4c3cc72c",
   "metadata": {},
   "outputs": [
    {
     "name": "stdout",
     "output_type": "stream",
     "text": [
      "['In comparison to dogs, cats have not undergone major changes during the domestication process.\\n', 'As cat simply catenates streams of bytes, it can be also used to concatenate binary files, where it will just concatenate sequence of bytes.\\n', 'A common interactive use of cat for a single file is to output the content of a file to standard output.\\n', 'Cats can hear sounds too faint or too high in frequency for human ears, such as those made by mice and other small animals.\\n', 'In one, people deliberately tamed cats in a process of artificial selection, as they were useful predators of vermin.\\n', 'The domesticated cat and its closest wild ancestor are both diploid organisms that possess 38 chromosomes and roughly 20,000 genes.\\n', 'Domestic cats are similar in size to the other members of the genus Felis, typically weighing between 4 and 5 kg (8.8 and 11.0 lb).\\n', 'However, if the output is piped or redirected, cat is unnecessary.\\n', 'cat with one named file is safer where human error is a concern - one wrong use of the default redirection symbol \">\" instead of \"<\" (often adjacent on keyboards) may permanently delete the file you were just needing to read.\\n', 'In terms of legibility, a sequence of commands starting with cat and connected by pipes has a clear left-to-right flow of information.\\n', 'Cat command is one of the basic commands that you learned when you started in the Unix / Linux world.\\n', 'Using cat command, the lines received from stdin can be redirected to a new file using redirection symbols.\\n', 'When you type simply cat command without any arguments, it just receives the stdin content and displays it in the stdout.\\n', 'Leopard was released on October 26, 2007 as the successor of Tiger (version 10.4), and is available in two editions.\\n', 'According to Apple, Leopard contains over 300 changes and enhancements over its predecessor, Mac OS X Tiger.\\n', 'As of Mid 2010, some Apple computers have firmware factory installed which will no longer allow installation of Mac OS X Leopard.\\n', 'Since Apple moved to using Intel processors in their computers, the OSx86 community has developed and now also allows Mac OS X Tiger and later releases to be installed on non-Apple x86-based computers.\\n', \"OS X Mountain Lion was released on July 25, 2012 for purchase and download through Apple's Mac App Store, as part of a switch to releasing OS X versions online and every year.\\n\", 'Apple has released a small patch for the three most recent versions of Safari running on OS X Yosemite, Mavericks, and Mountain Lion.\\n', 'The Mountain Lion release marks the second time Apple has offered an incremental upgrade, rather than releasing a new cat entirely.\\n', \"Mac OS X Mountain Lion installs in place, so you won't need to create a separate disk or run the installation off an external drive.\\n\", \"The fifth major update to Mac OS X, Leopard, contains such a mountain of features - more than 300 by Apple's count.\\n\"]\n"
     ]
    }
   ],
   "source": [
    "fo = open('words.txt', 'r')\n",
    "my_list = fo.readlines()\n",
    "print(my_list)"
   ]
  },
  {
   "cell_type": "markdown",
   "id": "7d8f272f",
   "metadata": {},
   "source": [
    "## Task 1.2. Each line is the one sentence. Please make them all in lower case form using string function lower()"
   ]
  },
  {
   "cell_type": "code",
   "execution_count": 3,
   "id": "540cd8ca",
   "metadata": {},
   "outputs": [],
   "source": [
    "with open('words.txt', 'r') as inp:\n",
    "   y = inp.read().lower()\n",
    "with open('words.txt', 'a') as out:\n",
    "    out.write(y)"
   ]
  },
  {
   "cell_type": "code",
   "execution_count": 4,
   "id": "e9e17278",
   "metadata": {},
   "outputs": [
    {
     "name": "stdout",
     "output_type": "stream",
     "text": [
      "in comparison to dogs, cats have not undergone major changes during the domestication process.\n",
      "as cat simply catenates streams of bytes, it can be also used to concatenate binary files, where it will just concatenate sequence of bytes.\n",
      "a common interactive use of cat for a single file is to output the content of a file to standard output.\n",
      "cats can hear sounds too faint or too high in frequency for human ears, such as those made by mice and other small animals.\n",
      "in one, people deliberately tamed cats in a process of artificial selection, as they were useful predators of vermin.\n",
      "the domesticated cat and its closest wild ancestor are both diploid organisms that possess 38 chromosomes and roughly 20,000 genes.\n",
      "domestic cats are similar in size to the other members of the genus felis, typically weighing between 4 and 5 kg (8.8 and 11.0 lb).\n",
      "however, if the output is piped or redirected, cat is unnecessary.\n",
      "cat with one named file is safer where human error is a concern - one wrong use of the default redirection symbol \">\" instead of \"<\" (often adjacent on keyboards) may permanently delete the file you were just needing to read.\n",
      "in terms of legibility, a sequence of commands starting with cat and connected by pipes has a clear left-to-right flow of information.\n",
      "cat command is one of the basic commands that you learned when you started in the unix / linux world.\n",
      "using cat command, the lines received from stdin can be redirected to a new file using redirection symbols.\n",
      "when you type simply cat command without any arguments, it just receives the stdin content and displays it in the stdout.\n",
      "leopard was released on october 26, 2007 as the successor of tiger (version 10.4), and is available in two editions.\n",
      "according to apple, leopard contains over 300 changes and enhancements over its predecessor, mac os x tiger.\n",
      "as of mid 2010, some apple computers have firmware factory installed which will no longer allow installation of mac os x leopard.\n",
      "since apple moved to using intel processors in their computers, the osx86 community has developed and now also allows mac os x tiger and later releases to be installed on non-apple x86-based computers.\n",
      "os x mountain lion was released on july 25, 2012 for purchase and download through apple's mac app store, as part of a switch to releasing os x versions online and every year.\n",
      "apple has released a small patch for the three most recent versions of safari running on os x yosemite, mavericks, and mountain lion.\n",
      "the mountain lion release marks the second time apple has offered an incremental upgrade, rather than releasing a new cat entirely.\n",
      "mac os x mountain lion installs in place, so you won't need to create a separate disk or run the installation off an external drive.\n",
      "the fifth major update to mac os x, leopard, contains such a mountain of features - more than 300 by apple's count.\n",
      "\n"
     ]
    }
   ],
   "source": [
    "print(y)"
   ]
  },
  {
   "cell_type": "markdown",
   "id": "d40c1081",
   "metadata": {},
   "source": [
    "## Task 1.3. Tokenization"
   ]
  },
  {
   "cell_type": "code",
   "execution_count": 5,
   "id": "acdbe326",
   "metadata": {
    "scrolled": true
   },
   "outputs": [],
   "source": [
    "list1 = re.split('[^a-z]',y)"
   ]
  },
  {
   "cell_type": "code",
   "execution_count": 6,
   "id": "487d9d96",
   "metadata": {},
   "outputs": [
    {
     "name": "stdout",
     "output_type": "stream",
     "text": [
      "['in', 'comparison', 'to', 'dogs', 'cats', 'have', 'not', 'undergone', 'major', 'changes', 'during', 'the', 'domestication', 'process', 'as', 'cat', 'simply', 'catenates', 'streams', 'of', 'bytes', 'it', 'can', 'be', 'also', 'used', 'to', 'concatenate', 'binary', 'files', 'where', 'it', 'will', 'just', 'concatenate', 'sequence', 'of', 'bytes', 'a', 'common', 'interactive', 'use', 'of', 'cat', 'for', 'a', 'single', 'file', 'is', 'to', 'output', 'the', 'content', 'of', 'a', 'file', 'to', 'standard', 'output', 'cats', 'can', 'hear', 'sounds', 'too', 'faint', 'or', 'too', 'high', 'in', 'frequency', 'for', 'human', 'ears', 'such', 'as', 'those', 'made', 'by', 'mice', 'and', 'other', 'small', 'animals', 'in', 'one', 'people', 'deliberately', 'tamed', 'cats', 'in', 'a', 'process', 'of', 'artificial', 'selection', 'as', 'they', 'were', 'useful', 'predators', 'of', 'vermin', 'the', 'domesticated', 'cat', 'and', 'its', 'closest', 'wild', 'ancestor', 'are', 'both', 'diploid', 'organisms', 'that', 'possess', 'chromosomes', 'and', 'roughly', 'genes', 'domestic', 'cats', 'are', 'similar', 'in', 'size', 'to', 'the', 'other', 'members', 'of', 'the', 'genus', 'felis', 'typically', 'weighing', 'between', 'and', 'kg', 'and', 'lb', 'however', 'if', 'the', 'output', 'is', 'piped', 'or', 'redirected', 'cat', 'is', 'unnecessary', 'cat', 'with', 'one', 'named', 'file', 'is', 'safer', 'where', 'human', 'error', 'is', 'a', 'concern', 'one', 'wrong', 'use', 'of', 'the', 'default', 'redirection', 'symbol', 'instead', 'of', 'often', 'adjacent', 'on', 'keyboards', 'may', 'permanently', 'delete', 'the', 'file', 'you', 'were', 'just', 'needing', 'to', 'read', 'in', 'terms', 'of', 'legibility', 'a', 'sequence', 'of', 'commands', 'starting', 'with', 'cat', 'and', 'connected', 'by', 'pipes', 'has', 'a', 'clear', 'left', 'to', 'right', 'flow', 'of', 'information', 'cat', 'command', 'is', 'one', 'of', 'the', 'basic', 'commands', 'that', 'you', 'learned', 'when', 'you', 'started', 'in', 'the', 'unix', 'linux', 'world', 'using', 'cat', 'command', 'the', 'lines', 'received', 'from', 'stdin', 'can', 'be', 'redirected', 'to', 'a', 'new', 'file', 'using', 'redirection', 'symbols', 'when', 'you', 'type', 'simply', 'cat', 'command', 'without', 'any', 'arguments', 'it', 'just', 'receives', 'the', 'stdin', 'content', 'and', 'displays', 'it', 'in', 'the', 'stdout', 'leopard', 'was', 'released', 'on', 'october', 'as', 'the', 'successor', 'of', 'tiger', 'version', 'and', 'is', 'available', 'in', 'two', 'editions', 'according', 'to', 'apple', 'leopard', 'contains', 'over', 'changes', 'and', 'enhancements', 'over', 'its', 'predecessor', 'mac', 'os', 'x', 'tiger', 'as', 'of', 'mid', 'some', 'apple', 'computers', 'have', 'firmware', 'factory', 'installed', 'which', 'will', 'no', 'longer', 'allow', 'installation', 'of', 'mac', 'os', 'x', 'leopard', 'since', 'apple', 'moved', 'to', 'using', 'intel', 'processors', 'in', 'their', 'computers', 'the', 'osx', 'community', 'has', 'developed', 'and', 'now', 'also', 'allows', 'mac', 'os', 'x', 'tiger', 'and', 'later', 'releases', 'to', 'be', 'installed', 'on', 'non', 'apple', 'x', 'based', 'computers', 'os', 'x', 'mountain', 'lion', 'was', 'released', 'on', 'july', 'for', 'purchase', 'and', 'download', 'through', 'apple', 's', 'mac', 'app', 'store', 'as', 'part', 'of', 'a', 'switch', 'to', 'releasing', 'os', 'x', 'versions', 'online', 'and', 'every', 'year', 'apple', 'has', 'released', 'a', 'small', 'patch', 'for', 'the', 'three', 'most', 'recent', 'versions', 'of', 'safari', 'running', 'on', 'os', 'x', 'yosemite', 'mavericks', 'and', 'mountain', 'lion', 'the', 'mountain', 'lion', 'release', 'marks', 'the', 'second', 'time', 'apple', 'has', 'offered', 'an', 'incremental', 'upgrade', 'rather', 'than', 'releasing', 'a', 'new', 'cat', 'entirely', 'mac', 'os', 'x', 'mountain', 'lion', 'installs', 'in', 'place', 'so', 'you', 'won', 't', 'need', 'to', 'create', 'a', 'separate', 'disk', 'or', 'run', 'the', 'installation', 'off', 'an', 'external', 'drive', 'the', 'fifth', 'major', 'update', 'to', 'mac', 'os', 'x', 'leopard', 'contains', 'such', 'a', 'mountain', 'of', 'features', 'more', 'than', 'by', 'apple', 's', 'count']\n"
     ]
    }
   ],
   "source": [
    "not_empty = [string for string in list1 if string != \"\"]\n",
    "print(not_empty)"
   ]
  },
  {
   "cell_type": "markdown",
   "id": "f8ee0f58",
   "metadata": {},
   "source": [
    "## Task 1.4. Make a list of all the words that appear in the sentences. \n",
    "- Note: all the words are unique. \n",
    "- Hint: we have 254 unique words."
   ]
  },
  {
   "cell_type": "code",
   "execution_count": 7,
   "id": "8a6c2bba",
   "metadata": {},
   "outputs": [
    {
     "name": "stdout",
     "output_type": "stream",
     "text": [
      "{0: 'a', 1: 'according', 2: 'adjacent', 3: 'allow', 4: 'allows', 5: 'also', 6: 'an', 7: 'ancestor', 8: 'and', 9: 'animals', 10: 'any', 11: 'app', 12: 'apple', 13: 'are', 14: 'arguments', 15: 'artificial', 16: 'as', 17: 'available', 18: 'based', 19: 'basic', 20: 'be', 21: 'between', 22: 'binary', 23: 'both', 24: 'by', 25: 'bytes', 26: 'can', 27: 'cat', 28: 'catenates', 29: 'cats', 30: 'changes', 31: 'chromosomes', 32: 'clear', 33: 'closest', 34: 'command', 35: 'commands', 36: 'common', 37: 'community', 38: 'comparison', 39: 'computers', 40: 'concatenate', 41: 'concern', 42: 'connected', 43: 'contains', 44: 'content', 45: 'count', 46: 'create', 47: 'default', 48: 'delete', 49: 'deliberately', 50: 'developed', 51: 'diploid', 52: 'disk', 53: 'displays', 54: 'dogs', 55: 'domestic', 56: 'domesticated', 57: 'domestication', 58: 'download', 59: 'drive', 60: 'during', 61: 'ears', 62: 'editions', 63: 'enhancements', 64: 'entirely', 65: 'error', 66: 'every', 67: 'external', 68: 'factory', 69: 'faint', 70: 'features', 71: 'felis', 72: 'fifth', 73: 'file', 74: 'files', 75: 'firmware', 76: 'flow', 77: 'for', 78: 'frequency', 79: 'from', 80: 'genes', 81: 'genus', 82: 'has', 83: 'have', 84: 'hear', 85: 'high', 86: 'however', 87: 'human', 88: 'if', 89: 'in', 90: 'incremental', 91: 'information', 92: 'installation', 93: 'installed', 94: 'installs', 95: 'instead', 96: 'intel', 97: 'interactive', 98: 'is', 99: 'it', 100: 'its', 101: 'july', 102: 'just', 103: 'keyboards', 104: 'kg', 105: 'later', 106: 'lb', 107: 'learned', 108: 'left', 109: 'legibility', 110: 'leopard', 111: 'lines', 112: 'linux', 113: 'lion', 114: 'longer', 115: 'mac', 116: 'made', 117: 'major', 118: 'marks', 119: 'mavericks', 120: 'may', 121: 'members', 122: 'mice', 123: 'mid', 124: 'more', 125: 'most', 126: 'mountain', 127: 'moved', 128: 'named', 129: 'need', 130: 'needing', 131: 'new', 132: 'no', 133: 'non', 134: 'not', 135: 'now', 136: 'october', 137: 'of', 138: 'off', 139: 'offered', 140: 'often', 141: 'on', 142: 'one', 143: 'online', 144: 'or', 145: 'organisms', 146: 'os', 147: 'osx', 148: 'other', 149: 'output', 150: 'over', 151: 'part', 152: 'patch', 153: 'people', 154: 'permanently', 155: 'piped', 156: 'pipes', 157: 'place', 158: 'possess', 159: 'predators', 160: 'predecessor', 161: 'process', 162: 'processors', 163: 'purchase', 164: 'rather', 165: 'read', 166: 'received', 167: 'receives', 168: 'recent', 169: 'redirected', 170: 'redirection', 171: 'release', 172: 'released', 173: 'releases', 174: 'releasing', 175: 'right', 176: 'roughly', 177: 'run', 178: 'running', 179: 's', 180: 'safari', 181: 'safer', 182: 'second', 183: 'selection', 184: 'separate', 185: 'sequence', 186: 'similar', 187: 'simply', 188: 'since', 189: 'single', 190: 'size', 191: 'small', 192: 'so', 193: 'some', 194: 'sounds', 195: 'standard', 196: 'started', 197: 'starting', 198: 'stdin', 199: 'stdout', 200: 'store', 201: 'streams', 202: 'successor', 203: 'such', 204: 'switch', 205: 'symbol', 206: 'symbols', 207: 't', 208: 'tamed', 209: 'terms', 210: 'than', 211: 'that', 212: 'the', 213: 'their', 214: 'they', 215: 'those', 216: 'three', 217: 'through', 218: 'tiger', 219: 'time', 220: 'to', 221: 'too', 222: 'two', 223: 'type', 224: 'typically', 225: 'undergone', 226: 'unix', 227: 'unnecessary', 228: 'update', 229: 'upgrade', 230: 'use', 231: 'used', 232: 'useful', 233: 'using', 234: 'vermin', 235: 'version', 236: 'versions', 237: 'was', 238: 'weighing', 239: 'were', 240: 'when', 241: 'where', 242: 'which', 243: 'wild', 244: 'will', 245: 'with', 246: 'without', 247: 'won', 248: 'world', 249: 'wrong', 250: 'x', 251: 'year', 252: 'yosemite', 253: 'you'}\n"
     ]
    }
   ],
   "source": [
    "myset = set(not_empty)\n",
    "print({k: i for k, i in enumerate(sorted(myset))})"
   ]
  },
  {
   "cell_type": "markdown",
   "id": "8378d36a",
   "metadata": {},
   "source": [
    "## Task 1.5. Create Matrix with N x D dimensions. \n",
    "- N is the number of the sentences and D is the number of the unique words (22 x 254). \n",
    "- Fill it in: the element with index (i, j) in this matrix must be equal to the number of occurrences of the j-th word in the i-th sentence."
   ]
  },
  {
   "cell_type": "code",
   "execution_count": 8,
   "id": "81a7cdc5",
   "metadata": {},
   "outputs": [],
   "source": [
    "a = [[sentence.count(word) for word in myset] for sentence in my_list]"
   ]
  },
  {
   "cell_type": "code",
   "execution_count": 9,
   "id": "3aac2cf0",
   "metadata": {},
   "outputs": [
    {
     "data": {
      "text/plain": [
       "matrix([[0, 0, 1, ..., 0, 0, 0],\n",
       "        [0, 0, 0, ..., 0, 1, 0],\n",
       "        [0, 0, 0, ..., 0, 0, 0],\n",
       "        ...,\n",
       "        [0, 0, 0, ..., 0, 0, 0],\n",
       "        [0, 0, 0, ..., 0, 0, 0],\n",
       "        [0, 0, 0, ..., 0, 0, 0]])"
      ]
     },
     "execution_count": 9,
     "metadata": {},
     "output_type": "execute_result"
    }
   ],
   "source": [
    "matrix = np.matrix(a)\n",
    "matrix"
   ]
  },
  {
   "cell_type": "code",
   "execution_count": 10,
   "id": "89c34531",
   "metadata": {},
   "outputs": [
    {
     "data": {
      "text/plain": [
       "(22, 254)"
      ]
     },
     "execution_count": 10,
     "metadata": {},
     "output_type": "execute_result"
    }
   ],
   "source": [
    "matrix.shape"
   ]
  },
  {
   "cell_type": "code",
   "execution_count": 11,
   "id": "d6ab4449",
   "metadata": {},
   "outputs": [
    {
     "data": {
      "text/html": [
       "<div>\n",
       "<style scoped>\n",
       "    .dataframe tbody tr th:only-of-type {\n",
       "        vertical-align: middle;\n",
       "    }\n",
       "\n",
       "    .dataframe tbody tr th {\n",
       "        vertical-align: top;\n",
       "    }\n",
       "\n",
       "    .dataframe thead th {\n",
       "        text-align: right;\n",
       "    }\n",
       "</style>\n",
       "<table border=\"1\" class=\"dataframe\">\n",
       "  <thead>\n",
       "    <tr style=\"text-align: right;\">\n",
       "      <th></th>\n",
       "      <th>non</th>\n",
       "      <th>are</th>\n",
       "      <th>cats</th>\n",
       "      <th>unnecessary</th>\n",
       "      <th>contains</th>\n",
       "      <th>app</th>\n",
       "      <th>three</th>\n",
       "      <th>ancestor</th>\n",
       "      <th>drive</th>\n",
       "      <th>other</th>\n",
       "      <th>...</th>\n",
       "      <th>os</th>\n",
       "      <th>interactive</th>\n",
       "      <th>diploid</th>\n",
       "      <th>information</th>\n",
       "      <th>installed</th>\n",
       "      <th>allow</th>\n",
       "      <th>installs</th>\n",
       "      <th>human</th>\n",
       "      <th>simply</th>\n",
       "      <th>may</th>\n",
       "    </tr>\n",
       "  </thead>\n",
       "  <tbody>\n",
       "    <tr>\n",
       "      <th>In comparison to dogs, cats have not undergone major changes during the domestication process.\\n</th>\n",
       "      <td>0</td>\n",
       "      <td>0</td>\n",
       "      <td>1</td>\n",
       "      <td>0</td>\n",
       "      <td>0</td>\n",
       "      <td>0</td>\n",
       "      <td>0</td>\n",
       "      <td>0</td>\n",
       "      <td>0</td>\n",
       "      <td>0</td>\n",
       "      <td>...</td>\n",
       "      <td>0</td>\n",
       "      <td>0</td>\n",
       "      <td>0</td>\n",
       "      <td>0</td>\n",
       "      <td>0</td>\n",
       "      <td>0</td>\n",
       "      <td>0</td>\n",
       "      <td>0</td>\n",
       "      <td>0</td>\n",
       "      <td>0</td>\n",
       "    </tr>\n",
       "    <tr>\n",
       "      <th>As cat simply catenates streams of bytes, it can be also used to concatenate binary files, where it will just concatenate sequence of bytes.\\n</th>\n",
       "      <td>0</td>\n",
       "      <td>0</td>\n",
       "      <td>0</td>\n",
       "      <td>0</td>\n",
       "      <td>0</td>\n",
       "      <td>0</td>\n",
       "      <td>0</td>\n",
       "      <td>0</td>\n",
       "      <td>0</td>\n",
       "      <td>0</td>\n",
       "      <td>...</td>\n",
       "      <td>0</td>\n",
       "      <td>0</td>\n",
       "      <td>0</td>\n",
       "      <td>0</td>\n",
       "      <td>0</td>\n",
       "      <td>0</td>\n",
       "      <td>0</td>\n",
       "      <td>0</td>\n",
       "      <td>1</td>\n",
       "      <td>0</td>\n",
       "    </tr>\n",
       "    <tr>\n",
       "      <th>A common interactive use of cat for a single file is to output the content of a file to standard output.\\n</th>\n",
       "      <td>0</td>\n",
       "      <td>0</td>\n",
       "      <td>0</td>\n",
       "      <td>0</td>\n",
       "      <td>0</td>\n",
       "      <td>0</td>\n",
       "      <td>0</td>\n",
       "      <td>0</td>\n",
       "      <td>0</td>\n",
       "      <td>0</td>\n",
       "      <td>...</td>\n",
       "      <td>0</td>\n",
       "      <td>1</td>\n",
       "      <td>0</td>\n",
       "      <td>0</td>\n",
       "      <td>0</td>\n",
       "      <td>0</td>\n",
       "      <td>0</td>\n",
       "      <td>0</td>\n",
       "      <td>0</td>\n",
       "      <td>0</td>\n",
       "    </tr>\n",
       "    <tr>\n",
       "      <th>Cats can hear sounds too faint or too high in frequency for human ears, such as those made by mice and other small animals.\\n</th>\n",
       "      <td>0</td>\n",
       "      <td>0</td>\n",
       "      <td>0</td>\n",
       "      <td>0</td>\n",
       "      <td>0</td>\n",
       "      <td>0</td>\n",
       "      <td>0</td>\n",
       "      <td>0</td>\n",
       "      <td>0</td>\n",
       "      <td>1</td>\n",
       "      <td>...</td>\n",
       "      <td>1</td>\n",
       "      <td>0</td>\n",
       "      <td>0</td>\n",
       "      <td>0</td>\n",
       "      <td>0</td>\n",
       "      <td>0</td>\n",
       "      <td>0</td>\n",
       "      <td>1</td>\n",
       "      <td>0</td>\n",
       "      <td>0</td>\n",
       "    </tr>\n",
       "    <tr>\n",
       "      <th>In one, people deliberately tamed cats in a process of artificial selection, as they were useful predators of vermin.\\n</th>\n",
       "      <td>0</td>\n",
       "      <td>0</td>\n",
       "      <td>1</td>\n",
       "      <td>0</td>\n",
       "      <td>0</td>\n",
       "      <td>0</td>\n",
       "      <td>0</td>\n",
       "      <td>0</td>\n",
       "      <td>0</td>\n",
       "      <td>0</td>\n",
       "      <td>...</td>\n",
       "      <td>0</td>\n",
       "      <td>0</td>\n",
       "      <td>0</td>\n",
       "      <td>0</td>\n",
       "      <td>0</td>\n",
       "      <td>0</td>\n",
       "      <td>0</td>\n",
       "      <td>0</td>\n",
       "      <td>0</td>\n",
       "      <td>0</td>\n",
       "    </tr>\n",
       "  </tbody>\n",
       "</table>\n",
       "<p>5 rows × 254 columns</p>\n",
       "</div>"
      ],
      "text/plain": [
       "                                                    non  are  cats  \\\n",
       "In comparison to dogs, cats have not undergone ...    0    0     1   \n",
       "As cat simply catenates streams of bytes, it ca...    0    0     0   \n",
       "A common interactive use of cat for a single fi...    0    0     0   \n",
       "Cats can hear sounds too faint or too high in f...    0    0     0   \n",
       "In one, people deliberately tamed cats in a pro...    0    0     1   \n",
       "\n",
       "                                                    unnecessary  contains  \\\n",
       "In comparison to dogs, cats have not undergone ...            0         0   \n",
       "As cat simply catenates streams of bytes, it ca...            0         0   \n",
       "A common interactive use of cat for a single fi...            0         0   \n",
       "Cats can hear sounds too faint or too high in f...            0         0   \n",
       "In one, people deliberately tamed cats in a pro...            0         0   \n",
       "\n",
       "                                                    app  three  ancestor  \\\n",
       "In comparison to dogs, cats have not undergone ...    0      0         0   \n",
       "As cat simply catenates streams of bytes, it ca...    0      0         0   \n",
       "A common interactive use of cat for a single fi...    0      0         0   \n",
       "Cats can hear sounds too faint or too high in f...    0      0         0   \n",
       "In one, people deliberately tamed cats in a pro...    0      0         0   \n",
       "\n",
       "                                                    drive  other  ...  os  \\\n",
       "In comparison to dogs, cats have not undergone ...      0      0  ...   0   \n",
       "As cat simply catenates streams of bytes, it ca...      0      0  ...   0   \n",
       "A common interactive use of cat for a single fi...      0      0  ...   0   \n",
       "Cats can hear sounds too faint or too high in f...      0      1  ...   1   \n",
       "In one, people deliberately tamed cats in a pro...      0      0  ...   0   \n",
       "\n",
       "                                                    interactive  diploid  \\\n",
       "In comparison to dogs, cats have not undergone ...            0        0   \n",
       "As cat simply catenates streams of bytes, it ca...            0        0   \n",
       "A common interactive use of cat for a single fi...            1        0   \n",
       "Cats can hear sounds too faint or too high in f...            0        0   \n",
       "In one, people deliberately tamed cats in a pro...            0        0   \n",
       "\n",
       "                                                    information  installed  \\\n",
       "In comparison to dogs, cats have not undergone ...            0          0   \n",
       "As cat simply catenates streams of bytes, it ca...            0          0   \n",
       "A common interactive use of cat for a single fi...            0          0   \n",
       "Cats can hear sounds too faint or too high in f...            0          0   \n",
       "In one, people deliberately tamed cats in a pro...            0          0   \n",
       "\n",
       "                                                    allow  installs  human  \\\n",
       "In comparison to dogs, cats have not undergone ...      0         0      0   \n",
       "As cat simply catenates streams of bytes, it ca...      0         0      0   \n",
       "A common interactive use of cat for a single fi...      0         0      0   \n",
       "Cats can hear sounds too faint or too high in f...      0         0      1   \n",
       "In one, people deliberately tamed cats in a pro...      0         0      0   \n",
       "\n",
       "                                                    simply  may  \n",
       "In comparison to dogs, cats have not undergone ...       0    0  \n",
       "As cat simply catenates streams of bytes, it ca...       1    0  \n",
       "A common interactive use of cat for a single fi...       0    0  \n",
       "Cats can hear sounds too faint or too high in f...       0    0  \n",
       "In one, people deliberately tamed cats in a pro...       0    0  \n",
       "\n",
       "[5 rows x 254 columns]"
      ]
     },
     "execution_count": 11,
     "metadata": {},
     "output_type": "execute_result"
    }
   ],
   "source": [
    "out = pd.DataFrame(matrix, index = my_list, columns=myset)\n",
    "out.head()"
   ]
  },
  {
   "cell_type": "markdown",
   "id": "58896a1f",
   "metadata": {},
   "source": [
    "## Task 1.6. Find the cosine distance from first sentence to the all other sentences. \n",
    "- Which two sentences is close to the first sentence. \n",
    "- You can use scipy.spatial.distance.cosine"
   ]
  },
  {
   "cell_type": "code",
   "execution_count": 12,
   "id": "91c15dda",
   "metadata": {
    "scrolled": true
   },
   "outputs": [
    {
     "name": "stdout",
     "output_type": "stream",
     "text": [
      "[[0 0 1 ... 0 0 0]\n",
      " [0 0 0 ... 0 1 0]\n",
      " [0 0 0 ... 0 0 0]\n",
      " ...\n",
      " [0 0 0 ... 0 0 0]\n",
      " [0 0 0 ... 0 0 0]\n",
      " [0 0 0 ... 0 0 0]]\n"
     ]
    }
   ],
   "source": [
    "from scipy.spatial.distance import pdist, squareform\n",
    "#numpy array of my data\n",
    "print(out.values)"
   ]
  },
  {
   "cell_type": "code",
   "execution_count": 13,
   "id": "10b31f7f",
   "metadata": {},
   "outputs": [
    {
     "data": {
      "text/html": [
       "<div>\n",
       "<style scoped>\n",
       "    .dataframe tbody tr th:only-of-type {\n",
       "        vertical-align: middle;\n",
       "    }\n",
       "\n",
       "    .dataframe tbody tr th {\n",
       "        vertical-align: top;\n",
       "    }\n",
       "\n",
       "    .dataframe thead th {\n",
       "        text-align: right;\n",
       "    }\n",
       "</style>\n",
       "<table border=\"1\" class=\"dataframe\">\n",
       "  <thead>\n",
       "    <tr style=\"text-align: right;\">\n",
       "      <th></th>\n",
       "      <th>In comparison to dogs, cats have not undergone major changes during the domestication process.\\n</th>\n",
       "      <th>As cat simply catenates streams of bytes, it can be also used to concatenate binary files, where it will just concatenate sequence of bytes.\\n</th>\n",
       "      <th>A common interactive use of cat for a single file is to output the content of a file to standard output.\\n</th>\n",
       "      <th>Cats can hear sounds too faint or too high in frequency for human ears, such as those made by mice and other small animals.\\n</th>\n",
       "      <th>In one, people deliberately tamed cats in a process of artificial selection, as they were useful predators of vermin.\\n</th>\n",
       "      <th>The domesticated cat and its closest wild ancestor are both diploid organisms that possess 38 chromosomes and roughly 20,000 genes.\\n</th>\n",
       "      <th>Domestic cats are similar in size to the other members of the genus Felis, typically weighing between 4 and 5 kg (8.8 and 11.0 lb).\\n</th>\n",
       "      <th>However, if the output is piped or redirected, cat is unnecessary.\\n</th>\n",
       "      <th>cat with one named file is safer where human error is a concern - one wrong use of the default redirection symbol \"&gt;\" instead of \"&lt;\" (often adjacent on keyboards) may permanently delete the file you were just needing to read.\\n</th>\n",
       "      <th>In terms of legibility, a sequence of commands starting with cat and connected by pipes has a clear left-to-right flow of information.\\n</th>\n",
       "      <th>...</th>\n",
       "      <th>When you type simply cat command without any arguments, it just receives the stdin content and displays it in the stdout.\\n</th>\n",
       "      <th>Leopard was released on October 26, 2007 as the successor of Tiger (version 10.4), and is available in two editions.\\n</th>\n",
       "      <th>According to Apple, Leopard contains over 300 changes and enhancements over its predecessor, Mac OS X Tiger.\\n</th>\n",
       "      <th>As of Mid 2010, some Apple computers have firmware factory installed which will no longer allow installation of Mac OS X Leopard.\\n</th>\n",
       "      <th>Since Apple moved to using Intel processors in their computers, the OSx86 community has developed and now also allows Mac OS X Tiger and later releases to be installed on non-Apple x86-based computers.\\n</th>\n",
       "      <th>OS X Mountain Lion was released on July 25, 2012 for purchase and download through Apple's Mac App Store, as part of a switch to releasing OS X versions online and every year.\\n</th>\n",
       "      <th>Apple has released a small patch for the three most recent versions of Safari running on OS X Yosemite, Mavericks, and Mountain Lion.\\n</th>\n",
       "      <th>The Mountain Lion release marks the second time Apple has offered an incremental upgrade, rather than releasing a new cat entirely.\\n</th>\n",
       "      <th>Mac OS X Mountain Lion installs in place, so you won't need to create a separate disk or run the installation off an external drive.\\n</th>\n",
       "      <th>The fifth major update to Mac OS X, Leopard, contains such a mountain of features - more than 300 by Apple's count.\\n</th>\n",
       "    </tr>\n",
       "  </thead>\n",
       "  <tbody>\n",
       "    <tr>\n",
       "      <th>In comparison to dogs, cats have not undergone major changes during the domestication process.\\n</th>\n",
       "      <td>0.0</td>\n",
       "      <td>0.112368</td>\n",
       "      <td>0.209901</td>\n",
       "      <td>0.17181</td>\n",
       "      <td>0.108444</td>\n",
       "      <td>0.138399</td>\n",
       "      <td>0.155061</td>\n",
       "      <td>0.191444</td>\n",
       "      <td>0.123526</td>\n",
       "      <td>0.166989</td>\n",
       "      <td>...</td>\n",
       "      <td>0.187923</td>\n",
       "      <td>0.138057</td>\n",
       "      <td>0.153244</td>\n",
       "      <td>0.159167</td>\n",
       "      <td>0.118745</td>\n",
       "      <td>0.173204</td>\n",
       "      <td>0.131435</td>\n",
       "      <td>0.182513</td>\n",
       "      <td>0.141416</td>\n",
       "      <td>0.173246</td>\n",
       "    </tr>\n",
       "  </tbody>\n",
       "</table>\n",
       "<p>1 rows × 22 columns</p>\n",
       "</div>"
      ],
      "text/plain": [
       "                                                    In comparison to dogs, cats have not undergone major changes during the domestication process.\\n  \\\n",
       "In comparison to dogs, cats have not undergone ...                                                0.0                                                  \n",
       "\n",
       "                                                    As cat simply catenates streams of bytes, it can be also used to concatenate binary files, where it will just concatenate sequence of bytes.\\n  \\\n",
       "In comparison to dogs, cats have not undergone ...                                           0.112368                                                                                                \n",
       "\n",
       "                                                    A common interactive use of cat for a single file is to output the content of a file to standard output.\\n  \\\n",
       "In comparison to dogs, cats have not undergone ...                                           0.209901                                                            \n",
       "\n",
       "                                                    Cats can hear sounds too faint or too high in frequency for human ears, such as those made by mice and other small animals.\\n  \\\n",
       "In comparison to dogs, cats have not undergone ...                                            0.17181                                                                               \n",
       "\n",
       "                                                    In one, people deliberately tamed cats in a process of artificial selection, as they were useful predators of vermin.\\n  \\\n",
       "In comparison to dogs, cats have not undergone ...                                           0.108444                                                                         \n",
       "\n",
       "                                                    The domesticated cat and its closest wild ancestor are both diploid organisms that possess 38 chromosomes and roughly 20,000 genes.\\n  \\\n",
       "In comparison to dogs, cats have not undergone ...                                           0.138399                                                                                       \n",
       "\n",
       "                                                    Domestic cats are similar in size to the other members of the genus Felis, typically weighing between 4 and 5 kg (8.8 and 11.0 lb).\\n  \\\n",
       "In comparison to dogs, cats have not undergone ...                                           0.155061                                                                                       \n",
       "\n",
       "                                                    However, if the output is piped or redirected, cat is unnecessary.\\n  \\\n",
       "In comparison to dogs, cats have not undergone ...                                           0.191444                      \n",
       "\n",
       "                                                    cat with one named file is safer where human error is a concern - one wrong use of the default redirection symbol \">\" instead of \"<\" (often adjacent on keyboards) may permanently delete the file you were just needing to read.\\n  \\\n",
       "In comparison to dogs, cats have not undergone ...                                           0.123526                                                                                                                                                                                     \n",
       "\n",
       "                                                    In terms of legibility, a sequence of commands starting with cat and connected by pipes has a clear left-to-right flow of information.\\n  \\\n",
       "In comparison to dogs, cats have not undergone ...                                           0.166989                                                                                          \n",
       "\n",
       "                                                    ...  \\\n",
       "In comparison to dogs, cats have not undergone ...  ...   \n",
       "\n",
       "                                                    When you type simply cat command without any arguments, it just receives the stdin content and displays it in the stdout.\\n  \\\n",
       "In comparison to dogs, cats have not undergone ...                                           0.187923                                                                             \n",
       "\n",
       "                                                    Leopard was released on October 26, 2007 as the successor of Tiger (version 10.4), and is available in two editions.\\n  \\\n",
       "In comparison to dogs, cats have not undergone ...                                           0.138057                                                                        \n",
       "\n",
       "                                                    According to Apple, Leopard contains over 300 changes and enhancements over its predecessor, Mac OS X Tiger.\\n  \\\n",
       "In comparison to dogs, cats have not undergone ...                                           0.153244                                                                \n",
       "\n",
       "                                                    As of Mid 2010, some Apple computers have firmware factory installed which will no longer allow installation of Mac OS X Leopard.\\n  \\\n",
       "In comparison to dogs, cats have not undergone ...                                           0.159167                                                                                     \n",
       "\n",
       "                                                    Since Apple moved to using Intel processors in their computers, the OSx86 community has developed and now also allows Mac OS X Tiger and later releases to be installed on non-Apple x86-based computers.\\n  \\\n",
       "In comparison to dogs, cats have not undergone ...                                           0.118745                                                                                                                                                             \n",
       "\n",
       "                                                    OS X Mountain Lion was released on July 25, 2012 for purchase and download through Apple's Mac App Store, as part of a switch to releasing OS X versions online and every year.\\n  \\\n",
       "In comparison to dogs, cats have not undergone ...                                           0.173204                                                                                                                                   \n",
       "\n",
       "                                                    Apple has released a small patch for the three most recent versions of Safari running on OS X Yosemite, Mavericks, and Mountain Lion.\\n  \\\n",
       "In comparison to dogs, cats have not undergone ...                                           0.131435                                                                                         \n",
       "\n",
       "                                                    The Mountain Lion release marks the second time Apple has offered an incremental upgrade, rather than releasing a new cat entirely.\\n  \\\n",
       "In comparison to dogs, cats have not undergone ...                                           0.182513                                                                                       \n",
       "\n",
       "                                                    Mac OS X Mountain Lion installs in place, so you won't need to create a separate disk or run the installation off an external drive.\\n  \\\n",
       "In comparison to dogs, cats have not undergone ...                                           0.141416                                                                                        \n",
       "\n",
       "                                                    The fifth major update to Mac OS X, Leopard, contains such a mountain of features - more than 300 by Apple's count.\\n  \n",
       "In comparison to dogs, cats have not undergone ...                                           0.173246                                                                      \n",
       "\n",
       "[1 rows x 22 columns]"
      ]
     },
     "execution_count": 13,
     "metadata": {},
     "output_type": "execute_result"
    }
   ],
   "source": [
    "cosine_distances = pd.DataFrame(squareform(pdist(out.values, metric='cosine')), columns=out.index.values, index=out.index.values)\n",
    "cosine_distances.head(1)"
   ]
  },
  {
   "cell_type": "code",
   "execution_count": 14,
   "id": "5b78ea8a",
   "metadata": {},
   "outputs": [
    {
     "data": {
      "text/html": [
       "<div>\n",
       "<style scoped>\n",
       "    .dataframe tbody tr th:only-of-type {\n",
       "        vertical-align: middle;\n",
       "    }\n",
       "\n",
       "    .dataframe tbody tr th {\n",
       "        vertical-align: top;\n",
       "    }\n",
       "\n",
       "    .dataframe thead th {\n",
       "        text-align: right;\n",
       "    }\n",
       "</style>\n",
       "<table border=\"1\" class=\"dataframe\">\n",
       "  <thead>\n",
       "    <tr style=\"text-align: right;\">\n",
       "      <th></th>\n",
       "      <th>In comparison to dogs, cats have not undergone major changes during the domestication process.\\n</th>\n",
       "    </tr>\n",
       "  </thead>\n",
       "  <tbody>\n",
       "    <tr>\n",
       "      <th>In comparison to dogs, cats have not undergone major changes during the domestication process.\\n</th>\n",
       "      <td>0.000000</td>\n",
       "    </tr>\n",
       "    <tr>\n",
       "      <th>As cat simply catenates streams of bytes, it can be also used to concatenate binary files, where it will just concatenate sequence of bytes.\\n</th>\n",
       "      <td>0.112368</td>\n",
       "    </tr>\n",
       "    <tr>\n",
       "      <th>A common interactive use of cat for a single file is to output the content of a file to standard output.\\n</th>\n",
       "      <td>0.209901</td>\n",
       "    </tr>\n",
       "    <tr>\n",
       "      <th>Cats can hear sounds too faint or too high in frequency for human ears, such as those made by mice and other small animals.\\n</th>\n",
       "      <td>0.171810</td>\n",
       "    </tr>\n",
       "    <tr>\n",
       "      <th>In one, people deliberately tamed cats in a process of artificial selection, as they were useful predators of vermin.\\n</th>\n",
       "      <td>0.108444</td>\n",
       "    </tr>\n",
       "    <tr>\n",
       "      <th>The domesticated cat and its closest wild ancestor are both diploid organisms that possess 38 chromosomes and roughly 20,000 genes.\\n</th>\n",
       "      <td>0.138399</td>\n",
       "    </tr>\n",
       "    <tr>\n",
       "      <th>Domestic cats are similar in size to the other members of the genus Felis, typically weighing between 4 and 5 kg (8.8 and 11.0 lb).\\n</th>\n",
       "      <td>0.155061</td>\n",
       "    </tr>\n",
       "    <tr>\n",
       "      <th>However, if the output is piped or redirected, cat is unnecessary.\\n</th>\n",
       "      <td>0.191444</td>\n",
       "    </tr>\n",
       "    <tr>\n",
       "      <th>cat with one named file is safer where human error is a concern - one wrong use of the default redirection symbol \"&gt;\" instead of \"&lt;\" (often adjacent on keyboards) may permanently delete the file you were just needing to read.\\n</th>\n",
       "      <td>0.123526</td>\n",
       "    </tr>\n",
       "    <tr>\n",
       "      <th>In terms of legibility, a sequence of commands starting with cat and connected by pipes has a clear left-to-right flow of information.\\n</th>\n",
       "      <td>0.166989</td>\n",
       "    </tr>\n",
       "    <tr>\n",
       "      <th>Cat command is one of the basic commands that you learned when you started in the Unix / Linux world.\\n</th>\n",
       "      <td>0.200000</td>\n",
       "    </tr>\n",
       "    <tr>\n",
       "      <th>Using cat command, the lines received from stdin can be redirected to a new file using redirection symbols.\\n</th>\n",
       "      <td>0.180347</td>\n",
       "    </tr>\n",
       "    <tr>\n",
       "      <th>When you type simply cat command without any arguments, it just receives the stdin content and displays it in the stdout.\\n</th>\n",
       "      <td>0.187923</td>\n",
       "    </tr>\n",
       "    <tr>\n",
       "      <th>Leopard was released on October 26, 2007 as the successor of Tiger (version 10.4), and is available in two editions.\\n</th>\n",
       "      <td>0.138057</td>\n",
       "    </tr>\n",
       "    <tr>\n",
       "      <th>According to Apple, Leopard contains over 300 changes and enhancements over its predecessor, Mac OS X Tiger.\\n</th>\n",
       "      <td>0.153244</td>\n",
       "    </tr>\n",
       "    <tr>\n",
       "      <th>As of Mid 2010, some Apple computers have firmware factory installed which will no longer allow installation of Mac OS X Leopard.\\n</th>\n",
       "      <td>0.159167</td>\n",
       "    </tr>\n",
       "    <tr>\n",
       "      <th>Since Apple moved to using Intel processors in their computers, the OSx86 community has developed and now also allows Mac OS X Tiger and later releases to be installed on non-Apple x86-based computers.\\n</th>\n",
       "      <td>0.118745</td>\n",
       "    </tr>\n",
       "    <tr>\n",
       "      <th>OS X Mountain Lion was released on July 25, 2012 for purchase and download through Apple's Mac App Store, as part of a switch to releasing OS X versions online and every year.\\n</th>\n",
       "      <td>0.173204</td>\n",
       "    </tr>\n",
       "    <tr>\n",
       "      <th>Apple has released a small patch for the three most recent versions of Safari running on OS X Yosemite, Mavericks, and Mountain Lion.\\n</th>\n",
       "      <td>0.131435</td>\n",
       "    </tr>\n",
       "    <tr>\n",
       "      <th>The Mountain Lion release marks the second time Apple has offered an incremental upgrade, rather than releasing a new cat entirely.\\n</th>\n",
       "      <td>0.182513</td>\n",
       "    </tr>\n",
       "    <tr>\n",
       "      <th>Mac OS X Mountain Lion installs in place, so you won't need to create a separate disk or run the installation off an external drive.\\n</th>\n",
       "      <td>0.141416</td>\n",
       "    </tr>\n",
       "    <tr>\n",
       "      <th>The fifth major update to Mac OS X, Leopard, contains such a mountain of features - more than 300 by Apple's count.\\n</th>\n",
       "      <td>0.173246</td>\n",
       "    </tr>\n",
       "  </tbody>\n",
       "</table>\n",
       "</div>"
      ],
      "text/plain": [
       "                                                    In comparison to dogs, cats have not undergone major changes during the domestication process.\\n\n",
       "In comparison to dogs, cats have not undergone ...                                           0.000000                                               \n",
       "As cat simply catenates streams of bytes, it ca...                                           0.112368                                               \n",
       "A common interactive use of cat for a single fi...                                           0.209901                                               \n",
       "Cats can hear sounds too faint or too high in f...                                           0.171810                                               \n",
       "In one, people deliberately tamed cats in a pro...                                           0.108444                                               \n",
       "The domesticated cat and its closest wild ances...                                           0.138399                                               \n",
       "Domestic cats are similar in size to the other ...                                           0.155061                                               \n",
       "However, if the output is piped or redirected, ...                                           0.191444                                               \n",
       "cat with one named file is safer where human er...                                           0.123526                                               \n",
       "In terms of legibility, a sequence of commands ...                                           0.166989                                               \n",
       "Cat command is one of the basic commands that y...                                           0.200000                                               \n",
       "Using cat command, the lines received from stdi...                                           0.180347                                               \n",
       "When you type simply cat command without any ar...                                           0.187923                                               \n",
       "Leopard was released on October 26, 2007 as the...                                           0.138057                                               \n",
       "According to Apple, Leopard contains over 300 c...                                           0.153244                                               \n",
       "As of Mid 2010, some Apple computers have firmw...                                           0.159167                                               \n",
       "Since Apple moved to using Intel processors in ...                                           0.118745                                               \n",
       "OS X Mountain Lion was released on July 25, 201...                                           0.173204                                               \n",
       "Apple has released a small patch for the three ...                                           0.131435                                               \n",
       "The Mountain Lion release marks the second time...                                           0.182513                                               \n",
       "Mac OS X Mountain Lion installs in place, so yo...                                           0.141416                                               \n",
       "The fifth major update to Mac OS X, Leopard, co...                                           0.173246                                               "
      ]
     },
     "execution_count": 14,
     "metadata": {},
     "output_type": "execute_result"
    }
   ],
   "source": [
    "cos = cosine_distances.iloc[0,:]\n",
    "cosine = pd.DataFrame(cos)\n",
    "cosine"
   ]
  },
  {
   "cell_type": "markdown",
   "id": "2aded010",
   "metadata": {},
   "source": [
    "- From the output above, we see that **5th** (with 0.108444 cosine distance) and **2nd**  (with 0.112368 cosine distance) **sentences is close to the 1st sentence.**"
   ]
  },
  {
   "cell_type": "markdown",
   "id": "c3ec500a",
   "metadata": {},
   "source": [
    "## Task 2. Do the same step from Task 1 (steps 1 - 4)\n",
    "- In this task you will create Term Frequency — Inverse Document Frequency matrix. \n",
    "- Find the cosine distance from first sentence to the all other sentences. Which two sentences is close to the first sentence. You can use scipy.spatial.distance.cosine. Is the any difference from the result of the previous Task? Note: You should not to use any existing libraries for tdf/idf. All the steps similar to the previous example."
   ]
  },
  {
   "cell_type": "code",
   "execution_count": 15,
   "id": "61c884bd",
   "metadata": {
    "scrolled": true
   },
   "outputs": [],
   "source": [
    "df = open('words.txt', 'r')\n",
    "my_list2 = df.readlines()"
   ]
  },
  {
   "cell_type": "code",
   "execution_count": 16,
   "id": "98dcc3f5",
   "metadata": {},
   "outputs": [],
   "source": [
    "with open('words.txt', 'r') as inp2:\n",
    "    y2 = inp2.read().lower()\n",
    "with open('words.txt', 'a') as out2:\n",
    "    out2.write(y2)"
   ]
  },
  {
   "cell_type": "code",
   "execution_count": 26,
   "id": "4a74848b",
   "metadata": {},
   "outputs": [
    {
     "name": "stdout",
     "output_type": "stream",
     "text": [
      "['In comparison to dogs, cats have not undergone major changes during the domestication process.', 'As cat simply catenates streams of bytes, it can be also used to concatenate binary files, where it will just concatenate sequence of bytes.', 'A common interactive use of cat for a single file is to output the content of a file to standard output.', 'Cats can hear sounds too faint or too high in frequency for human ears, such as those made by mice and other small animals.', 'In one, people deliberately tamed cats in a process of artificial selection, as they were useful predators of vermin.', 'The domesticated cat and its closest wild ancestor are both diploid organisms that possess 38 chromosomes and roughly 20,000 genes.', 'Domestic cats are similar in size to the other members of the genus Felis, typically weighing between 4 and 5 kg (8.8 and 11.0 lb).', 'However, if the output is piped or redirected, cat is unnecessary.', 'cat with one named file is safer where human error is a concern - one wrong use of the default redirection symbol \">\" instead of \"<\" (often adjacent on keyboards) may permanently delete the file you were just needing to read.', 'In terms of legibility, a sequence of commands starting with cat and connected by pipes has a clear left-to-right flow of information.', 'Cat command is one of the basic commands that you learned when you started in the Unix / Linux world.', 'Using cat command, the lines received from stdin can be redirected to a new file using redirection symbols.', 'When you type simply cat command without any arguments, it just receives the stdin content and displays it in the stdout.', 'Leopard was released on October 26, 2007 as the successor of Tiger (version 10.4), and is available in two editions.', 'According to Apple, Leopard contains over 300 changes and enhancements over its predecessor, Mac OS X Tiger.', 'As of Mid 2010, some Apple computers have firmware factory installed which will no longer allow installation of Mac OS X Leopard.', 'Since Apple moved to using Intel processors in their computers, the OSx86 community has developed and now also allows Mac OS X Tiger and later releases to be installed on non-Apple x86-based computers.', \"OS X Mountain Lion was released on July 25, 2012 for purchase and download through Apple's Mac App Store, as part of a switch to releasing OS X versions online and every year.\", 'Apple has released a small patch for the three most recent versions of Safari running on OS X Yosemite, Mavericks, and Mountain Lion.', 'The Mountain Lion release marks the second time Apple has offered an incremental upgrade, rather than releasing a new cat entirely.', \"Mac OS X Mountain Lion installs in place, so you won't need to create a separate disk or run the installation off an external drive.\", \"The fifth major update to Mac OS X, Leopard, contains such a mountain of features - more than 300 by Apple's count.\"]\n"
     ]
    }
   ],
   "source": [
    "sentence_list2 = []\n",
    "\n",
    "for element in my_list:\n",
    "    sentence_list2.append(element.strip())\n",
    "\n",
    "print(sentence_list2)"
   ]
  },
  {
   "cell_type": "code",
   "execution_count": 18,
   "id": "06e6cf1f",
   "metadata": {},
   "outputs": [],
   "source": [
    "list2 = re.split('[^a-z]',y2)"
   ]
  },
  {
   "cell_type": "code",
   "execution_count": 27,
   "id": "dc368769",
   "metadata": {},
   "outputs": [
    {
     "name": "stdout",
     "output_type": "stream",
     "text": [
      "['in comparison to dogs, cats have not undergone major changes during the domestication process.', 'as cat simply catenates streams of bytes, it can be also used to concatenate binary files, where it will just concatenate sequence of bytes.', 'a common interactive use of cat for a single file is to output the content of a file to standard output.', 'cats can hear sounds too faint or too high in frequency for human ears, such as those made by mice and other small animals.', 'in one, people deliberately tamed cats in a process of artificial selection, as they were useful predators of vermin.', 'the domesticated cat and its closest wild ancestor are both diploid organisms that possess 38 chromosomes and roughly 20,000 genes.', 'domestic cats are similar in size to the other members of the genus felis, typically weighing between 4 and 5 kg (8.8 and 11.0 lb).', 'however, if the output is piped or redirected, cat is unnecessary.', 'cat with one named file is safer where human error is a concern - one wrong use of the default redirection symbol \">\" instead of \"<\" (often adjacent on keyboards) may permanently delete the file you were just needing to read.', 'in terms of legibility, a sequence of commands starting with cat and connected by pipes has a clear left-to-right flow of information.', 'cat command is one of the basic commands that you learned when you started in the unix / linux world.', 'using cat command, the lines received from stdin can be redirected to a new file using redirection symbols.', 'when you type simply cat command without any arguments, it just receives the stdin content and displays it in the stdout.', 'leopard was released on october 26, 2007 as the successor of tiger (version 10.4), and is available in two editions.', 'according to apple, leopard contains over 300 changes and enhancements over its predecessor, mac os x tiger.', 'as of mid 2010, some apple computers have firmware factory installed which will no longer allow installation of mac os x leopard.', 'since apple moved to using intel processors in their computers, the osx86 community has developed and now also allows mac os x tiger and later releases to be installed on non-apple x86-based computers.', \"os x mountain lion was released on july 25, 2012 for purchase and download through apple's mac app store, as part of a switch to releasing os x versions online and every year.\", 'apple has released a small patch for the three most recent versions of safari running on os x yosemite, mavericks, and mountain lion.', 'the mountain lion release marks the second time apple has offered an incremental upgrade, rather than releasing a new cat entirely.', \"mac os x mountain lion installs in place, so you won't need to create a separate disk or run the installation off an external drive.\", \"the fifth major update to mac os x, leopard, contains such a mountain of features - more than 300 by apple's count.\"]\n"
     ]
    }
   ],
   "source": [
    "for i in range(len(sentence_list2)):\n",
    "    sentence_list2[i] = sentence_list2[i].lower()\n",
    "print(sentence_list2)"
   ]
  },
  {
   "cell_type": "code",
   "execution_count": 28,
   "id": "0142057c",
   "metadata": {},
   "outputs": [
    {
     "data": {
      "text/plain": [
       "['in comparison to dogs cats have not undergone major changes during the domestication process',\n",
       " 'as cat simply catenates streams of bytes it can be also used to concatenate binary files where it will just concatenate sequence of bytes',\n",
       " 'a common interactive use of cat for a single file is to output the content of a file to standard output',\n",
       " 'cats can hear sounds too faint or too high in frequency for human ears such as those made by mice and other small animals',\n",
       " 'in one people deliberately tamed cats in a process of artificial selection as they were useful predators of vermin',\n",
       " 'the domesticated cat and its closest wild ancestor are both diploid organisms that possess 38 chromosomes and roughly 20000 genes',\n",
       " 'domestic cats are similar in size to the other members of the genus felis typically weighing between 4 and 5 kg 88 and 110 lb',\n",
       " 'however if the output is piped or redirected cat is unnecessary',\n",
       " 'cat with one named file is safer where human error is a concern  one wrong use of the default redirection symbol > instead of < often adjacent on keyboards may permanently delete the file you were just needing to read',\n",
       " 'in terms of legibility a sequence of commands starting with cat and connected by pipes has a clear lefttoright flow of information',\n",
       " 'cat command is one of the basic commands that you learned when you started in the unix  linux world',\n",
       " 'using cat command the lines received from stdin can be redirected to a new file using redirection symbols',\n",
       " 'when you type simply cat command without any arguments it just receives the stdin content and displays it in the stdout',\n",
       " 'leopard was released on october 26 2007 as the successor of tiger version 104 and is available in two editions',\n",
       " 'according to apple leopard contains over 300 changes and enhancements over its predecessor mac os x tiger',\n",
       " 'as of mid 2010 some apple computers have firmware factory installed which will no longer allow installation of mac os x leopard',\n",
       " 'since apple moved to using intel processors in their computers the osx86 community has developed and now also allows mac os x tiger and later releases to be installed on nonapple x86based computers',\n",
       " 'os x mountain lion was released on july 25 2012 for purchase and download through apples mac app store as part of a switch to releasing os x versions online and every year',\n",
       " 'apple has released a small patch for the three most recent versions of safari running on os x yosemite mavericks and mountain lion',\n",
       " 'the mountain lion release marks the second time apple has offered an incremental upgrade rather than releasing a new cat entirely',\n",
       " 'mac os x mountain lion installs in place so you wont need to create a separate disk or run the installation off an external drive',\n",
       " 'the fifth major update to mac os x leopard contains such a mountain of features  more than 300 by apples count']"
      ]
     },
     "execution_count": 28,
     "metadata": {},
     "output_type": "execute_result"
    }
   ],
   "source": [
    "words = [w.replace('-', '') for w in sentence_list2]\n",
    "words2 = [w1.replace(',', '') for w1 in words]\n",
    "words3 = [w2.replace('.', '') for w2 in words2]\n",
    "words4 = [w3.replace('/', '') for w3 in words3]\n",
    "words5 = [w4.replace('(', '') for w4 in words4]\n",
    "words6 = [w5.replace('\\'', '') for w5 in words5]\n",
    "words7 = [w6.replace(')', '') for w6 in words6]\n",
    "sentences = [w7.replace('\\\"', '') for w7 in words7]\n",
    "sentences"
   ]
  },
  {
   "cell_type": "code",
   "execution_count": 29,
   "id": "4910db23",
   "metadata": {},
   "outputs": [
    {
     "name": "stdout",
     "output_type": "stream",
     "text": [
      "['in', 'comparison', 'to', 'dogs', '', 'cats', 'have', 'not', 'undergone', 'major', 'changes', 'during', 'the', 'domestication', 'process', '', 'as', 'cat', 'simply', 'catenates', 'streams', 'of', 'bytes', '', 'it', 'can', 'be', 'also', 'used', 'to', 'concatenate', 'binary', 'files', '', 'where', 'it', 'will', 'just', 'concatenate', 'sequence', 'of', 'bytes', '', 'a', 'common', 'interactive', 'use', 'of', 'cat', 'for', 'a', 'single', 'file', 'is', 'to', 'output', 'the', 'content', 'of', 'a', 'file', 'to', 'standard', 'output', '', 'cats', 'can', 'hear', 'sounds', 'too', 'faint', 'or', 'too', 'high', 'in', 'frequency', 'for', 'human', 'ears', '', 'such', 'as', 'those', 'made', 'by', 'mice', 'and', 'other', 'small', 'animals', '', 'in', 'one', '', 'people', 'deliberately', 'tamed', 'cats', 'in', 'a', 'process', 'of', 'artificial', 'selection', '', 'as', 'they', 'were', 'useful', 'predators', 'of', 'vermin', '', 'the', 'domesticated', 'cat', 'and', 'its', 'closest', 'wild', 'ancestor', 'are', 'both', 'diploid', 'organisms', 'that', 'possess', '', '', '', 'chromosomes', 'and', 'roughly', '', '', '', '', '', '', '', 'genes', '', 'domestic', 'cats', 'are', 'similar', 'in', 'size', 'to', 'the', 'other', 'members', 'of', 'the', 'genus', 'felis', '', 'typically', 'weighing', 'between', '', '', 'and', '', '', 'kg', '', '', '', '', '', 'and', '', '', '', '', '', 'lb', '', '', 'however', '', 'if', 'the', 'output', 'is', 'piped', 'or', 'redirected', '', 'cat', 'is', 'unnecessary', '', 'cat', 'with', 'one', 'named', 'file', 'is', 'safer', 'where', 'human', 'error', 'is', 'a', 'concern', '', '', 'one', 'wrong', 'use', 'of', 'the', 'default', 'redirection', 'symbol', '', '', '', '', 'instead', 'of', '', '', '', '', '', 'often', 'adjacent', 'on', 'keyboards', '', 'may', 'permanently', 'delete', 'the', 'file', 'you', 'were', 'just', 'needing', 'to', 'read', '', 'in', 'terms', 'of', 'legibility', '', 'a', 'sequence', 'of', 'commands', 'starting', 'with', 'cat', 'and', 'connected', 'by', 'pipes', 'has', 'a', 'clear', 'left', 'to', 'right', 'flow', 'of', 'information', '', 'cat', 'command', 'is', 'one', 'of', 'the', 'basic', 'commands', 'that', 'you', 'learned', 'when', 'you', 'started', 'in', 'the', 'unix', '', '', 'linux', 'world', '', 'using', 'cat', 'command', '', 'the', 'lines', 'received', 'from', 'stdin', 'can', 'be', 'redirected', 'to', 'a', 'new', 'file', 'using', 'redirection', 'symbols', '', 'when', 'you', 'type', 'simply', 'cat', 'command', 'without', 'any', 'arguments', '', 'it', 'just', 'receives', 'the', 'stdin', 'content', 'and', 'displays', 'it', 'in', 'the', 'stdout', '', 'leopard', 'was', 'released', 'on', 'october', '', '', '', '', '', '', '', '', '', 'as', 'the', 'successor', 'of', 'tiger', '', 'version', '', '', '', '', '', '', '', 'and', 'is', 'available', 'in', 'two', 'editions', '', 'according', 'to', 'apple', '', 'leopard', 'contains', 'over', '', '', '', '', 'changes', 'and', 'enhancements', 'over', 'its', 'predecessor', '', 'mac', 'os', 'x', 'tiger', '', 'as', 'of', 'mid', '', '', '', '', '', '', 'some', 'apple', 'computers', 'have', 'firmware', 'factory', 'installed', 'which', 'will', 'no', 'longer', 'allow', 'installation', 'of', 'mac', 'os', 'x', 'leopard', '', 'since', 'apple', 'moved', 'to', 'using', 'intel', 'processors', 'in', 'their', 'computers', '', 'the', 'osx', '', '', 'community', 'has', 'developed', 'and', 'now', 'also', 'allows', 'mac', 'os', 'x', 'tiger', 'and', 'later', 'releases', 'to', 'be', 'installed', 'on', 'non', 'apple', 'x', '', '', 'based', 'computers', '', 'os', 'x', 'mountain', 'lion', 'was', 'released', 'on', 'july', '', '', '', '', '', '', '', '', '', 'for', 'purchase', 'and', 'download', 'through', 'apple', 's', 'mac', 'app', 'store', '', 'as', 'part', 'of', 'a', 'switch', 'to', 'releasing', 'os', 'x', 'versions', 'online', 'and', 'every', 'year', '', 'apple', 'has', 'released', 'a', 'small', 'patch', 'for', 'the', 'three', 'most', 'recent', 'versions', 'of', 'safari', 'running', 'on', 'os', 'x', 'yosemite', '', 'mavericks', '', 'and', 'mountain', 'lion', '', 'the', 'mountain', 'lion', 'release', 'marks', 'the', 'second', 'time', 'apple', 'has', 'offered', 'an', 'incremental', 'upgrade', '', 'rather', 'than', 'releasing', 'a', 'new', 'cat', 'entirely', '', 'mac', 'os', 'x', 'mountain', 'lion', 'installs', 'in', 'place', '', 'so', 'you', 'won', 't', 'need', 'to', 'create', 'a', 'separate', 'disk', 'or', 'run', 'the', 'installation', 'off', 'an', 'external', 'drive', '', 'the', 'fifth', 'major', 'update', 'to', 'mac', 'os', 'x', '', 'leopard', '', 'contains', 'such', 'a', 'mountain', 'of', 'features', '', '', 'more', 'than', '', '', '', '', 'by', 'apple', 's', 'count', '']\n"
     ]
    }
   ],
   "source": [
    "y = ' '.join([str(elem) for elem in sentence_list2])\n",
    "list2 = re.split('[^a-z]', y)\n",
    "print(list2)"
   ]
  },
  {
   "cell_type": "code",
   "execution_count": 30,
   "id": "ce38e83e",
   "metadata": {},
   "outputs": [
    {
     "name": "stdout",
     "output_type": "stream",
     "text": [
      "['in', 'comparison', 'to', 'dogs', 'cats', 'have', 'not', 'undergone', 'major', 'changes', 'during', 'the', 'domestication', 'process', 'as', 'cat', 'simply', 'catenates', 'streams', 'of', 'bytes', 'it', 'can', 'be', 'also', 'used', 'to', 'concatenate', 'binary', 'files', 'where', 'it', 'will', 'just', 'concatenate', 'sequence', 'of', 'bytes', 'a', 'common', 'interactive', 'use', 'of', 'cat', 'for', 'a', 'single', 'file', 'is', 'to', 'output', 'the', 'content', 'of', 'a', 'file', 'to', 'standard', 'output', 'cats', 'can', 'hear', 'sounds', 'too', 'faint', 'or', 'too', 'high', 'in', 'frequency', 'for', 'human', 'ears', 'such', 'as', 'those', 'made', 'by', 'mice', 'and', 'other', 'small', 'animals', 'in', 'one', 'people', 'deliberately', 'tamed', 'cats', 'in', 'a', 'process', 'of', 'artificial', 'selection', 'as', 'they', 'were', 'useful', 'predators', 'of', 'vermin', 'the', 'domesticated', 'cat', 'and', 'its', 'closest', 'wild', 'ancestor', 'are', 'both', 'diploid', 'organisms', 'that', 'possess', 'chromosomes', 'and', 'roughly', 'genes', 'domestic', 'cats', 'are', 'similar', 'in', 'size', 'to', 'the', 'other', 'members', 'of', 'the', 'genus', 'felis', 'typically', 'weighing', 'between', 'and', 'kg', 'and', 'lb', 'however', 'if', 'the', 'output', 'is', 'piped', 'or', 'redirected', 'cat', 'is', 'unnecessary', 'cat', 'with', 'one', 'named', 'file', 'is', 'safer', 'where', 'human', 'error', 'is', 'a', 'concern', 'one', 'wrong', 'use', 'of', 'the', 'default', 'redirection', 'symbol', 'instead', 'of', 'often', 'adjacent', 'on', 'keyboards', 'may', 'permanently', 'delete', 'the', 'file', 'you', 'were', 'just', 'needing', 'to', 'read', 'in', 'terms', 'of', 'legibility', 'a', 'sequence', 'of', 'commands', 'starting', 'with', 'cat', 'and', 'connected', 'by', 'pipes', 'has', 'a', 'clear', 'left', 'to', 'right', 'flow', 'of', 'information', 'cat', 'command', 'is', 'one', 'of', 'the', 'basic', 'commands', 'that', 'you', 'learned', 'when', 'you', 'started', 'in', 'the', 'unix', 'linux', 'world', 'using', 'cat', 'command', 'the', 'lines', 'received', 'from', 'stdin', 'can', 'be', 'redirected', 'to', 'a', 'new', 'file', 'using', 'redirection', 'symbols', 'when', 'you', 'type', 'simply', 'cat', 'command', 'without', 'any', 'arguments', 'it', 'just', 'receives', 'the', 'stdin', 'content', 'and', 'displays', 'it', 'in', 'the', 'stdout', 'leopard', 'was', 'released', 'on', 'october', 'as', 'the', 'successor', 'of', 'tiger', 'version', 'and', 'is', 'available', 'in', 'two', 'editions', 'according', 'to', 'apple', 'leopard', 'contains', 'over', 'changes', 'and', 'enhancements', 'over', 'its', 'predecessor', 'mac', 'os', 'x', 'tiger', 'as', 'of', 'mid', 'some', 'apple', 'computers', 'have', 'firmware', 'factory', 'installed', 'which', 'will', 'no', 'longer', 'allow', 'installation', 'of', 'mac', 'os', 'x', 'leopard', 'since', 'apple', 'moved', 'to', 'using', 'intel', 'processors', 'in', 'their', 'computers', 'the', 'osx', 'community', 'has', 'developed', 'and', 'now', 'also', 'allows', 'mac', 'os', 'x', 'tiger', 'and', 'later', 'releases', 'to', 'be', 'installed', 'on', 'non', 'apple', 'x', 'based', 'computers', 'os', 'x', 'mountain', 'lion', 'was', 'released', 'on', 'july', 'for', 'purchase', 'and', 'download', 'through', 'apple', 's', 'mac', 'app', 'store', 'as', 'part', 'of', 'a', 'switch', 'to', 'releasing', 'os', 'x', 'versions', 'online', 'and', 'every', 'year', 'apple', 'has', 'released', 'a', 'small', 'patch', 'for', 'the', 'three', 'most', 'recent', 'versions', 'of', 'safari', 'running', 'on', 'os', 'x', 'yosemite', 'mavericks', 'and', 'mountain', 'lion', 'the', 'mountain', 'lion', 'release', 'marks', 'the', 'second', 'time', 'apple', 'has', 'offered', 'an', 'incremental', 'upgrade', 'rather', 'than', 'releasing', 'a', 'new', 'cat', 'entirely', 'mac', 'os', 'x', 'mountain', 'lion', 'installs', 'in', 'place', 'so', 'you', 'won', 't', 'need', 'to', 'create', 'a', 'separate', 'disk', 'or', 'run', 'the', 'installation', 'off', 'an', 'external', 'drive', 'the', 'fifth', 'major', 'update', 'to', 'mac', 'os', 'x', 'leopard', 'contains', 'such', 'a', 'mountain', 'of', 'features', 'more', 'than', 'by', 'apple', 's', 'count']\n"
     ]
    }
   ],
   "source": [
    "not_empty2 = [string for string in list2 if string != \"\"]\n",
    "print(not_empty2)"
   ]
  },
  {
   "cell_type": "code",
   "execution_count": 31,
   "id": "ea963369",
   "metadata": {},
   "outputs": [
    {
     "name": "stdout",
     "output_type": "stream",
     "text": [
      "{0: 'a', 1: 'according', 2: 'adjacent', 3: 'allow', 4: 'allows', 5: 'also', 6: 'an', 7: 'ancestor', 8: 'and', 9: 'animals', 10: 'any', 11: 'app', 12: 'apple', 13: 'are', 14: 'arguments', 15: 'artificial', 16: 'as', 17: 'available', 18: 'based', 19: 'basic', 20: 'be', 21: 'between', 22: 'binary', 23: 'both', 24: 'by', 25: 'bytes', 26: 'can', 27: 'cat', 28: 'catenates', 29: 'cats', 30: 'changes', 31: 'chromosomes', 32: 'clear', 33: 'closest', 34: 'command', 35: 'commands', 36: 'common', 37: 'community', 38: 'comparison', 39: 'computers', 40: 'concatenate', 41: 'concern', 42: 'connected', 43: 'contains', 44: 'content', 45: 'count', 46: 'create', 47: 'default', 48: 'delete', 49: 'deliberately', 50: 'developed', 51: 'diploid', 52: 'disk', 53: 'displays', 54: 'dogs', 55: 'domestic', 56: 'domesticated', 57: 'domestication', 58: 'download', 59: 'drive', 60: 'during', 61: 'ears', 62: 'editions', 63: 'enhancements', 64: 'entirely', 65: 'error', 66: 'every', 67: 'external', 68: 'factory', 69: 'faint', 70: 'features', 71: 'felis', 72: 'fifth', 73: 'file', 74: 'files', 75: 'firmware', 76: 'flow', 77: 'for', 78: 'frequency', 79: 'from', 80: 'genes', 81: 'genus', 82: 'has', 83: 'have', 84: 'hear', 85: 'high', 86: 'however', 87: 'human', 88: 'if', 89: 'in', 90: 'incremental', 91: 'information', 92: 'installation', 93: 'installed', 94: 'installs', 95: 'instead', 96: 'intel', 97: 'interactive', 98: 'is', 99: 'it', 100: 'its', 101: 'july', 102: 'just', 103: 'keyboards', 104: 'kg', 105: 'later', 106: 'lb', 107: 'learned', 108: 'left', 109: 'legibility', 110: 'leopard', 111: 'lines', 112: 'linux', 113: 'lion', 114: 'longer', 115: 'mac', 116: 'made', 117: 'major', 118: 'marks', 119: 'mavericks', 120: 'may', 121: 'members', 122: 'mice', 123: 'mid', 124: 'more', 125: 'most', 126: 'mountain', 127: 'moved', 128: 'named', 129: 'need', 130: 'needing', 131: 'new', 132: 'no', 133: 'non', 134: 'not', 135: 'now', 136: 'october', 137: 'of', 138: 'off', 139: 'offered', 140: 'often', 141: 'on', 142: 'one', 143: 'online', 144: 'or', 145: 'organisms', 146: 'os', 147: 'osx', 148: 'other', 149: 'output', 150: 'over', 151: 'part', 152: 'patch', 153: 'people', 154: 'permanently', 155: 'piped', 156: 'pipes', 157: 'place', 158: 'possess', 159: 'predators', 160: 'predecessor', 161: 'process', 162: 'processors', 163: 'purchase', 164: 'rather', 165: 'read', 166: 'received', 167: 'receives', 168: 'recent', 169: 'redirected', 170: 'redirection', 171: 'release', 172: 'released', 173: 'releases', 174: 'releasing', 175: 'right', 176: 'roughly', 177: 'run', 178: 'running', 179: 's', 180: 'safari', 181: 'safer', 182: 'second', 183: 'selection', 184: 'separate', 185: 'sequence', 186: 'similar', 187: 'simply', 188: 'since', 189: 'single', 190: 'size', 191: 'small', 192: 'so', 193: 'some', 194: 'sounds', 195: 'standard', 196: 'started', 197: 'starting', 198: 'stdin', 199: 'stdout', 200: 'store', 201: 'streams', 202: 'successor', 203: 'such', 204: 'switch', 205: 'symbol', 206: 'symbols', 207: 't', 208: 'tamed', 209: 'terms', 210: 'than', 211: 'that', 212: 'the', 213: 'their', 214: 'they', 215: 'those', 216: 'three', 217: 'through', 218: 'tiger', 219: 'time', 220: 'to', 221: 'too', 222: 'two', 223: 'type', 224: 'typically', 225: 'undergone', 226: 'unix', 227: 'unnecessary', 228: 'update', 229: 'upgrade', 230: 'use', 231: 'used', 232: 'useful', 233: 'using', 234: 'vermin', 235: 'version', 236: 'versions', 237: 'was', 238: 'weighing', 239: 'were', 240: 'when', 241: 'where', 242: 'which', 243: 'wild', 244: 'will', 245: 'with', 246: 'without', 247: 'won', 248: 'world', 249: 'wrong', 250: 'x', 251: 'year', 252: 'yosemite', 253: 'you'}\n"
     ]
    }
   ],
   "source": [
    "myset2 = set(not_empty2)\n",
    "list_comp = {k: i for k, i in enumerate(sorted(myset2))}\n",
    "print(list_comp)"
   ]
  },
  {
   "cell_type": "code",
   "execution_count": 32,
   "id": "d2310a6d",
   "metadata": {
    "scrolled": true
   },
   "outputs": [
    {
     "name": "stdout",
     "output_type": "stream",
     "text": [
      "{'in': 11, 'comparison': 1, 'to': 14, 'dogs': 1, 'cats': 4, 'have': 2, 'not': 1, 'undergone': 1, 'major': 2, 'changes': 2, 'during': 1, 'the': 20, 'domestication': 1, 'process': 2, 'as': 6, 'cat': 10, 'simply': 2, 'catenates': 1, 'streams': 1, 'of': 19, 'bytes': 2, 'it': 4, 'can': 3, 'be': 3, 'also': 2, 'used': 1, 'concatenate': 2, 'binary': 1, 'files': 1, 'where': 2, 'will': 2, 'just': 3, 'sequence': 2, 'a': 13, 'common': 1, 'interactive': 1, 'use': 2, 'for': 4, 'single': 1, 'file': 5, 'is': 7, 'output': 3, 'content': 2, 'standard': 1, 'hear': 1, 'sounds': 1, 'too': 2, 'faint': 1, 'or': 3, 'high': 1, 'frequency': 1, 'human': 2, 'ears': 1, 'such': 2, 'those': 1, 'made': 1, 'by': 3, 'mice': 1, 'and': 14, 'other': 2, 'small': 2, 'animals': 1, 'one': 4, 'people': 1, 'deliberately': 1, 'tamed': 1, 'artificial': 1, 'selection': 1, 'they': 1, 'were': 2, 'useful': 1, 'predators': 1, 'vermin': 1, 'domesticated': 1, 'its': 2, 'closest': 1, 'wild': 1, 'ancestor': 1, 'are': 2, 'both': 1, 'diploid': 1, 'organisms': 1, 'that': 2, 'possess': 1, 'chromosomes': 1, 'roughly': 1, 'genes': 1, 'domestic': 1, 'similar': 1, 'size': 1, 'members': 1, 'genus': 1, 'felis': 1, 'typically': 1, 'weighing': 1, 'between': 1, 'kg': 1, 'lb': 1, 'however': 1, 'if': 1, 'piped': 1, 'redirected': 2, 'unnecessary': 1, 'with': 2, 'named': 1, 'safer': 1, 'error': 1, 'concern': 1, 'wrong': 1, 'default': 1, 'redirection': 2, 'symbol': 1, 'instead': 1, 'often': 1, 'adjacent': 1, 'on': 5, 'keyboards': 1, 'may': 1, 'permanently': 1, 'delete': 1, 'you': 5, 'needing': 1, 'read': 1, 'terms': 1, 'legibility': 1, 'commands': 2, 'starting': 1, 'connected': 1, 'pipes': 1, 'has': 4, 'clear': 1, 'left': 1, 'right': 1, 'flow': 1, 'information': 1, 'command': 3, 'basic': 1, 'learned': 1, 'when': 2, 'started': 1, 'unix': 1, 'linux': 1, 'world': 1, 'using': 3, 'lines': 1, 'received': 1, 'from': 1, 'stdin': 2, 'new': 2, 'symbols': 1, 'type': 1, 'without': 1, 'any': 1, 'arguments': 1, 'receives': 1, 'displays': 1, 'stdout': 1, 'leopard': 4, 'was': 2, 'released': 3, 'october': 1, 'successor': 1, 'tiger': 3, 'version': 1, 'available': 1, 'two': 1, 'editions': 1, 'according': 1, 'apple': 8, 'contains': 2, 'over': 2, 'enhancements': 1, 'predecessor': 1, 'mac': 6, 'os': 8, 'x': 9, 'mid': 1, 'some': 1, 'computers': 3, 'firmware': 1, 'factory': 1, 'installed': 2, 'which': 1, 'no': 1, 'longer': 1, 'allow': 1, 'installation': 2, 'since': 1, 'moved': 1, 'intel': 1, 'processors': 1, 'their': 1, 'osx': 1, 'community': 1, 'developed': 1, 'now': 1, 'allows': 1, 'later': 1, 'releases': 1, 'non': 1, 'based': 1, 'mountain': 5, 'lion': 4, 'july': 1, 'purchase': 1, 'download': 1, 'through': 1, 's': 2, 'app': 1, 'store': 1, 'part': 1, 'switch': 1, 'releasing': 2, 'versions': 2, 'online': 1, 'every': 1, 'year': 1, 'patch': 1, 'three': 1, 'most': 1, 'recent': 1, 'safari': 1, 'running': 1, 'yosemite': 1, 'mavericks': 1, 'release': 1, 'marks': 1, 'second': 1, 'time': 1, 'offered': 1, 'an': 2, 'incremental': 1, 'upgrade': 1, 'rather': 1, 'than': 2, 'entirely': 1, 'installs': 1, 'place': 1, 'so': 1, 'won': 1, 't': 1, 'need': 1, 'create': 1, 'separate': 1, 'disk': 1, 'run': 1, 'off': 1, 'external': 1, 'drive': 1, 'fifth': 1, 'update': 1, 'features': 1, 'more': 1, 'count': 1}\n"
     ]
    }
   ],
   "source": [
    "#Finding Term Frequency for unique words\n",
    "word_frequency = {i: not_empty2.count(i) for i in not_empty2}\n",
    "print(word_frequency)"
   ]
  },
  {
   "cell_type": "code",
   "execution_count": 33,
   "id": "85fd0664",
   "metadata": {},
   "outputs": [],
   "source": [
    "def compute_idf(word):\n",
    "#на вход берется слово, для которого считаем IDF\n",
    "#и корпус документов в виде списка списков слов\n",
    "        #количество документов, где встречается искомый термин\n",
    "        #считается как генератор списков\n",
    "        return np.log10(len(not_empty2)/sum([1.0 for i in not_empty2 if word in i]))"
   ]
  },
  {
   "cell_type": "code",
   "execution_count": 34,
   "id": "312dbf00",
   "metadata": {},
   "outputs": [
    {
     "name": "stdout",
     "output_type": "stream",
     "text": [
      "1.906694111260769\n"
     ]
    }
   ],
   "source": [
    "print(compute_idf('mac'))"
   ]
  },
  {
   "cell_type": "code",
   "execution_count": null,
   "id": "17e54415-5981-472d-85fe-4ed5feb0ca15",
   "metadata": {},
   "outputs": [],
   "source": []
  },
  {
   "cell_type": "code",
   "execution_count": null,
   "id": "b7724da2-4b80-4a24-a397-36fd31166fbb",
   "metadata": {},
   "outputs": [],
   "source": []
  },
  {
   "cell_type": "code",
   "execution_count": null,
   "id": "d5e417c9-eb78-4856-b1f9-72eeda875657",
   "metadata": {},
   "outputs": [],
   "source": []
  },
  {
   "cell_type": "code",
   "execution_count": null,
   "id": "abacef72-8b3d-4f5a-bd9c-84564bb4a49d",
   "metadata": {},
   "outputs": [],
   "source": []
  },
  {
   "cell_type": "markdown",
   "id": "180352c8",
   "metadata": {},
   "source": [
    "## Task 3. Please run the Hierarchy Clustering algorithm for the Task 1 and Task 2. And plot the dendrogram\n",
    "- Please explain your results. \n",
    "- NOTE: by default scipy.cluster.hierarchy it uses euclidean distance. You should change it to the cosine distance."
   ]
  },
  {
   "cell_type": "markdown",
   "id": "065df4da",
   "metadata": {},
   "source": [
    "## Task 3.1. The Hierarchy Clustering algorithm for the Task 1"
   ]
  },
  {
   "cell_type": "code",
   "execution_count": 37,
   "id": "801c580c",
   "metadata": {},
   "outputs": [
    {
     "ename": "ValueError",
     "evalue": "arrays must all be same length",
     "output_type": "error",
     "traceback": [
      "\u001b[1;31m---------------------------------------------------------------------------\u001b[0m",
      "\u001b[1;31mValueError\u001b[0m                                Traceback (most recent call last)",
      "\u001b[1;32m<ipython-input-37-400dc87a2cee>\u001b[0m in \u001b[0;36m<module>\u001b[1;34m\u001b[0m\n\u001b[0;32m      4\u001b[0m      \u001b[1;34m'X'\u001b[0m\u001b[1;33m:\u001b[0m \u001b[0mout\u001b[0m\u001b[1;33m.\u001b[0m\u001b[0mindex\u001b[0m\u001b[1;33m.\u001b[0m\u001b[0mvalues\u001b[0m\u001b[1;33m,\u001b[0m\u001b[1;33m\u001b[0m\u001b[1;33m\u001b[0m\u001b[0m\n\u001b[0;32m      5\u001b[0m      'Y': out.columns}\n\u001b[1;32m----> 6\u001b[1;33m \u001b[0mdata\u001b[0m \u001b[1;33m=\u001b[0m \u001b[0mpd\u001b[0m\u001b[1;33m.\u001b[0m\u001b[0mDataFrame\u001b[0m\u001b[1;33m(\u001b[0m\u001b[0mdata\u001b[0m\u001b[1;33m=\u001b[0m\u001b[0md\u001b[0m\u001b[1;33m)\u001b[0m\u001b[1;33m.\u001b[0m\u001b[0mset_index\u001b[0m\u001b[1;33m(\u001b[0m\u001b[1;34m\"Points\"\u001b[0m\u001b[1;33m)\u001b[0m\u001b[1;33m\u001b[0m\u001b[1;33m\u001b[0m\u001b[0m\n\u001b[0m\u001b[0;32m      7\u001b[0m \u001b[0mprint\u001b[0m\u001b[1;33m(\u001b[0m\u001b[0mdata\u001b[0m\u001b[1;33m)\u001b[0m\u001b[1;33m\u001b[0m\u001b[1;33m\u001b[0m\u001b[0m\n\u001b[0;32m      8\u001b[0m \u001b[1;33m\u001b[0m\u001b[0m\n",
      "\u001b[1;32mM:\\vs code\\lib\\site-packages\\pandas\\core\\frame.py\u001b[0m in \u001b[0;36m__init__\u001b[1;34m(self, data, index, columns, dtype, copy)\u001b[0m\n\u001b[0;32m    527\u001b[0m \u001b[1;33m\u001b[0m\u001b[0m\n\u001b[0;32m    528\u001b[0m         \u001b[1;32melif\u001b[0m \u001b[0misinstance\u001b[0m\u001b[1;33m(\u001b[0m\u001b[0mdata\u001b[0m\u001b[1;33m,\u001b[0m \u001b[0mdict\u001b[0m\u001b[1;33m)\u001b[0m\u001b[1;33m:\u001b[0m\u001b[1;33m\u001b[0m\u001b[1;33m\u001b[0m\u001b[0m\n\u001b[1;32m--> 529\u001b[1;33m             \u001b[0mmgr\u001b[0m \u001b[1;33m=\u001b[0m \u001b[0minit_dict\u001b[0m\u001b[1;33m(\u001b[0m\u001b[0mdata\u001b[0m\u001b[1;33m,\u001b[0m \u001b[0mindex\u001b[0m\u001b[1;33m,\u001b[0m \u001b[0mcolumns\u001b[0m\u001b[1;33m,\u001b[0m \u001b[0mdtype\u001b[0m\u001b[1;33m=\u001b[0m\u001b[0mdtype\u001b[0m\u001b[1;33m)\u001b[0m\u001b[1;33m\u001b[0m\u001b[1;33m\u001b[0m\u001b[0m\n\u001b[0m\u001b[0;32m    530\u001b[0m         \u001b[1;32melif\u001b[0m \u001b[0misinstance\u001b[0m\u001b[1;33m(\u001b[0m\u001b[0mdata\u001b[0m\u001b[1;33m,\u001b[0m \u001b[0mma\u001b[0m\u001b[1;33m.\u001b[0m\u001b[0mMaskedArray\u001b[0m\u001b[1;33m)\u001b[0m\u001b[1;33m:\u001b[0m\u001b[1;33m\u001b[0m\u001b[1;33m\u001b[0m\u001b[0m\n\u001b[0;32m    531\u001b[0m             \u001b[1;32mimport\u001b[0m \u001b[0mnumpy\u001b[0m\u001b[1;33m.\u001b[0m\u001b[0mma\u001b[0m\u001b[1;33m.\u001b[0m\u001b[0mmrecords\u001b[0m \u001b[1;32mas\u001b[0m \u001b[0mmrecords\u001b[0m\u001b[1;33m\u001b[0m\u001b[1;33m\u001b[0m\u001b[0m\n",
      "\u001b[1;32mM:\\vs code\\lib\\site-packages\\pandas\\core\\internals\\construction.py\u001b[0m in \u001b[0;36minit_dict\u001b[1;34m(data, index, columns, dtype)\u001b[0m\n\u001b[0;32m    285\u001b[0m             \u001b[0marr\u001b[0m \u001b[1;32mif\u001b[0m \u001b[1;32mnot\u001b[0m \u001b[0mis_datetime64tz_dtype\u001b[0m\u001b[1;33m(\u001b[0m\u001b[0marr\u001b[0m\u001b[1;33m)\u001b[0m \u001b[1;32melse\u001b[0m \u001b[0marr\u001b[0m\u001b[1;33m.\u001b[0m\u001b[0mcopy\u001b[0m\u001b[1;33m(\u001b[0m\u001b[1;33m)\u001b[0m \u001b[1;32mfor\u001b[0m \u001b[0marr\u001b[0m \u001b[1;32min\u001b[0m \u001b[0marrays\u001b[0m\u001b[1;33m\u001b[0m\u001b[1;33m\u001b[0m\u001b[0m\n\u001b[0;32m    286\u001b[0m         ]\n\u001b[1;32m--> 287\u001b[1;33m     \u001b[1;32mreturn\u001b[0m \u001b[0marrays_to_mgr\u001b[0m\u001b[1;33m(\u001b[0m\u001b[0marrays\u001b[0m\u001b[1;33m,\u001b[0m \u001b[0mdata_names\u001b[0m\u001b[1;33m,\u001b[0m \u001b[0mindex\u001b[0m\u001b[1;33m,\u001b[0m \u001b[0mcolumns\u001b[0m\u001b[1;33m,\u001b[0m \u001b[0mdtype\u001b[0m\u001b[1;33m=\u001b[0m\u001b[0mdtype\u001b[0m\u001b[1;33m)\u001b[0m\u001b[1;33m\u001b[0m\u001b[1;33m\u001b[0m\u001b[0m\n\u001b[0m\u001b[0;32m    288\u001b[0m \u001b[1;33m\u001b[0m\u001b[0m\n\u001b[0;32m    289\u001b[0m \u001b[1;33m\u001b[0m\u001b[0m\n",
      "\u001b[1;32mM:\\vs code\\lib\\site-packages\\pandas\\core\\internals\\construction.py\u001b[0m in \u001b[0;36marrays_to_mgr\u001b[1;34m(arrays, arr_names, index, columns, dtype, verify_integrity)\u001b[0m\n\u001b[0;32m     78\u001b[0m         \u001b[1;31m# figure out the index, if necessary\u001b[0m\u001b[1;33m\u001b[0m\u001b[1;33m\u001b[0m\u001b[1;33m\u001b[0m\u001b[0m\n\u001b[0;32m     79\u001b[0m         \u001b[1;32mif\u001b[0m \u001b[0mindex\u001b[0m \u001b[1;32mis\u001b[0m \u001b[1;32mNone\u001b[0m\u001b[1;33m:\u001b[0m\u001b[1;33m\u001b[0m\u001b[1;33m\u001b[0m\u001b[0m\n\u001b[1;32m---> 80\u001b[1;33m             \u001b[0mindex\u001b[0m \u001b[1;33m=\u001b[0m \u001b[0mextract_index\u001b[0m\u001b[1;33m(\u001b[0m\u001b[0marrays\u001b[0m\u001b[1;33m)\u001b[0m\u001b[1;33m\u001b[0m\u001b[1;33m\u001b[0m\u001b[0m\n\u001b[0m\u001b[0;32m     81\u001b[0m         \u001b[1;32melse\u001b[0m\u001b[1;33m:\u001b[0m\u001b[1;33m\u001b[0m\u001b[1;33m\u001b[0m\u001b[0m\n\u001b[0;32m     82\u001b[0m             \u001b[0mindex\u001b[0m \u001b[1;33m=\u001b[0m \u001b[0mensure_index\u001b[0m\u001b[1;33m(\u001b[0m\u001b[0mindex\u001b[0m\u001b[1;33m)\u001b[0m\u001b[1;33m\u001b[0m\u001b[1;33m\u001b[0m\u001b[0m\n",
      "\u001b[1;32mM:\\vs code\\lib\\site-packages\\pandas\\core\\internals\\construction.py\u001b[0m in \u001b[0;36mextract_index\u001b[1;34m(data)\u001b[0m\n\u001b[0;32m    399\u001b[0m             \u001b[0mlengths\u001b[0m \u001b[1;33m=\u001b[0m \u001b[0mlist\u001b[0m\u001b[1;33m(\u001b[0m\u001b[0mset\u001b[0m\u001b[1;33m(\u001b[0m\u001b[0mraw_lengths\u001b[0m\u001b[1;33m)\u001b[0m\u001b[1;33m)\u001b[0m\u001b[1;33m\u001b[0m\u001b[1;33m\u001b[0m\u001b[0m\n\u001b[0;32m    400\u001b[0m             \u001b[1;32mif\u001b[0m \u001b[0mlen\u001b[0m\u001b[1;33m(\u001b[0m\u001b[0mlengths\u001b[0m\u001b[1;33m)\u001b[0m \u001b[1;33m>\u001b[0m \u001b[1;36m1\u001b[0m\u001b[1;33m:\u001b[0m\u001b[1;33m\u001b[0m\u001b[1;33m\u001b[0m\u001b[0m\n\u001b[1;32m--> 401\u001b[1;33m                 \u001b[1;32mraise\u001b[0m \u001b[0mValueError\u001b[0m\u001b[1;33m(\u001b[0m\u001b[1;34m\"arrays must all be same length\"\u001b[0m\u001b[1;33m)\u001b[0m\u001b[1;33m\u001b[0m\u001b[1;33m\u001b[0m\u001b[0m\n\u001b[0m\u001b[0;32m    402\u001b[0m \u001b[1;33m\u001b[0m\u001b[0m\n\u001b[0;32m    403\u001b[0m             \u001b[1;32mif\u001b[0m \u001b[0mhave_dicts\u001b[0m\u001b[1;33m:\u001b[0m\u001b[1;33m\u001b[0m\u001b[1;33m\u001b[0m\u001b[0m\n",
      "\u001b[1;31mValueError\u001b[0m: arrays must all be same length"
     ]
    }
   ],
   "source": [
    "#create dataset\n",
    "d = {\"Points\":[\"P1\", \"P2\", \"P3\", \"P4\", \"P5\", \"P6\",\"P7\", \"P8\", \"P9\", \"P10\", \"P11\", \n",
    "               \"P12\",\"P13\", \"P14\", \"P15\", \"P16\", \"P17\", \"P18\",\"P19\", \"P20\", \"P21\", \"P22\"],\n",
    "     'X': out.index.values, \n",
    "     'Y': out.columns}\n",
    "data = pd.DataFrame(data=d).set_index(\"Points\")\n",
    "print(data)\n",
    "\n",
    "\n",
    "#vizualizing\n",
    "fig, ax = plt.subplots()\n",
    "data.plot('X', 'Y', kind='scatter', ax=ax)\n",
    "\n",
    "for k, v in df.iterrows():\n",
    "    ax.annotate(k, v,  fontsize=12)"
   ]
  },
  {
   "cell_type": "code",
   "execution_count": 25,
   "id": "c3d05252",
   "metadata": {},
   "outputs": [
    {
     "name": "stderr",
     "output_type": "stream",
     "text": [
      "/Users/aliluabk/opt/anaconda3/lib/python3.8/site-packages/numpy/core/_asarray.py:102: VisibleDeprecationWarning: Creating an ndarray from ragged nested sequences (which is a list-or-tuple of lists-or-tuples-or ndarrays with different lengths or shapes) is deprecated. If you meant to do this, you must specify 'dtype=object' when creating the ndarray.\n",
      "  return array(a, dtype, copy=False, order=order)\n"
     ]
    },
    {
     "ename": "TypeError",
     "evalue": "unhashable type: 'numpy.ndarray'",
     "output_type": "error",
     "traceback": [
      "\u001b[0;31m---------------------------------------------------------------------------\u001b[0m",
      "\u001b[0;31mTypeError\u001b[0m                                 Traceback (most recent call last)",
      "\u001b[0;32m<ipython-input-25-ae312d08b4cb>\u001b[0m in \u001b[0;36m<module>\u001b[0;34m\u001b[0m\n\u001b[1;32m      1\u001b[0m \u001b[0;32mimport\u001b[0m \u001b[0mscipy\u001b[0m\u001b[0;34m.\u001b[0m\u001b[0mcluster\u001b[0m\u001b[0;34m.\u001b[0m\u001b[0mhierarchy\u001b[0m \u001b[0;32mas\u001b[0m \u001b[0mmodel\u001b[0m\u001b[0;34m\u001b[0m\u001b[0;34m\u001b[0m\u001b[0m\n\u001b[0;32m----> 2\u001b[0;31m \u001b[0mdend_max\u001b[0m \u001b[0;34m=\u001b[0m \u001b[0mmodel\u001b[0m\u001b[0;34m.\u001b[0m\u001b[0mdendrogram\u001b[0m\u001b[0;34m(\u001b[0m\u001b[0mmodel\u001b[0m\u001b[0;34m.\u001b[0m\u001b[0mlinkage\u001b[0m\u001b[0;34m(\u001b[0m\u001b[0mout\u001b[0m\u001b[0;34m[\u001b[0m\u001b[0;34m[\u001b[0m\u001b[0mout\u001b[0m\u001b[0;34m.\u001b[0m\u001b[0mindex\u001b[0m\u001b[0;34m.\u001b[0m\u001b[0mvalues\u001b[0m\u001b[0;34m,\u001b[0m \u001b[0mout\u001b[0m\u001b[0;34m.\u001b[0m\u001b[0mcolumns\u001b[0m\u001b[0;34m.\u001b[0m\u001b[0mvalues\u001b[0m\u001b[0;34m]\u001b[0m\u001b[0;34m]\u001b[0m\u001b[0;34m,\u001b[0m \u001b[0mmethod\u001b[0m\u001b[0;34m=\u001b[0m\u001b[0;34m'complete'\u001b[0m\u001b[0;34m,\u001b[0m \u001b[0mmetric\u001b[0m \u001b[0;34m=\u001b[0m \u001b[0;34m'cosine'\u001b[0m\u001b[0;34m)\u001b[0m\u001b[0;34m,\u001b[0m \u001b[0mlabels\u001b[0m\u001b[0;34m=\u001b[0m\u001b[0mout\u001b[0m\u001b[0;34m.\u001b[0m\u001b[0mindex\u001b[0m\u001b[0;34m)\u001b[0m\u001b[0;34m\u001b[0m\u001b[0;34m\u001b[0m\u001b[0m\n\u001b[0m",
      "\u001b[0;32m~/opt/anaconda3/lib/python3.8/site-packages/pandas/core/frame.py\u001b[0m in \u001b[0;36m__getitem__\u001b[0;34m(self, key)\u001b[0m\n\u001b[1;32m   3028\u001b[0m             \u001b[0;32mif\u001b[0m \u001b[0mis_iterator\u001b[0m\u001b[0;34m(\u001b[0m\u001b[0mkey\u001b[0m\u001b[0;34m)\u001b[0m\u001b[0;34m:\u001b[0m\u001b[0;34m\u001b[0m\u001b[0;34m\u001b[0m\u001b[0m\n\u001b[1;32m   3029\u001b[0m                 \u001b[0mkey\u001b[0m \u001b[0;34m=\u001b[0m \u001b[0mlist\u001b[0m\u001b[0;34m(\u001b[0m\u001b[0mkey\u001b[0m\u001b[0;34m)\u001b[0m\u001b[0;34m\u001b[0m\u001b[0;34m\u001b[0m\u001b[0m\n\u001b[0;32m-> 3030\u001b[0;31m             \u001b[0mindexer\u001b[0m \u001b[0;34m=\u001b[0m \u001b[0mself\u001b[0m\u001b[0;34m.\u001b[0m\u001b[0mloc\u001b[0m\u001b[0;34m.\u001b[0m\u001b[0m_get_listlike_indexer\u001b[0m\u001b[0;34m(\u001b[0m\u001b[0mkey\u001b[0m\u001b[0;34m,\u001b[0m \u001b[0maxis\u001b[0m\u001b[0;34m=\u001b[0m\u001b[0;36m1\u001b[0m\u001b[0;34m,\u001b[0m \u001b[0mraise_missing\u001b[0m\u001b[0;34m=\u001b[0m\u001b[0;32mTrue\u001b[0m\u001b[0;34m)\u001b[0m\u001b[0;34m[\u001b[0m\u001b[0;36m1\u001b[0m\u001b[0;34m]\u001b[0m\u001b[0;34m\u001b[0m\u001b[0;34m\u001b[0m\u001b[0m\n\u001b[0m\u001b[1;32m   3031\u001b[0m \u001b[0;34m\u001b[0m\u001b[0m\n\u001b[1;32m   3032\u001b[0m         \u001b[0;31m# take() does not accept boolean indexers\u001b[0m\u001b[0;34m\u001b[0m\u001b[0;34m\u001b[0m\u001b[0;34m\u001b[0m\u001b[0m\n",
      "\u001b[0;32m~/opt/anaconda3/lib/python3.8/site-packages/pandas/core/indexing.py\u001b[0m in \u001b[0;36m_get_listlike_indexer\u001b[0;34m(self, key, axis, raise_missing)\u001b[0m\n\u001b[1;32m   1259\u001b[0m \u001b[0;34m\u001b[0m\u001b[0m\n\u001b[1;32m   1260\u001b[0m         \u001b[0;32mif\u001b[0m \u001b[0max\u001b[0m\u001b[0;34m.\u001b[0m\u001b[0m_index_as_unique\u001b[0m\u001b[0;34m:\u001b[0m\u001b[0;34m\u001b[0m\u001b[0;34m\u001b[0m\u001b[0m\n\u001b[0;32m-> 1261\u001b[0;31m             \u001b[0mindexer\u001b[0m \u001b[0;34m=\u001b[0m \u001b[0max\u001b[0m\u001b[0;34m.\u001b[0m\u001b[0mget_indexer_for\u001b[0m\u001b[0;34m(\u001b[0m\u001b[0mkeyarr\u001b[0m\u001b[0;34m)\u001b[0m\u001b[0;34m\u001b[0m\u001b[0;34m\u001b[0m\u001b[0m\n\u001b[0m\u001b[1;32m   1262\u001b[0m             \u001b[0mkeyarr\u001b[0m \u001b[0;34m=\u001b[0m \u001b[0max\u001b[0m\u001b[0;34m.\u001b[0m\u001b[0mreindex\u001b[0m\u001b[0;34m(\u001b[0m\u001b[0mkeyarr\u001b[0m\u001b[0;34m)\u001b[0m\u001b[0;34m[\u001b[0m\u001b[0;36m0\u001b[0m\u001b[0;34m]\u001b[0m\u001b[0;34m\u001b[0m\u001b[0;34m\u001b[0m\u001b[0m\n\u001b[1;32m   1263\u001b[0m         \u001b[0;32melse\u001b[0m\u001b[0;34m:\u001b[0m\u001b[0;34m\u001b[0m\u001b[0;34m\u001b[0m\u001b[0m\n",
      "\u001b[0;32m~/opt/anaconda3/lib/python3.8/site-packages/pandas/core/indexes/base.py\u001b[0m in \u001b[0;36mget_indexer_for\u001b[0;34m(self, target, **kwargs)\u001b[0m\n\u001b[1;32m   4958\u001b[0m         \"\"\"\n\u001b[1;32m   4959\u001b[0m         \u001b[0;32mif\u001b[0m \u001b[0mself\u001b[0m\u001b[0;34m.\u001b[0m\u001b[0m_index_as_unique\u001b[0m\u001b[0;34m:\u001b[0m\u001b[0;34m\u001b[0m\u001b[0;34m\u001b[0m\u001b[0m\n\u001b[0;32m-> 4960\u001b[0;31m             \u001b[0;32mreturn\u001b[0m \u001b[0mself\u001b[0m\u001b[0;34m.\u001b[0m\u001b[0mget_indexer\u001b[0m\u001b[0;34m(\u001b[0m\u001b[0mtarget\u001b[0m\u001b[0;34m,\u001b[0m \u001b[0;34m**\u001b[0m\u001b[0mkwargs\u001b[0m\u001b[0;34m)\u001b[0m\u001b[0;34m\u001b[0m\u001b[0;34m\u001b[0m\u001b[0m\n\u001b[0m\u001b[1;32m   4961\u001b[0m         \u001b[0mindexer\u001b[0m\u001b[0;34m,\u001b[0m \u001b[0m_\u001b[0m \u001b[0;34m=\u001b[0m \u001b[0mself\u001b[0m\u001b[0;34m.\u001b[0m\u001b[0mget_indexer_non_unique\u001b[0m\u001b[0;34m(\u001b[0m\u001b[0mtarget\u001b[0m\u001b[0;34m)\u001b[0m\u001b[0;34m\u001b[0m\u001b[0;34m\u001b[0m\u001b[0m\n\u001b[1;32m   4962\u001b[0m         \u001b[0;32mreturn\u001b[0m \u001b[0mindexer\u001b[0m\u001b[0;34m\u001b[0m\u001b[0;34m\u001b[0m\u001b[0m\n",
      "\u001b[0;32m~/opt/anaconda3/lib/python3.8/site-packages/pandas/core/indexes/base.py\u001b[0m in \u001b[0;36mget_indexer\u001b[0;34m(self, target, method, limit, tolerance)\u001b[0m\n\u001b[1;32m   3189\u001b[0m                 )\n\u001b[1;32m   3190\u001b[0m \u001b[0;34m\u001b[0m\u001b[0m\n\u001b[0;32m-> 3191\u001b[0;31m             \u001b[0mindexer\u001b[0m \u001b[0;34m=\u001b[0m \u001b[0mself\u001b[0m\u001b[0;34m.\u001b[0m\u001b[0m_engine\u001b[0m\u001b[0;34m.\u001b[0m\u001b[0mget_indexer\u001b[0m\u001b[0;34m(\u001b[0m\u001b[0mtarget\u001b[0m\u001b[0;34m.\u001b[0m\u001b[0m_get_engine_target\u001b[0m\u001b[0;34m(\u001b[0m\u001b[0;34m)\u001b[0m\u001b[0;34m)\u001b[0m\u001b[0;34m\u001b[0m\u001b[0;34m\u001b[0m\u001b[0m\n\u001b[0m\u001b[1;32m   3192\u001b[0m \u001b[0;34m\u001b[0m\u001b[0m\n\u001b[1;32m   3193\u001b[0m         \u001b[0;32mreturn\u001b[0m \u001b[0mensure_platform_int\u001b[0m\u001b[0;34m(\u001b[0m\u001b[0mindexer\u001b[0m\u001b[0;34m)\u001b[0m\u001b[0;34m\u001b[0m\u001b[0;34m\u001b[0m\u001b[0m\n",
      "\u001b[0;32mpandas/_libs/index.pyx\u001b[0m in \u001b[0;36mpandas._libs.index.IndexEngine.get_indexer\u001b[0;34m()\u001b[0m\n",
      "\u001b[0;32mpandas/_libs/hashtable_class_helper.pxi\u001b[0m in \u001b[0;36mpandas._libs.hashtable.PyObjectHashTable.lookup\u001b[0;34m()\u001b[0m\n",
      "\u001b[0;31mTypeError\u001b[0m: unhashable type: 'numpy.ndarray'"
     ]
    }
   ],
   "source": [
    "import scipy.cluster.hierarchy as model\n",
    "dend_max = model.dendrogram(model.linkage(out[['X', 'Y']], method='complete', metric = 'cosine'), labels=out.index)"
   ]
  },
  {
   "cell_type": "markdown",
   "id": "6caccc58",
   "metadata": {},
   "source": [
    "## Task 3.2. The Hierarchy Clustering algorithm for the Task 2"
   ]
  },
  {
   "cell_type": "code",
   "execution_count": null,
   "id": "5c79befa",
   "metadata": {},
   "outputs": [],
   "source": []
  }
 ],
 "metadata": {
  "kernelspec": {
   "display_name": "Python 3",
   "language": "python",
   "name": "python3"
  },
  "language_info": {
   "codemirror_mode": {
    "name": "ipython",
    "version": 3
   },
   "file_extension": ".py",
   "mimetype": "text/x-python",
   "name": "python",
   "nbconvert_exporter": "python",
   "pygments_lexer": "ipython3",
   "version": "3.8.8"
  }
 },
 "nbformat": 4,
 "nbformat_minor": 5
}
