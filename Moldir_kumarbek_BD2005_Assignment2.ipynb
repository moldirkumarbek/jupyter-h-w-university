{
 "cells": [
  {
   "cell_type": "markdown",
   "metadata": {},
   "source": [
    "# IDA: Assignment 2\n",
    "\n",
    "### Deadline: October 3 (until 23:59)\n",
    "\n",
    "\n",
    "**Instructions:** All answers should be provided in the notebook and then submitted to Moodle. Name of notebook should be in following format:\n",
    " - Name_group_Assignment2.ipynb (ex. Tony_Stark_2009_Assignment1.ipynb). PLEASE, use exactly the **same format.**\n",
    " - Try to use fewer cells for compilation (for example, you can use print for several answers, instead of printing each answer on a separate cell)\n",
    " - **PLEASE:** submit only one jupyter notebook (no zip or csv files) and with your names as in the instruction. Ohterwise, there will be punishment of 30% from your assignment mark.\n",
    " - **IMPORTANT NOTE:** you will get points only for correct answers, not for trials or wrong answers. Your notebook should run when we press **\"Restart Kernel\"** and then press **\"Run All\"**. We are going to check answers only after doing that. If your code do not compile and stops at any question, you will get zero for that question."
   ]
  },
  {
   "cell_type": "markdown",
   "metadata": {},
   "source": [
    "## Q1 (10%)\n",
    "Using **list comprehension** create a new list from `list_q1_1` and `list_q1_2`. For the values at the same position (index), you should have sum of elements if element of `list_q1_1` is smaller (strictly) than the element of `list_q1_2`. Otherwise, you should take their difference. \n",
    "\n",
    "***Note:*** *in the obtained list all values should be positive.*"
   ]
  },
  {
   "cell_type": "code",
   "execution_count": null,
   "metadata": {},
   "outputs": [],
   "source": [
    "list_q1_1 = [41, 21, 96, 34, 65, 46, 79, 73, 49, 85, 63, 51, 93, 84, 29, 62, 95, 39, 72, 66]\n",
    "print(list_q1_1)"
   ]
  },
  {
   "cell_type": "code",
   "execution_count": 4,
   "metadata": {},
   "outputs": [
    {
     "name": "stdout",
     "output_type": "stream",
     "text": [
      "[95, 76, 92, 91, 49, 61, 68, 32, 50, 29, 48, 82, 33, 81, 39, 69, 84, 74, 89, 15]\n"
     ]
    }
   ],
   "source": [
    "list_q1_2 = [95, 76, 92, 91, 49, 61, 68, 32, 50, 29, 48, 82, 33, 81, 39, 69, 84, 74, 89, 15]\n",
    "print(list_q1_2)"
   ]
  },
  {
   "cell_type": "code",
   "execution_count": 9,
   "metadata": {},
   "outputs": [
    {
     "name": "stdout",
     "output_type": "stream",
     "text": [
      "[136, 97, 4, 125, 16, 107, 11, 41, 99, 56, 15, 133, 60, 3, 68, 131, 11, 113, 161, 51]\n"
     ]
    }
   ],
   "source": [
    "#[expression1 if condition1 else expression2 for item in list]\n",
    "new_list = [ list_q1_1[i] + list_q1_2[i]  if list_q1_1[i] < list_q1_2[i]  else list_q1_1[i] - list_q1_2[i] for i in range(len(list_q1_1))]\n",
    "print(new_list)\n"
   ]
  },
  {
   "cell_type": "markdown",
   "metadata": {},
   "source": [
    "## Q2 (10%)\n",
    "Using **list comprehension** on `list_q2_1` and `list_q2_2` create a new list containing value pairs, where one of them is divisible by another, but do not include two equal elements. For example, (13, 91) should be included, but (91,91) should not)."
   ]
  },
  {
   "cell_type": "code",
   "execution_count": 19,
   "metadata": {},
   "outputs": [
    {
     "name": "stdout",
     "output_type": "stream",
     "text": [
      "[97, 29, 43, 96, 91, 22, 51, 83, 31, 13, 62, 19, 23, 26, 50, 70, 84, 67, 36, 35]\n"
     ]
    }
   ],
   "source": [
    "list_q2_1 = [97, 29, 43, 96, 91, 22, 51, 83, 31, 13,\n",
    "             62, 19, 23, 26, 50, 70, 84, 67, 36, 35]\n",
    "print(list_q2_1)"
   ]
  },
  {
   "cell_type": "code",
   "execution_count": 20,
   "metadata": {},
   "outputs": [
    {
     "name": "stdout",
     "output_type": "stream",
     "text": [
      "[31, 63, 98, 91, 46, 71, 37, 70, 75, 33, 74, 77, 40, 10, 11, 57, 84, 64, 18, 28]\n"
     ]
    }
   ],
   "source": [
    "list_q2_2 = [31, 63, 98, 91, 46, 71, 37, 70, 75, 33,\n",
    "             74, 77, 40, 10, 11, 57, 84, 64, 18, 28]\n",
    "print(list_q2_2)"
   ]
  },
  {
   "cell_type": "code",
   "execution_count": 21,
   "metadata": {},
   "outputs": [
    {
     "name": "stdout",
     "output_type": "stream",
     "text": [
      "[[(91, 13), (31, 62), (13, 91), (13, 26), (62, 31), (26, 13), (70, 35), (35, 70)]]\n"
     ]
    }
   ],
   "source": [
    "# your code here\n",
    "new_list = [ [ (i, j) for i in list_q2_1 for j in list_q2_1 if (i % j == 0 or j % i == 0) and i != j ]]\n",
    "print(new_list)"
   ]
  },
  {
   "cell_type": "markdown",
   "metadata": {},
   "source": [
    "## Q3 (10%)\n",
    "Using **list comprehension** obtain a list of all 2-digits prime numbers (for example, 13, 17, 19...).\n",
    "\n",
    "***Note:*** *it can be done with one line of code.*"
   ]
  },
  {
   "cell_type": "code",
   "execution_count": 30,
   "metadata": {},
   "outputs": [
    {
     "name": "stdout",
     "output_type": "stream",
     "text": [
      "[11, 13, 17, 19, 23, 29, 31, 37, 41, 43, 47, 53, 59, 61, 67, 71, 73, 79, 83, 89, 97]\n"
     ]
    }
   ],
   "source": [
    "# your code here\n",
    "new_list = [ i for i in range(10,100) if 0 not in [ i % j for j in range(2,int(i**0.5)+1)] ]\n",
    "print(new_list)"
   ]
  },
  {
   "cell_type": "markdown",
   "metadata": {},
   "source": [
    "## Q4 (10%)\n",
    "\n",
    "\n",
    "Using **list comprehension** create a windowing lists of 3 elements at a time with step 1 for `list_q4`. \n",
    "\n",
    "Your result should look as following: [[48, 95, 11], [95, 11, 46], [11, 46, 76],..]\n",
    "\n",
    "***Note:*** *it can be done with one line of code.*"
   ]
  },
  {
   "cell_type": "code",
   "execution_count": 32,
   "metadata": {
    "scrolled": true
   },
   "outputs": [
    {
     "name": "stdout",
     "output_type": "stream",
     "text": [
      "[48, 95, 11, 46, 76, 75, 35, 78, 81, 58, 17, 26, 97, 63, 93, 57, 28, 85, 54, 62]\n"
     ]
    }
   ],
   "source": [
    "list_q4 = [48, 95, 11, 46, 76, 75, 35, 78, 81, 58, \n",
    "           17, 26, 97, 63, 93, 57, 28, 85, 54, 62]\n",
    "print(list_q4)"
   ]
  },
  {
   "cell_type": "code",
   "execution_count": 46,
   "metadata": {},
   "outputs": [
    {
     "name": "stdout",
     "output_type": "stream",
     "text": [
      "[[48, 95, 11], [95, 11, 46], [11, 46, 76], [46, 76, 75], [76, 75, 35], [75, 35, 78], [35, 78, 81], [78, 81, 58], [81, 58, 17], [58, 17, 26], [17, 26, 97], [26, 97, 63], [97, 63, 93], [63, 93, 57], [93, 57, 28], [57, 28, 85], [28, 85, 54], [85, 54, 62]]\n"
     ]
    }
   ],
   "source": [
    "# your code here\n",
    "new_list = [ list_q4[i:i+3] for i in range(len(list_q4)-2)]\n",
    "# for i in range(len(list_q4)-2):\n",
    "#     new_list.append(list_q4[i:i+3])\n",
    "\n",
    "print(new_list)"
   ]
  },
  {
   "cell_type": "markdown",
   "metadata": {},
   "source": [
    "## Q5 (10%)\n",
    "For the string below using **dictionary comprihension** create a dictionary, where key - possible word length, and value - number of words of this length. \n",
    "\n",
    "***Note:*** *you should not consider keys which are not appearing in the text.*"
   ]
  },
  {
   "cell_type": "code",
   "execution_count": 2,
   "metadata": {},
   "outputs": [
    {
     "name": "stdout",
     "output_type": "stream",
     "text": [
      "From they fine john he give of rich he. They age and draw mrs like. Improving end distrusts may instantly was household applauded incommode. Why kept very ever home mrs. Considered sympathize ten uncommonly occasional assistance sufficient not. Letter of on become he tended active enable to. Vicinity relation sensible sociable surprise screened no up as.Death weeks early had their and folly timed put. Hearted forbade on an village ye in fifteen. Age attended betrayed her man raptures laughter. Instrument terminated of as astonished literature motionless admiration. The affection are determine how performed intention discourse but. On merits on so valley indeed assure of. Has add particular boisterous uncommonly are. Early wrong as so manor match. Him necessary shameless discovery consulted one but.\n"
     ]
    }
   ],
   "source": [
    "string_q5 = \"From they fine john he give of rich he. They age and draw mrs like. Improving end distrusts may instantly was household applauded incommode. Why kept very ever home mrs. Considered sympathize ten uncommonly occasional assistance sufficient not. Letter of on become he tended active enable to. Vicinity relation sensible sociable surprise screened no up as.Death weeks early had their and folly timed put. Hearted forbade on an village ye in fifteen. Age attended betrayed her man raptures laughter. Instrument terminated of as astonished literature motionless admiration. The affection are determine how performed intention discourse but. On merits on so valley indeed assure of. Has add particular boisterous uncommonly are. Early wrong as so manor match. Him necessary shameless discovery consulted one but.\"\n",
    "print(string_q5)"
   ]
  },
  {
   "cell_type": "code",
   "execution_count": 6,
   "metadata": {},
   "outputs": [
    {
     "data": {
      "text/plain": [
       "{4: ['From',\n",
       "  'they',\n",
       "  'fine',\n",
       "  'john',\n",
       "  'give',\n",
       "  'rich',\n",
       "  'They',\n",
       "  'draw',\n",
       "  'like',\n",
       "  'kept',\n",
       "  'very',\n",
       "  'ever',\n",
       "  'home'],\n",
       " 2: ['he',\n",
       "  'of',\n",
       "  'he',\n",
       "  'of',\n",
       "  'on',\n",
       "  'he',\n",
       "  'to',\n",
       "  'no',\n",
       "  'up',\n",
       "  'as',\n",
       "  'on',\n",
       "  'an',\n",
       "  'ye',\n",
       "  'in',\n",
       "  'of',\n",
       "  'as',\n",
       "  'On',\n",
       "  'on',\n",
       "  'so',\n",
       "  'of',\n",
       "  'as',\n",
       "  'so'],\n",
       " 0: ['', '', '', '', '', '', '', '', '', '', '', '', '', '', ''],\n",
       " 3: ['age',\n",
       "  'and',\n",
       "  'mrs',\n",
       "  'end',\n",
       "  'may',\n",
       "  'was',\n",
       "  'Why',\n",
       "  'mrs',\n",
       "  'ten',\n",
       "  'not',\n",
       "  'had',\n",
       "  'and',\n",
       "  'put',\n",
       "  'Age',\n",
       "  'her',\n",
       "  'man',\n",
       "  'The',\n",
       "  'are',\n",
       "  'how',\n",
       "  'but',\n",
       "  'Has',\n",
       "  'add',\n",
       "  'are',\n",
       "  'Him',\n",
       "  'one',\n",
       "  'but'],\n",
       " 9: ['Improving',\n",
       "  'distrusts',\n",
       "  'instantly',\n",
       "  'household',\n",
       "  'applauded',\n",
       "  'incommode',\n",
       "  'affection',\n",
       "  'determine',\n",
       "  'performed',\n",
       "  'intention',\n",
       "  'discourse',\n",
       "  'necessary',\n",
       "  'shameless',\n",
       "  'discovery',\n",
       "  'consulted'],\n",
       " 10: ['Considered',\n",
       "  'sympathize',\n",
       "  'uncommonly',\n",
       "  'occasional',\n",
       "  'assistance',\n",
       "  'sufficient',\n",
       "  'Instrument',\n",
       "  'terminated',\n",
       "  'astonished',\n",
       "  'literature',\n",
       "  'motionless',\n",
       "  'admiration',\n",
       "  'particular',\n",
       "  'boisterous',\n",
       "  'uncommonly'],\n",
       " 6: ['Letter',\n",
       "  'become',\n",
       "  'tended',\n",
       "  'active',\n",
       "  'enable',\n",
       "  'merits',\n",
       "  'valley',\n",
       "  'indeed',\n",
       "  'assure'],\n",
       " 8: ['Vicinity',\n",
       "  'relation',\n",
       "  'sensible',\n",
       "  'sociable',\n",
       "  'surprise',\n",
       "  'screened',\n",
       "  'attended',\n",
       "  'betrayed',\n",
       "  'raptures',\n",
       "  'laughter'],\n",
       " 5: ['Death',\n",
       "  'weeks',\n",
       "  'early',\n",
       "  'their',\n",
       "  'folly',\n",
       "  'timed',\n",
       "  'Early',\n",
       "  'wrong',\n",
       "  'manor',\n",
       "  'match'],\n",
       " 7: ['Hearted', 'forbade', 'village', 'fifteen']}"
      ]
     },
     "execution_count": 6,
     "metadata": {},
     "output_type": "execute_result"
    }
   ],
   "source": [
    "# # your code here\n",
    "# # new_string = {len(word): len([ text for text in string_q5.split(' ') if len(text) == len(word) ]) for word in string_q5.split(' ') }   \n",
    "# # print(new_string)\n",
    "# string_q5 = string_q5.maketrans('.',' ')\n",
    "def remove_symbol(string_q5):\n",
    "    import string\n",
    "    word = string.punctuation\n",
    "    replace = \" \"*len(word)\n",
    "    text = str.maketrans(word,replace)\n",
    "    string_q5 = string_q5.translate(text)\n",
    "    new_string = { len(word): [ text for text in string_q5.split(' ') if len(text) == len(word) ] for word in string_q5.split(' ') }\n",
    "    return new_string\n",
    "remove_symbol(string_q5)\n",
    "# string_q5 = ''.join(ch for ch in text if ch not in punctuation)\n",
    "# string_q5 = string_q5.punctuation()\n",
    "\n",
    "# string_q5 = string_q5.replace('.',\" \")\n",
    "\n",
    "# new_string = { len(word): [ text for text in string_q5.split(' ') if len(text) == len(word) ] for word in string_q5.split(' ') }\n",
    "# print(new_string)"
   ]
  },
  {
   "cell_type": "markdown",
   "metadata": {},
   "source": [
    "## Q6 (10%)\n",
    "Using numpy create two arbitrary matrices A and B of size 3x3 with only 2-digit numbers. And then apply different matrix operations:\n",
    "1. addition\n",
    "2. subtraction\n",
    "3. pointwise multiplication\n",
    "4. pointwise division\n",
    "5. matrix dot product\n",
    "6. transpose\n",
    "7. determinant\n",
    "8. rank\n",
    "9. inverse"
   ]
  },
  {
   "cell_type": "code",
   "execution_count": 36,
   "metadata": {},
   "outputs": [],
   "source": [
    "import numpy as np"
   ]
  },
  {
   "cell_type": "code",
   "execution_count": 37,
   "metadata": {},
   "outputs": [
    {
     "name": "stdout",
     "output_type": "stream",
     "text": [
      "#1\n",
      " [[29 30 30]\n",
      " [30 30 30]\n",
      " [30 30 29]]\n",
      "#2\n",
      " [[-9 -6 -4]\n",
      " [-2  0  2]\n",
      " [ 4  6  9]]\n",
      "#3\n",
      " [[190 216 221]\n",
      " [224 225 224]\n",
      " [221 216 190]]\n",
      "#4\n",
      " [[0.52631579 0.66666667 0.76470588]\n",
      " [0.875      1.         1.14285714]\n",
      " [1.30769231 1.5        1.9       ]]\n",
      "#5\n",
      " [[551 516 468]\n",
      " [714 669 608]\n",
      " [858 804 731]]\n",
      "#6\n",
      " [[10 14 17]\n",
      " [12 15 18]\n",
      " [13 16 19]]\n",
      "#7\n",
      " 30.000000000000004\n",
      "#8\n",
      " [[0 1 2]\n",
      " [0 1 2]\n",
      " [2 0 1]]\n",
      "#9\n",
      " [[-1.          1.          0.        ]\n",
      " [ 1.         -1.96666667  1.        ]\n",
      " [-0.          1.         -1.        ]]\n"
     ]
    }
   ],
   "source": [
    "# your code here\n",
    "A = np.array([[10,12,13],[14,15,16],[17,18,19]])\n",
    "B = np.array([[19,18,17],[16,15,14],[13,12,10]])\n",
    "print(\"#1\\n\",np.add(A,B))\n",
    "print(\"#2\\n\",np.subtract(A,B))\n",
    "print(\"#3\\n\",np.multiply(A,B))\n",
    "print(\"#4\\n\",np.divide(A,B))\n",
    "print(\"#5\\n\",np.dot(A,B))\n",
    "print(\"#6\\n\",np.transpose(A))\n",
    "print(\"#7\\n\",np.linalg.det(A+B))\n",
    "print(\"#8\\n\",np.argsort(A+B))\n",
    "print(\"#9\\n\",np.linalg.inv(A+B))"
   ]
  },
  {
   "cell_type": "markdown",
   "metadata": {},
   "source": [
    "## Q7 (10%)\n",
    "For the list below obtain numpy array and then do the following steps:\n",
    "1. Find all indexes for values between 40 and 60 (both included).\n",
    "2. Find all values between 40 and 60 (both included).\n",
    "3. Find all numbers divisible by 3 or 5 or 7.\n",
    "4. Find all prime numbers in this array (you may use list obtained in Q3)."
   ]
  },
  {
   "cell_type": "code",
   "execution_count": 90,
   "metadata": {},
   "outputs": [
    {
     "name": "stdout",
     "output_type": "stream",
     "text": [
      "[53, 58, 93, 96, 40, 97, 95, 24, 27, 61, 15, 25, 47, 22, 45, 50, 99, 37, 13, 17, 90, 13, 23, 54, 80, 83, 98, 14, 70, 30]\n"
     ]
    }
   ],
   "source": [
    "list_q7 = [53, 58, 93, 96, 40, 97, 95, 24, 27, 61, \n",
    "           15, 25, 47, 22, 45, 50, 99, 37, 13, 17, \n",
    "           90, 13, 23, 54, 80, 83, 98, 14, 70, 30]\n",
    "print(list_q7)"
   ]
  },
  {
   "cell_type": "code",
   "execution_count": 92,
   "metadata": {},
   "outputs": [
    {
     "name": "stdout",
     "output_type": "stream",
     "text": [
      "#1\n",
      " (array([ 0,  1,  4, 12, 14, 15, 23], dtype=int64),)\n",
      "#2\n",
      " [53 58 40 47 45 50 54]\n",
      "#3\n",
      " [93 96 40 95 24 27 15 25 45 50 99 90 54 80 70 30]\n",
      "#4\n",
      " [53 58 93 96 40 97 95 24 27 61 15 25 47 22 45 50 99 37 13 17 90 13 23 54\n",
      " 80 83 98 14 70 30]\n"
     ]
    }
   ],
   "source": [
    "# your code here\n",
    "#1\n",
    "a = np.array(list_q7)\n",
    "print(\"#1\\n\",np.where(np.logical_and(a > 39, a < 61)))\n",
    "#2\n",
    "print(\"#2\\n\",a[(a > 39)*(a < 61)] )\n",
    "#3 \n",
    "print(\"#3\\n\",a[np.logical_or(a%3==0, a%5==0, a%7==0)])\n",
    "#4\n",
    "arr = np.array(list_q7)\n",
    "# arr2 = np.array(que3_list)\n",
    "print(\"#4\\n\",arr)"
   ]
  },
  {
   "cell_type": "markdown",
   "metadata": {},
   "source": [
    "## Q8 (10%)\n",
    "Do the following tasks:\n",
    "1. Create an array of all 3-digit numbers divisible by 33. \n",
    "2. Create an array of 19 elements betweem 10 and 100.\n",
    "3. Create an array of size 20 with random 2-digit values. Replace all numbers divisible by 3 to 'abc'.\n",
    "4. Create an array of size 20 with random 2-digit values. Find 3 smallest and 3 largest elements. "
   ]
  },
  {
   "cell_type": "code",
   "execution_count": 84,
   "metadata": {},
   "outputs": [
    {
     "name": "stdout",
     "output_type": "stream",
     "text": [
      "#1\n",
      "[132 165 198 231 264 297 330 363 396 429 462 495 528 561 594 627 660 693\n",
      " 726 759 792 825 858 891 924 957 990]\n",
      "#2\n",
      "[62 30 13 53 55 94 47 98 14 11 71 85 36 87 86 81 89 56 88]\n",
      "[[10 12 13]\n",
      " [14 15 16]\n",
      " [17 18 19]\n",
      " [20 28 27]\n",
      " [26 25 24]\n",
      " [23 22 30]\n",
      " [39 38 37]\n",
      " [36 35 34]\n",
      " [33 32 40]\n",
      " [49 48 47]\n",
      " [46 45 44]\n",
      " [43 42 40]\n",
      " [49 48 47]\n",
      " [46 45 44]\n",
      " [43 42 50]\n",
      " [59 58 57]\n",
      " [56 55 54]\n",
      " [53 52 60]\n",
      " [69 68 67]]\n",
      "#3\n",
      " [49 98 23 27 14 13 93 86 95 59 23 26 21 94 44 42 56 80 87 16]\n",
      "['49' '98' '23' 'abc' '14' '13' 'abc' '86' '95' '59' '23' '26' 'abc' '94'\n",
      " '44' 'abc' '56' '80' 'abc' '16']\n",
      "#4\n",
      " [32 95 37 32 67 78 58 16 88 28 46 12 52 94 63 26 83 28 65 65]\n",
      "smallest\n",
      " [12 16 26]\n",
      "largest\n",
      " [88 94 95]\n"
     ]
    }
   ],
   "source": [
    "# your code here\n",
    "print(\"#1\")\n",
    "arr = np.arange(100, 1000).reshape(900)\n",
    "print(arr[arr%33 == 0])\n",
    "\n",
    "print(\"#2\")\n",
    "m = np.random.randint(10, 100, (19))\n",
    "print(m)\n",
    "\n",
    "a = np.array([[10,12,13],[14,15,16],[17,18,19], \n",
    "             [20,28,27],[26,25,24],[23,22,30],\n",
    "             [39,38,37],[36,35,34],[33,32,40],\n",
    "             [49,48,47],[46,45,44],[43,42,40],\n",
    "             [49,48,47],[46,45,44],[43,42,50],\n",
    "             [59,58,57],[56,55,54],[53,52,60],[69,68,67]])\n",
    "print(a)\n",
    "\n",
    "#3\n",
    "c = np.random.randint(10, 100, (20))\n",
    "print(\"#3\\n\",c)\n",
    "print(np.where(c%3 == 0, 'abc', c))\n",
    "#4\n",
    "arr = np.random.randint(10, 100, (20))\n",
    "print(\"#4\\n\",arr)\n",
    "n = 3\n",
    "print(\"smallest\\n\",np.partition(arr,n)[:n])\n",
    "print(\"largest\\n\",np.partition(arr,-n)[-n:])"
   ]
  },
  {
   "cell_type": "markdown",
   "metadata": {},
   "source": [
    "## Q9 (10%)\n",
    "Create a matrix of size 4x4 with random 2-digit numbers. Do the following tasks:\n",
    "1. Find mean along rows and mean along columns.\n",
    "2. Find max along rows and max along columns.\n",
    "3. Find indexes of min and max values.\n",
    "4. Iteratre over matrix, and print its index as (i,j) and corresponding value. For example, Index: (1,1), Value: 50."
   ]
  },
  {
   "cell_type": "code",
   "execution_count": 65,
   "metadata": {},
   "outputs": [
    {
     "name": "stdout",
     "output_type": "stream",
     "text": [
      "#1\n",
      "\n",
      "[32.75 67.25 38.   49.5 ]\n",
      "[41.75 58.75 41.   46.  ] \n",
      "\n",
      "#2\n",
      "\n",
      "[57 99 52 83]\n",
      "[73 88 57 99] \n",
      "\n",
      "#3\n",
      "\n",
      "13\n",
      "11 \n",
      "\n",
      "#4\n",
      "\n",
      "index: (0, 0) value: 14\n",
      "index: (0, 1) value: 37\n",
      "index: (0, 2) value: 43\n",
      "index: (0, 3) value: 73\n",
      "index: (1, 0) value: 37\n",
      "index: (1, 1) value: 88\n",
      "index: (1, 2) value: 27\n",
      "index: (1, 3) value: 83\n",
      "index: (2, 0) value: 57\n",
      "index: (2, 1) value: 45\n",
      "index: (2, 2) value: 52\n",
      "index: (2, 3) value: 10\n",
      "index: (3, 0) value: 23\n",
      "index: (3, 1) value: 99\n",
      "index: (3, 2) value: 30\n",
      "index: (3, 3) value: 32\n"
     ]
    }
   ],
   "source": [
    "# your code here\n",
    "#1\n",
    "a = np.random.randint(10,100, (4,4))\n",
    "print(\"#1\\n\")\n",
    "#column means\n",
    "print(a.mean(axis=0))\n",
    "#row means\n",
    "print(a.mean(axis=1),\"\\n\")\n",
    "#2\n",
    "print(\"#2\\n\")\n",
    "print(a.max(axis=0))\n",
    "print(a.max(axis=1),\"\\n\")\n",
    "#3\n",
    "print(\"#3\\n\")\n",
    "print(np.argmax(a))\n",
    "print(np.argmin(a),\"\\n\")\n",
    "#4\n",
    "print(\"#4\\n\")\n",
    "for index, value in np.ndenumerate(a):\n",
    "    print(\"index:\",index, \"value:\", value)"
   ]
  },
  {
   "cell_type": "markdown",
   "metadata": {},
   "source": [
    "## Q10 (10%)\n",
    "Create a matrix of size 5x5 with random 2-digit numbers. Do the following tasks:\n",
    "1. Reverse both along rows and columns.\n",
    "2. Sort along rows in descending order.\n",
    "3. Sort along columns in descending order.\n",
    "4. Sort all 25 elements in descending order, i.e. at index (1,1) you should have the largest element, and at index (5,5) the smallest element. "
   ]
  },
  {
   "cell_type": "code",
   "execution_count": 66,
   "metadata": {},
   "outputs": [
    {
     "name": "stdout",
     "output_type": "stream",
     "text": [
      "#1:\n",
      " [[74 25 95 36 50]\n",
      " [88 67  4 59 61]\n",
      " [53 57 36 70 38]\n",
      " [37 36 32 99  7]\n",
      " [76 92  7 61 93]]\n",
      "#2:\n",
      " [[25 36 50 74 95]\n",
      " [ 4 59 61 67 88]\n",
      " [36 38 53 57 70]\n",
      " [ 7 32 36 37 99]\n",
      " [ 7 61 76 92 93]]\n",
      "#3:\n",
      " [[ 7 99 32 36 37]\n",
      " [38 70 36 57 53]\n",
      " [50 36 95 25 74]\n",
      " [61 59  4 67 88]\n",
      " [93 61  7 92 76]]\n",
      "#4:\n",
      " [[ 7 61 76 92 93]\n",
      " [ 7 32 36 37 99]\n",
      " [36 38 53 57 70]\n",
      " [ 4 59 61 67 88]\n",
      " [25 36 50 74 95]]\n",
      "\n",
      " [[93 92 76 61  7]\n",
      " [99 37 36 32  7]\n",
      " [70 57 53 38 36]\n",
      " [88 67 61 59  4]\n",
      " [95 74 50 36 25]]\n"
     ]
    }
   ],
   "source": [
    "# your code here\n",
    "#1\n",
    "a = np.random.randint(1,100, (5,5))\n",
    "print(\"#1:\\n\",np.flip(a))\n",
    "#2\n",
    "print(\"#2:\\n\",np.sort(a)[::-1])\n",
    "#3\n",
    "print(\"#3:\\n\",a[a[:, 0].argsort()])\n",
    "#4\n",
    "print(\"#4:\\n\",np.sort(a))\n",
    "print(\"\\n\",-np.sort(-a))"
   ]
  },
  {
   "cell_type": "markdown",
   "metadata": {},
   "source": [
    "---\n",
    "\n",
    "### Evaluation (Keep it!)\n",
    "\n",
    "| Question | Mark     | Comment   \n",
    "|:-------:|:--------:|:----------------------\n",
    "| 1       |   10/10    |     \n",
    "| 2       |   10/10     | \n",
    "| 3       |   10/10     | \n",
    "| 4       |   10/10     | \n",
    "| 5       |   10/10    |     \n",
    "| 6       |   10/10     | \n",
    "| 7       |   10/10     | \n",
    "| 8       |   10/10     | \n",
    "| 9       |   10/10     | \n",
    "| 10       |   10/10     | \n",
    "|**Total**|**100/100**  | \n"
   ]
  }
 ],
 "metadata": {
  "kernelspec": {
   "display_name": "Python 3",
   "language": "python",
   "name": "python3"
  },
  "language_info": {
   "codemirror_mode": {
    "name": "ipython",
    "version": 3
   },
   "file_extension": ".py",
   "mimetype": "text/x-python",
   "name": "python",
   "nbconvert_exporter": "python",
   "pygments_lexer": "ipython3",
   "version": "3.8.8"
  }
 },
 "nbformat": 4,
 "nbformat_minor": 4
}
