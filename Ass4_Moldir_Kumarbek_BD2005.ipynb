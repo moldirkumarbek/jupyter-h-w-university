{
 "cells": [
  {
   "cell_type": "markdown",
   "id": "88320c5e-a0cb-464d-9a43-765155d7f297",
   "metadata": {},
   "source": [
    "## Assignment 4"
   ]
  },
  {
   "cell_type": "markdown",
   "id": "053d3c91-75f4-4ee5-889b-4476d1b7bd87",
   "metadata": {},
   "source": [
    "### Moldir Kumarbek BD2005"
   ]
  },
  {
   "cell_type": "markdown",
   "id": "5ab542cd-0656-48e9-a009-f607de4b14e3",
   "metadata": {},
   "source": [
    "# K-means"
   ]
  },
  {
   "cell_type": "markdown",
   "id": "86c2ecbb-0aa0-4b53-944f-442df063d682",
   "metadata": {},
   "source": [
    "Foreword:\n",
    "Will implement K-means clustering and use it to compress images. We'll start with a simple 2D dataset to understand how K-means works, and then we'll apply it to image compression. We'll also experiment with principal component analysis and see how it can be used to find low-dimensional representations of face images.\n",
    "\n",
    "Implementation principle:\n",
    "We will implement and apply K-means to a simple 2D dataset to get some intuition of how it works. K-means is an iterative, unsupervised clustering algorithm that groups similar instances into clusters. The algorithm starts by guessing the initial cluster center for each cluster, then repeatedly assigns instances to the nearest cluster and recalculates the cluster center for that cluster.\n",
    "\n",
    "The first part we want to implement is a function that finds the closest cluster center for each instance in the data.\n",
    "\n",
    "first part:\n",
    "The first part we want to implement is a function that finds the closest cluster center for each instance in the data.\n",
    "\n",
    "Let's test this function to make sure it's working correctly. We will use the test cases provided in the exercise."
   ]
  },
  {
   "cell_type": "code",
   "execution_count": 23,
   "id": "211e1de8",
   "metadata": {},
   "outputs": [],
   "source": [
    "import scipy.io\n",
    "import numpy as np\n",
    "df = scipy.io.loadmat('ex7data2.mat')"
   ]
  },
  {
   "cell_type": "code",
   "execution_count": 24,
   "id": "7b0cfa7a",
   "metadata": {},
   "outputs": [],
   "source": [
    "# For consistency, here we set centroids to specific values\n",
    "# but in practice you want to generate them automatically, such as by\n",
    "# settings them to be random examples (as can be seen in\n",
    "# kMeansInitCentroids).\n",
    "X = df['X']\n",
    "initial_centroids = np.array([[3, 3], [6, 2], [8, 5]])\n",
    "\n"
   ]
  },
  {
   "cell_type": "code",
   "execution_count": 25,
   "id": "2a9944e6",
   "metadata": {},
   "outputs": [],
   "source": [
    "def findClosestCentroids(X, centroids):\n",
    "    K = centroids.shape[0]\n",
    "    idx = np.zeros((X.shape[0],1))\n",
    "    temp = np.zeros((centroids.shape[0],1))\n",
    "    for i in range(X.shape[0]):\n",
    "        for j in range(K):\n",
    "            dist = X[i,:] - centroids[j,:]\n",
    "            length = np.sum(dist**2)\n",
    "            temp[j] = length\n",
    "        idx[i] = np.argmin(temp)\n",
    "    return idx"
   ]
  },
  {
   "cell_type": "code",
   "execution_count": 26,
   "id": "7dc88fae",
   "metadata": {},
   "outputs": [
    {
     "name": "stdout",
     "output_type": "stream",
     "text": [
      "Closest centroids for the first 3 examples:\n",
      "[[0.]\n",
      " [2.]\n",
      " [1.]]\n",
      "(the closest centroids should be 0, 2, 1 respectively)\n"
     ]
    }
   ],
   "source": [
    "idx = findClosestCentroids(X, initial_centroids)\n",
    "print('Closest centroids for the first 3 examples:')\n",
    "print(idx[:3])\n",
    "print('(the closest centroids should be 0, 2, 1 respectively)')\n"
   ]
  },
  {
   "cell_type": "markdown",
   "id": "fcdba79b-552b-4e76-a25c-46f656f68bd7",
   "metadata": {},
   "source": [
    "Given assignments of every point to a centroid, the second phase of the algorithm recomputes, for each centroid, the mean of the points that were assigned to it. Specically, for every centroid k we set\n",
    "\n",
    " \n",
    " \n",
    "where  is the set of examples that are assigned to centroid k. Concretely, if two examples say  and  are assigned to centroid k = 2, then you should update \n",
    " \n",
    ".\n",
    "\n",
    "You should now complete the code in computeCentroids. You can implement this function using a loop over the centroids. You can also use a loop over the examples; but if you can use a vectorized implementation that does not use such a loop, your code may run faster.\n",
    "\n",
    "Once you have completed the code in computeCentroids.m, the script will run your code and output the centroids after the first step of K-means."
   ]
  },
  {
   "cell_type": "code",
   "execution_count": 27,
   "id": "a4219cfc",
   "metadata": {},
   "outputs": [],
   "source": [
    "K = 3"
   ]
  },
  {
   "cell_type": "code",
   "execution_count": 28,
   "id": "afdbb180",
   "metadata": {},
   "outputs": [],
   "source": [
    "def computeCentroids(X, idx, K):\n",
    "    m, n = X.shape[0],X.shape[1]\n",
    "    centroids = np.zeros((K,n))\n",
    "    count = np.zeros((K,1))\n",
    "    for i in range(m):\n",
    "        index = int((idx[i]-1)[0])\n",
    "        centroids[index,:]+=X[i,:]\n",
    "        count[index]+=1\n",
    "    return centroids/count"
   ]
  },
  {
   "cell_type": "markdown",
   "id": "b8b106a1-b571-4786-9042-acd3735f78ea",
   "metadata": {},
   "source": [
    "The output matches the expected value in the text (our array is zero-indexed instead of one-indexed, so the value is 1 lower than in the exercise). Next, we need a function to compute the centroid of the cluster. The centroid is the average of all examples currently assigned to the cluster."
   ]
  },
  {
   "cell_type": "code",
   "execution_count": 29,
   "id": "05d0ecc8",
   "metadata": {},
   "outputs": [
    {
     "name": "stdout",
     "output_type": "stream",
     "text": [
      "Computing centroids means.\n",
      "Centroids computed after initial finding of closest centroids: \n",
      "[[5.81350331 2.63365645]\n",
      " [7.11938687 3.6166844 ]\n",
      " [2.42830111 3.15792418]]\n",
      "\n",
      "(the centroids should be)\n",
      "[ 2.428301 3.157924 ]\n",
      "[ 5.813503 2.633656 ]\n",
      "[ 7.119387 3.616684 ]\n"
     ]
    }
   ],
   "source": [
    "print('Computing centroids means.')\n",
    "centroids = computeCentroids(X, idx, K)\n",
    "print('Centroids computed after initial finding of closest centroids: ')\n",
    "print(centroids)\n",
    "print()\n",
    "print('(the centroids should be)')\n",
    "print('[ 2.428301 3.157924 ]')\n",
    "print('[ 5.813503 2.633656 ]')\n",
    "print('[ 7.119387 3.616684 ]')"
   ]
  },
  {
   "cell_type": "code",
   "execution_count": 31,
   "id": "1d45781c-6612-4205-8434-ab5854f37f7d",
   "metadata": {},
   "outputs": [],
   "source": [
    "max_iters = 10\n",
    "for i in range(max_iters):\n",
    "    idx = findClosestCentroids(X, initial_centroids)\n",
    "    centroids = computeCentroids(X, idx, K)"
   ]
  },
  {
   "cell_type": "code",
   "execution_count": 32,
   "id": "995924de-09e1-4a6d-bc05-b4099bf40b77",
   "metadata": {},
   "outputs": [
    {
     "name": "stdout",
     "output_type": "stream",
     "text": [
      "[0. 2. 1.]\n"
     ]
    }
   ],
   "source": [
    "import numpy as np\n",
    "import pandas as pd\n",
    "import matplotlib.pyplot as plt\n",
    "import seaborn as sb\n",
    "from scipy.io import loadmat\n",
    "\n",
    "def find_closest_centroids(X, centroids):\n",
    "    m = X.shape[0]\n",
    "    k = centroids.shape[0]\n",
    "    idx = np.zeros(m)\n",
    "\n",
    "    for i in range(m):\n",
    "        min_dist = 1000000\n",
    "        for j in range(k):\n",
    "            dist = np.sum((X[i,:] - centroids[j,:]) ** 2)\n",
    "            if dist < min_dist:\n",
    "                min_dist = dist\n",
    "                idx[i] =j\n",
    "    return idx\n",
    "data = loadmat('ex7data2.mat')\n",
    "X = data['X']\n",
    "initial_centroids = initial_centroids = np.array([[3,3],[6,2],[8,5]])\n",
    "idx = find_closest_centroids(X,initial_centroids)\n",
    "print(idx[0:3])"
   ]
  },
  {
   "cell_type": "markdown",
   "id": "5f9f7e12-c751-45e5-aa61-aa1ab1f3b095",
   "metadata": {},
   "source": [
    "The output matches the expected value in the text\n",
    "\n",
    "(Remember that our array is indexed from zero, not one, so the value is one lower than the value in the exercise).\n",
    "\n",
    "Next, we need a function to calculate the cluster center of the cluster. The cluster center is simply the average of all the samples currently assigned to the cluster."
   ]
  },
  {
   "cell_type": "code",
   "execution_count": 33,
   "id": "f56718c4-715a-41eb-9236-8179f382755d",
   "metadata": {},
   "outputs": [
    {
     "name": "stdout",
     "output_type": "stream",
     "text": [
      "         X1        X2\n",
      "0  1.842080  4.607572\n",
      "1  5.658583  4.799964\n",
      "2  6.352579  3.290854\n",
      "3  2.904017  4.612204\n",
      "4  3.231979  4.939894\n"
     ]
    },
    {
     "name": "stderr",
     "output_type": "stream",
     "text": [
      "M:\\vs code\\lib\\site-packages\\seaborn\\_decorators.py:36: FutureWarning: Pass the following variables as keyword args: x, y. From version 0.12, the only valid positional argument will be `data`, and passing other arguments without an explicit keyword will result in an error or misinterpretation.\n",
      "  warnings.warn(\n"
     ]
    },
    {
     "data": {
      "image/png": "[encoded data removed]",
      "text/plain": [
       "<Figure size 360x360 with 1 Axes>"
      ]
     },
     "metadata": {},
     "output_type": "display_data"
    }
   ],
   "source": [
    "data2 = pd.DataFrame(data.get('X'),columns=['X1','X2'])\n",
    "print(data2.head())\n",
    "\n",
    "sb.set(context=\"notebook\",style=\"white\")\n",
    "sb.lmplot('X1','X2',data=data2, fit_reg=False)\n",
    "plt.show()"
   ]
  },
  {
   "cell_type": "code",
   "execution_count": 35,
   "id": "d920f075-4233-4df7-8c12-6c12ce9e4500",
   "metadata": {},
   "outputs": [
    {
     "name": "stdout",
     "output_type": "stream",
     "text": [
      "[[2.42830111 3.15792418]\n",
      " [5.81350331 2.63365645]\n",
      " [7.11938687 3.6166844 ]]\n"
     ]
    }
   ],
   "source": [
    "def compute_centroids(X,idx,k):\n",
    "    m, n =X.shape\n",
    "    centroids = np.zeros((k,n))\n",
    "\n",
    "    for i in range(k):\n",
    "        indices = np.where(idx == i)\n",
    "        centroids[i,:] = (np.sum(X[indices,:],\n",
    "                          axis=1)/len(indices[0])).ravel()\n",
    "\n",
    "    return centroids\n",
    "print(compute_centroids(X,idx,3))"
   ]
  },
  {
   "cell_type": "markdown",
   "id": "4e26e819-9491-4840-b3ab-017654d90fb5",
   "metadata": {},
   "source": [
    "This output also matches what is expected in the exercise.\n",
    "\n",
    "The next section involves actually running the algorithm for some iterations and visualizing the results. This step is because it's not complicated, I'm going to build it from scratch. To run the algorithm, we just need to assign the samples to the nearest clusters and recalculate the cluster centers of the clusters."
   ]
  },
  {
   "cell_type": "code",
   "execution_count": 38,
   "id": "fd931b16-3cba-4c9f-b1d4-7422f715e246",
   "metadata": {},
   "outputs": [
    {
     "data": {
      "image/png": "[encoded data removed]",
      "text/plain": [
       "<Figure size 864x576 with 1 Axes>"
      ]
     },
     "metadata": {},
     "output_type": "display_data"
    }
   ],
   "source": [
    "def run_k_means(X,initial_centroids,max_iters):\n",
    "    m, n =X.shape\n",
    "    k = initial_centroids.shape[0]\n",
    "    idx = np.zeros(m)\n",
    "    centroids = initial_centroids\n",
    "\n",
    "    for i in range(max_iters):\n",
    "        idx = find_closest_centroids(X,centroids)\n",
    "        centroids = compute_centroids(X,idx,k)\n",
    "\n",
    "    return idx, centroids\n",
    "idx, centroids = run_k_means(X,initial_centroids,10)\n",
    "cluster1 = X[np.where(idx ==0)[0],:]\n",
    "cluster2 = X[np.where(idx ==1)[0],:]\n",
    "cluster3 = X[np.where(idx ==2)[0],:]\n",
    "\n",
    "fig, ax =plt.subplots(figsize=(12,8))\n",
    "ax.scatter(cluster1[:,0],cluster1[:,1],s=30,color='r',label='Cluster 1')\n",
    "ax.scatter(cluster2[:,0],cluster2[:,1],s=30,color='g',label='Cluster 2')\n",
    "ax.scatter(cluster3[:,0],cluster3[:,1],s=30,color='b',label='Cluster 3')\n",
    "ax.legend()\n",
    "plt.show()"
   ]
  },
  {
   "cell_type": "code",
   "execution_count": null,
   "id": "6d405a9d-dd8d-45cd-ab6e-97f517769330",
   "metadata": {},
   "outputs": [],
   "source": []
  },
  {
   "cell_type": "code",
   "execution_count": null,
   "id": "8bbb9b20-2dd4-403f-99ee-fe892ec33939",
   "metadata": {},
   "outputs": [],
   "source": []
  },
  {
   "cell_type": "code",
   "execution_count": null,
   "id": "5c6d9467-c0a9-4b88-863a-2e2f05c5e3d4",
   "metadata": {},
   "outputs": [],
   "source": []
  }
 ],
 "metadata": {
  "kernelspec": {
   "display_name": "Python 3",
   "language": "python",
   "name": "python3"
  },
  "language_info": {
   "codemirror_mode": {
    "name": "ipython",
    "version": 3
   },
   "file_extension": ".py",
   "mimetype": "text/x-python",
   "name": "python",
   "nbconvert_exporter": "python",
   "pygments_lexer": "ipython3",
   "version": "3.8.8"
  }
 },
 "nbformat": 4,
 "nbformat_minor": 5
}
