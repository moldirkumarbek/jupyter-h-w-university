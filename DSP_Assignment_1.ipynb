{
 "cells": [
  {
   "cell_type": "markdown",
   "metadata": {},
   "source": [
    "# DSP1: Assignment 1\n",
    "\n",
    "### Deadline: January 12 (until 23:59)\n",
    "\n",
    "\n",
    "**Instructions:** All answers should be filled in the notebook and then submitted  For theoretical question you can use markdown and LaTeX. Name of notebook should be in following format:\n",
    " - Name_group_Assignment1.ipynb (ex. Elon_Musk_200X_Assignment1.ipynb)"
   ]
  },
  {
   "cell_type": "markdown",
   "metadata": {},
   "source": [
    "## Q1 (20%)\n",
    "Read video games sales data from vgsales.csv file. This dataset contains a list of video games with sales greater than 100,000 copies. Fields include:\n",
    "* Rank - Ranking of overall sales\n",
    "* Name - The games name\n",
    "* Platform - Platform of the games release (i.e. PC,PS4, etc.)\n",
    "* Year - Year of the game's release\n",
    "* Genre - Genre of the game\n",
    "* Publisher - Publisher of the game\n",
    "* NA_Sales - Sales in North America (in millions)\n",
    "* EU_Sales - Sales in Europe (in millions)\n",
    "* JP_Sales - Sales in Japan (in millions)\n",
    "* Other_Sales - Sales in the rest of the world (in millions)\n",
    "* Global_Sales - Total worldwide sales.\n",
    "\n",
    "**Tasks to do:**\n",
    "1. Using your favorite visualization library build histograms and boxplots for NA_Sales, EU_Sales, JP_Sales, Other_Sales, Global_Sales? \n",
    "2. What is the average sales for each region? \n",
    "3. What is the standard deviation for each region?\n",
    "4. How many outliers (using IQR rule) we have in Global_Sales column?\n",
    "5. What is the difference between mean and median values in Global_Sales column? \n",
    "6. Remove outliers and plot histogram and boxplot again. \n",
    "7. What is the difference between mean and median now?\n",
    "8. In your opinion what happened, why difference between mean and median have changed?\n",
    "\n",
    "*Hint: use pandas to read dataset.*"
   ]
  },
  {
   "cell_type": "code",
   "execution_count": 1,
   "metadata": {},
   "outputs": [],
   "source": [
    "import pandas as pd \n",
    "import numpy as np\n",
    "import matplotlib.pyplot as plt \n",
    "import seaborn as sns"
   ]
  },
  {
   "cell_type": "code",
   "execution_count": 2,
   "metadata": {
    "scrolled": true
   },
   "outputs": [
    {
     "data": {
      "text/html": [
       "<div>\n",
       "<style scoped>\n",
       "    .dataframe tbody tr th:only-of-type {\n",
       "        vertical-align: middle;\n",
       "    }\n",
       "\n",
       "    .dataframe tbody tr th {\n",
       "        vertical-align: top;\n",
       "    }\n",
       "\n",
       "    .dataframe thead th {\n",
       "        text-align: right;\n",
       "    }\n",
       "</style>\n",
       "<table border=\"1\" class=\"dataframe\">\n",
       "  <thead>\n",
       "    <tr style=\"text-align: right;\">\n",
       "      <th></th>\n",
       "      <th>Rank</th>\n",
       "      <th>Name</th>\n",
       "      <th>Platform</th>\n",
       "      <th>Year</th>\n",
       "      <th>Genre</th>\n",
       "      <th>Publisher</th>\n",
       "      <th>NA_Sales</th>\n",
       "      <th>EU_Sales</th>\n",
       "      <th>JP_Sales</th>\n",
       "      <th>Other_Sales</th>\n",
       "      <th>Global_Sales</th>\n",
       "    </tr>\n",
       "  </thead>\n",
       "  <tbody>\n",
       "    <tr>\n",
       "      <th>0</th>\n",
       "      <td>1</td>\n",
       "      <td>Wii Sports</td>\n",
       "      <td>Wii</td>\n",
       "      <td>2006</td>\n",
       "      <td>Sports</td>\n",
       "      <td>Nintendo</td>\n",
       "      <td>41.49</td>\n",
       "      <td>29.02</td>\n",
       "      <td>3.77</td>\n",
       "      <td>8.46</td>\n",
       "      <td>82.74</td>\n",
       "    </tr>\n",
       "    <tr>\n",
       "      <th>1</th>\n",
       "      <td>2</td>\n",
       "      <td>Super Mario Bros.</td>\n",
       "      <td>NES</td>\n",
       "      <td>1985</td>\n",
       "      <td>Platform</td>\n",
       "      <td>Nintendo</td>\n",
       "      <td>29.08</td>\n",
       "      <td>3.58</td>\n",
       "      <td>6.81</td>\n",
       "      <td>0.77</td>\n",
       "      <td>40.24</td>\n",
       "    </tr>\n",
       "    <tr>\n",
       "      <th>2</th>\n",
       "      <td>3</td>\n",
       "      <td>Mario Kart Wii</td>\n",
       "      <td>Wii</td>\n",
       "      <td>2008</td>\n",
       "      <td>Racing</td>\n",
       "      <td>Nintendo</td>\n",
       "      <td>15.85</td>\n",
       "      <td>12.88</td>\n",
       "      <td>3.79</td>\n",
       "      <td>3.31</td>\n",
       "      <td>35.82</td>\n",
       "    </tr>\n",
       "    <tr>\n",
       "      <th>3</th>\n",
       "      <td>4</td>\n",
       "      <td>Wii Sports Resort</td>\n",
       "      <td>Wii</td>\n",
       "      <td>2009</td>\n",
       "      <td>Sports</td>\n",
       "      <td>Nintendo</td>\n",
       "      <td>15.75</td>\n",
       "      <td>11.01</td>\n",
       "      <td>3.28</td>\n",
       "      <td>2.96</td>\n",
       "      <td>33</td>\n",
       "    </tr>\n",
       "    <tr>\n",
       "      <th>4</th>\n",
       "      <td>5</td>\n",
       "      <td>Pokemon Red/Pokemon Blue</td>\n",
       "      <td>GB</td>\n",
       "      <td>1996</td>\n",
       "      <td>Role-Playing</td>\n",
       "      <td>Nintendo</td>\n",
       "      <td>11.27</td>\n",
       "      <td>8.89</td>\n",
       "      <td>10.22</td>\n",
       "      <td>1</td>\n",
       "      <td>31.37</td>\n",
       "    </tr>\n",
       "  </tbody>\n",
       "</table>\n",
       "</div>"
      ],
      "text/plain": [
       "  Rank                      Name Platform  Year         Genre Publisher  \\\n",
       "0    1                Wii Sports      Wii  2006        Sports  Nintendo   \n",
       "1    2         Super Mario Bros.      NES  1985      Platform  Nintendo   \n",
       "2    3            Mario Kart Wii      Wii  2008        Racing  Nintendo   \n",
       "3    4         Wii Sports Resort      Wii  2009        Sports  Nintendo   \n",
       "4    5  Pokemon Red/Pokemon Blue       GB  1996  Role-Playing  Nintendo   \n",
       "\n",
       "  NA_Sales EU_Sales JP_Sales Other_Sales Global_Sales  \n",
       "0    41.49    29.02     3.77        8.46        82.74  \n",
       "1    29.08     3.58     6.81        0.77        40.24  \n",
       "2    15.85    12.88     3.79        3.31        35.82  \n",
       "3    15.75    11.01     3.28        2.96           33  \n",
       "4    11.27     8.89    10.22           1        31.37  "
      ]
     },
     "execution_count": 2,
     "metadata": {},
     "output_type": "execute_result"
    }
   ],
   "source": [
    "data = pd.read_csv(\"vgsales.csv\", sep=',', error_bad_lines=False, index_col=False, dtype='unicode')\n",
    "data.head()"
   ]
  },
  {
   "cell_type": "markdown",
   "metadata": {},
   "source": [
    "## Q1.2"
   ]
  },
  {
   "cell_type": "code",
   "execution_count": 3,
   "metadata": {},
   "outputs": [
    {
     "data": {
      "text/html": [
       "<div>\n",
       "<style scoped>\n",
       "    .dataframe tbody tr th:only-of-type {\n",
       "        vertical-align: middle;\n",
       "    }\n",
       "\n",
       "    .dataframe tbody tr th {\n",
       "        vertical-align: top;\n",
       "    }\n",
       "\n",
       "    .dataframe thead th {\n",
       "        text-align: right;\n",
       "    }\n",
       "</style>\n",
       "<table border=\"1\" class=\"dataframe\">\n",
       "  <thead>\n",
       "    <tr style=\"text-align: right;\">\n",
       "      <th></th>\n",
       "      <th>Rank</th>\n",
       "      <th>Name</th>\n",
       "      <th>Platform</th>\n",
       "      <th>Year</th>\n",
       "      <th>Genre</th>\n",
       "      <th>Publisher</th>\n",
       "      <th>NA_Sales</th>\n",
       "      <th>EU_Sales</th>\n",
       "      <th>JP_Sales</th>\n",
       "      <th>Other_Sales</th>\n",
       "      <th>Global_Sales</th>\n",
       "    </tr>\n",
       "  </thead>\n",
       "  <tbody>\n",
       "    <tr>\n",
       "      <th>0</th>\n",
       "      <td>1</td>\n",
       "      <td>Wii Sports</td>\n",
       "      <td>Wii</td>\n",
       "      <td>2006</td>\n",
       "      <td>Sports</td>\n",
       "      <td>Nintendo</td>\n",
       "      <td>41.49</td>\n",
       "      <td>29.02</td>\n",
       "      <td>3.77</td>\n",
       "      <td>8.46</td>\n",
       "      <td>82.74</td>\n",
       "    </tr>\n",
       "    <tr>\n",
       "      <th>1</th>\n",
       "      <td>2</td>\n",
       "      <td>Super Mario Bros.</td>\n",
       "      <td>NES</td>\n",
       "      <td>1985</td>\n",
       "      <td>Platform</td>\n",
       "      <td>Nintendo</td>\n",
       "      <td>29.08</td>\n",
       "      <td>3.58</td>\n",
       "      <td>6.81</td>\n",
       "      <td>0.77</td>\n",
       "      <td>40.24</td>\n",
       "    </tr>\n",
       "    <tr>\n",
       "      <th>2</th>\n",
       "      <td>3</td>\n",
       "      <td>Mario Kart Wii</td>\n",
       "      <td>Wii</td>\n",
       "      <td>2008</td>\n",
       "      <td>Racing</td>\n",
       "      <td>Nintendo</td>\n",
       "      <td>15.85</td>\n",
       "      <td>12.88</td>\n",
       "      <td>3.79</td>\n",
       "      <td>3.31</td>\n",
       "      <td>35.82</td>\n",
       "    </tr>\n",
       "    <tr>\n",
       "      <th>3</th>\n",
       "      <td>4</td>\n",
       "      <td>Wii Sports Resort</td>\n",
       "      <td>Wii</td>\n",
       "      <td>2009</td>\n",
       "      <td>Sports</td>\n",
       "      <td>Nintendo</td>\n",
       "      <td>15.75</td>\n",
       "      <td>11.01</td>\n",
       "      <td>3.28</td>\n",
       "      <td>2.96</td>\n",
       "      <td>33.00</td>\n",
       "    </tr>\n",
       "    <tr>\n",
       "      <th>4</th>\n",
       "      <td>5</td>\n",
       "      <td>Pokemon Red/Pokemon Blue</td>\n",
       "      <td>GB</td>\n",
       "      <td>1996</td>\n",
       "      <td>Role-Playing</td>\n",
       "      <td>Nintendo</td>\n",
       "      <td>11.27</td>\n",
       "      <td>8.89</td>\n",
       "      <td>10.22</td>\n",
       "      <td>1.00</td>\n",
       "      <td>31.37</td>\n",
       "    </tr>\n",
       "  </tbody>\n",
       "</table>\n",
       "</div>"
      ],
      "text/plain": [
       "  Rank                      Name Platform  Year         Genre Publisher  \\\n",
       "0    1                Wii Sports      Wii  2006        Sports  Nintendo   \n",
       "1    2         Super Mario Bros.      NES  1985      Platform  Nintendo   \n",
       "2    3            Mario Kart Wii      Wii  2008        Racing  Nintendo   \n",
       "3    4         Wii Sports Resort      Wii  2009        Sports  Nintendo   \n",
       "4    5  Pokemon Red/Pokemon Blue       GB  1996  Role-Playing  Nintendo   \n",
       "\n",
       "   NA_Sales  EU_Sales  JP_Sales  Other_Sales  Global_Sales  \n",
       "0     41.49     29.02      3.77         8.46         82.74  \n",
       "1     29.08      3.58      6.81         0.77         40.24  \n",
       "2     15.85     12.88      3.79         3.31         35.82  \n",
       "3     15.75     11.01      3.28         2.96         33.00  \n",
       "4     11.27      8.89     10.22         1.00         31.37  "
      ]
     },
     "execution_count": 3,
     "metadata": {},
     "output_type": "execute_result"
    }
   ],
   "source": [
    "#convert data types from object to float for calculations\n",
    "data['NA_Sales'] = data['NA_Sales'].astype(float)\n",
    "data['EU_Sales'] = data['EU_Sales'].astype(float)\n",
    "data['JP_Sales'] = data['JP_Sales'].astype(float)\n",
    "data['Other_Sales'] = data['Other_Sales'].astype(float)\n",
    "data['Global_Sales'] = data['Global_Sales'].astype(float)\n",
    "data.head()"
   ]
  },
  {
   "cell_type": "code",
   "execution_count": 4,
   "metadata": {},
   "outputs": [
    {
     "name": "stdout",
     "output_type": "stream",
     "text": [
      "Average sales for each region: \n",
      "NA_Sales        0.264667\n",
      "EU_Sales        0.146652\n",
      "JP_Sales        0.077782\n",
      "Other_Sales     0.048063\n",
      "Global_Sales    0.537441\n",
      "dtype: float64\n"
     ]
    }
   ],
   "source": [
    "#task 2\n",
    "my_data = data[['NA_Sales', 'EU_Sales', 'JP_Sales', 'Other_Sales', 'Global_Sales']]\n",
    "print('Average sales for each region: \\n' + str(np.mean(my_data)))"
   ]
  },
  {
   "cell_type": "markdown",
   "metadata": {},
   "source": [
    "## Q1.3"
   ]
  },
  {
   "cell_type": "code",
   "execution_count": 5,
   "metadata": {},
   "outputs": [
    {
     "name": "stdout",
     "output_type": "stream",
     "text": [
      "Standard deviation for each region: \n",
      "NA_Sales        0.816658\n",
      "EU_Sales        0.505336\n",
      "JP_Sales        0.309281\n",
      "Other_Sales     0.188583\n",
      "Global_Sales    1.554981\n",
      "dtype: float64\n"
     ]
    }
   ],
   "source": [
    "#task 3 (by using variance)\n",
    "variance = np.var(my_data)\n",
    "np.sqrt(variance) #std is a variance under root\n",
    "#np.std(my_data)\n",
    "print('Standard deviation for each region: \\n' + str(np.sqrt(variance)))"
   ]
  },
  {
   "cell_type": "code",
   "execution_count": 6,
   "metadata": {},
   "outputs": [],
   "source": [
    "#task 4\n",
    "def find_outliers(col):\n",
    "    sorted(col)\n",
    "    Q1,Q3 = np.percentile(col, [25,75])\n",
    "    IQR = Q3 - Q1\n",
    "    upper_rg = Q3 + (1.5 * IQR)\n",
    "    lower_rg = Q1 - (1.5 * IQR)\n",
    "    return lower_rg,upper_rg"
   ]
  },
  {
   "cell_type": "code",
   "execution_count": 7,
   "metadata": {},
   "outputs": [
    {
     "name": "stdout",
     "output_type": "stream",
     "text": [
      "Global_Sales column has 1893 outliers.\n"
     ]
    },
    {
     "data": {
      "text/plain": [
       "0       82.74\n",
       "1       40.24\n",
       "2       35.82\n",
       "3       33.00\n",
       "4       31.37\n",
       "        ...  \n",
       "1888     1.09\n",
       "1889     1.09\n",
       "1890     1.09\n",
       "1891     1.09\n",
       "1892     1.09\n",
       "Name: Global_Sales, Length: 1893, dtype: float64"
      ]
     },
     "execution_count": 7,
     "metadata": {},
     "output_type": "execute_result"
    }
   ],
   "source": [
    "lowerbound,upperbound = find_outliers(data.Global_Sales)\n",
    "outliers = data.Global_Sales[(data.Global_Sales < lowerbound) | (data.Global_Sales > upperbound)]\n",
    "\n",
    "print('Global_Sales column has', len(outliers), 'outliers.')\n",
    "outliers"
   ]
  },
  {
   "cell_type": "code",
   "execution_count": 8,
   "metadata": {},
   "outputs": [
    {
     "name": "stdout",
     "output_type": "stream",
     "text": [
      " 0.53744065550074\n",
      " 0.17\n"
     ]
    }
   ],
   "source": [
    "print('', np.mean(data.Global_Sales))\n",
    "print('', np.median(data.Global_Sales))"
   ]
  },
  {
   "cell_type": "markdown",
   "metadata": {},
   "source": [
    "- mean > meadian, this indicates a positively-skewed distribution"
   ]
  },
  {
   "cell_type": "code",
   "execution_count": 9,
   "metadata": {},
   "outputs": [],
   "source": [
    "#task 6\n",
    "data.drop(data[(data.Global_Sales > upperbound) | (data.Global_Sales < lowerbound)].index , inplace=True)"
   ]
  },
  {
   "cell_type": "code",
   "execution_count": 10,
   "metadata": {},
   "outputs": [
    {
     "name": "stdout",
     "output_type": "stream",
     "text": [
      "0.23147432845973634\n",
      "0.14\n"
     ]
    }
   ],
   "source": [
    "print(np.mean(data.Global_Sales))\n",
    "print(np.median(data.Global_Sales))"
   ]
  },
  {
   "cell_type": "markdown",
   "metadata": {},
   "source": [
    "- mean > meadian, this indicates a positively-skewed distribution"
   ]
  },
  {
   "cell_type": "code",
   "execution_count": 11,
   "metadata": {},
   "outputs": [
    {
     "data": {
      "text/html": [
       "<div>\n",
       "<style scoped>\n",
       "    .dataframe tbody tr th:only-of-type {\n",
       "        vertical-align: middle;\n",
       "    }\n",
       "\n",
       "    .dataframe tbody tr th {\n",
       "        vertical-align: top;\n",
       "    }\n",
       "\n",
       "    .dataframe thead th {\n",
       "        text-align: right;\n",
       "    }\n",
       "</style>\n",
       "<table border=\"1\" class=\"dataframe\">\n",
       "  <thead>\n",
       "    <tr style=\"text-align: right;\">\n",
       "      <th>Genre</th>\n",
       "      <th>Action</th>\n",
       "      <th>Adventure</th>\n",
       "      <th>Fighting</th>\n",
       "      <th>Misc</th>\n",
       "      <th>Platform</th>\n",
       "      <th>Puzzle</th>\n",
       "      <th>Racing</th>\n",
       "      <th>Role-Playing</th>\n",
       "      <th>Shooter</th>\n",
       "      <th>Simulation</th>\n",
       "      <th>Sports</th>\n",
       "      <th>Strategy</th>\n",
       "    </tr>\n",
       "  </thead>\n",
       "  <tbody>\n",
       "    <tr>\n",
       "      <th>NA_Sales</th>\n",
       "      <td>375.44</td>\n",
       "      <td>62.59</td>\n",
       "      <td>88.39</td>\n",
       "      <td>178.34</td>\n",
       "      <td>109.45</td>\n",
       "      <td>45.46</td>\n",
       "      <td>143.37</td>\n",
       "      <td>98.39</td>\n",
       "      <td>153.25</td>\n",
       "      <td>93.53</td>\n",
       "      <td>317.77</td>\n",
       "      <td>35.17</td>\n",
       "    </tr>\n",
       "  </tbody>\n",
       "</table>\n",
       "</div>"
      ],
      "text/plain": [
       "Genre     Action  Adventure  Fighting    Misc  Platform  Puzzle  Racing  \\\n",
       "NA_Sales  375.44      62.59     88.39  178.34    109.45   45.46  143.37   \n",
       "\n",
       "Genre     Role-Playing  Shooter  Simulation  Sports  Strategy  \n",
       "NA_Sales         98.39   153.25       93.53  317.77     35.17  "
      ]
     },
     "execution_count": 11,
     "metadata": {},
     "output_type": "execute_result"
    }
   ],
   "source": [
    "agg_data = pd.pivot_table(data, values='NA_Sales', columns='Genre', aggfunc='sum')\n",
    "agg_data"
   ]
  },
  {
   "cell_type": "code",
   "execution_count": 12,
   "metadata": {},
   "outputs": [
    {
     "data": {
      "image/png": "[encoded data removed]",
      "text/plain": [
       "<Figure size 432x288 with 1 Axes>"
      ]
     },
     "metadata": {
      "needs_background": "light"
     },
     "output_type": "display_data"
    }
   ],
   "source": [
    "agg_data.boxplot(rot = 90)\n",
    "plt.show()"
   ]
  },
  {
   "cell_type": "code",
   "execution_count": 13,
   "metadata": {},
   "outputs": [
    {
     "data": {
      "image/png": "[encoded data removed]",
      "text/plain": [
       "<Figure size 432x288 with 1 Axes>"
      ]
     },
     "metadata": {
      "needs_background": "light"
     },
     "output_type": "display_data"
    }
   ],
   "source": [
    "import seaborn as sns\n",
    "sns.barplot(data=data, x='Genre', y='NA_Sales')\n",
    "plt.show()"
   ]
  },
  {
   "cell_type": "markdown",
   "metadata": {},
   "source": [
    "## Q2 (20%)\n",
    "Suppose that S is a random variable of the AITU graduates salaries in the first year of work, which is assumed to be normally distributed with the population mean µ = 500 thousand KZT and the population standard deviation σ = 80 thousand KZT. \n",
    "\n",
    "**Find the following probabilities:**\n",
    "1. A graduate will have salary below 450 thousand KZT?\n",
    "2. A graduate will have salary below the median salary?\n",
    "3. A graduate will have salary above 660 thousand KZT?\n",
    "4. A graduate will have salary between 400 and 600 thousand KZT?\n",
    "5. In a sample of 25 graduates, what percentage of that students will have salary between 480 and 520 thousand KZT?\n",
    "\n",
    "*Hint: Use SciPy's norm module and write all answers in one cell (using print(command)) for convenience.*"
   ]
  },
  {
   "cell_type": "code",
   "execution_count": 14,
   "metadata": {},
   "outputs": [],
   "source": [
    "from scipy.stats import norm"
   ]
  },
  {
   "cell_type": "code",
   "execution_count": 15,
   "metadata": {},
   "outputs": [
    {
     "name": "stdout",
     "output_type": "stream",
     "text": [
      "1) 0.26598552904870054\n",
      "2) 0.5\n",
      "3) 0.02275013194817921\n",
      "4) 0.7887004526662893\n",
      "5) 78.87004526662894\n"
     ]
    }
   ],
   "source": [
    "print('1)', norm.cdf(x=450, loc=500, scale=80))\n",
    "print('2)', norm.cdf(x=500, loc=500, scale=80)) #mean = median = 500 \n",
    "print('3)', 1 - norm.cdf(x=660, loc=500, scale=80))\n",
    "print('4)', norm.cdf(x=600, loc=500, scale=80) - norm.cdf(x=400, loc=500, scale=80))\n",
    "print('5)', 100 * (norm.cdf(x=520, loc=500, scale=80/5) - norm.cdf(x=480, loc=500, scale=80/5))) #78.8%"
   ]
  },
  {
   "cell_type": "markdown",
   "metadata": {},
   "source": [
    "## Q3 (20%)\n",
    "We have a sample data about GPA for two groups of students (software engineers and big data analytics), which are presented in the lists below. Based on these data, do the following:\n",
    "1. Construct 95% confidence interval for the population mean of software engineer students' GPA. State all the assumptions. \n",
    "2. Is there an evidence that average GPA for this group is larger than 2.9?\n",
    "3. Construct 95% confidence interval for difference between two population means of GPA. State all the assumptions. \n",
    "4. Is there an evidence that one group has higher average GPA than another? If yes, which group performs better?\n",
    "5. How your analysis would change in Task 1, if the sample size was 30? What if 20? Explain.\n",
    "\n",
    "*Note: do not use too many cells for one task. For theoretical question use markdown cells.*"
   ]
  },
  {
   "cell_type": "code",
   "execution_count": 16,
   "metadata": {},
   "outputs": [],
   "source": [
    "gpa_se = [3.54, 3.17, 2.68, 3.08, 3.43, 3.11, 3.33, 2.70, 3.29, 3.94, 3.50, 3.07, 3.05,\n",
    "          3.33, 3.37, 3.25, 2.90, 3.05, 3.55, 2.63, 3.03, 2.94, 2.80, 3.05, 2.91, 3.22,\n",
    "          3.21, 3.09, 3.09, 3.06, 3.29, 3.12, 2.90, 3.42, 3.47, 2.99, 3.35, 2.94, 3.03,\n",
    "          2.71, 3.09, 3.51, 3.73, 2.92, 3.47, 3.14, 3.19, 3.23, 2.35, 3.06, 3.71, 3.44]"
   ]
  },
  {
   "cell_type": "code",
   "execution_count": 17,
   "metadata": {},
   "outputs": [],
   "source": [
    "gpa_bda = [3.16, 3.40, 3.61, 3.37, 3.24, 3.40, 3.00, 2.78, 3.22, 3.43, 3.32, 3.58,\n",
    "           3.46, 3.45, 3.52, 3.13, 3.13, 3.81, 3.22, 3.65, 2.65, 3.51, 3.94, 3.86,\n",
    "           3.30, 3.31, 3.45, 3.17, 3.57, 3.90, 3.54, 3.41, 3.39, 3.99, 3.24, 3.50,\n",
    "           3.44, 3.55, 3.40, 3.17, 3.18, 3.67, 3.64, 3.29, 3.32, 3.19, 2.71, 3.79,\n",
    "           3.12, 3.32, 3.17, 3.38, 3.76, 3.19, 3.47, 3.41, 3.01, 3.47, 2.72, 3.16]"
   ]
  },
  {
   "cell_type": "code",
   "execution_count": 43,
   "metadata": {},
   "outputs": [
    {
     "data": {
      "text/plain": [
       "(3.0813705142751955, 3.2428602549555743)"
      ]
     },
     "execution_count": 43,
     "metadata": {},
     "output_type": "execute_result"
    }
   ],
   "source": [
    "n_se = len(gpa_se)\n",
    "mu_se = np.mean(gpa_se)\n",
    "sigma_se = np.std(gpa_se)\n",
    "n_se, mu_se, sigma_se\n",
    "\n",
    "std_err_se = sigma_se /np.sqrt(n_se) #standart error for SE\n",
    "\n",
    "lcb = mu_se - 1.96* std_err_se  #lower limit of the CI\n",
    "ucb = mu_se + 1.96* std_err_se  #upper limit of the CI\n",
    "(lcb, ucb)"
   ]
  },
  {
   "cell_type": "code",
   "execution_count": 44,
   "metadata": {},
   "outputs": [],
   "source": [
    "n_bda = len(gpa_bda)\n",
    "mu_bda = np.mean(gpa_bda)\n",
    "sigma_bda = np.std(gpa_bda)\n",
    "n_bda, mu_bda, sigma_bda\n",
    "\n",
    "std_err_bda = sigma_bda/np.sqrt(n_bda)#standart error for BDA"
   ]
  },
  {
   "cell_type": "code",
   "execution_count": 49,
   "metadata": {},
   "outputs": [
    {
     "data": {
      "text/plain": [
       "(0.19658392406905367, 0.2171853067001761)"
      ]
     },
     "execution_count": 49,
     "metadata": {},
     "output_type": "execute_result"
    }
   ],
   "source": [
    "mu_d = mu_bda - mu_se #difference in means\n",
    "stderr_d = (np.sqrt((n_bda-1)*sigma_bda**2 + (n_se-1)*sigma_se**2)/(n_bda+n_se-2))*(np.sqrt(1/n_bda + 1/n_se))\n",
    "\n",
    "lcb_d = mu_d - 1.96*stderr_d  #lower limit of the CI\n",
    "ucb_d = mu_d + 1.96*stderr_d  #upper limit of the CI\n",
    "(lcb_d, ucb_d)"
   ]
  },
  {
   "cell_type": "code",
   "execution_count": null,
   "metadata": {},
   "outputs": [],
   "source": [
    "#task 2"
   ]
  },
  {
   "cell_type": "code",
   "execution_count": null,
   "metadata": {},
   "outputs": [],
   "source": [
    "#task 3\n"
   ]
  },
  {
   "cell_type": "markdown",
   "metadata": {},
   "source": [
    "## Q4 (10%)\n",
    "Consider the set of data below (my_list). Does it appear to approximately follow a normal distribution? Justify your answer.\n",
    "\n",
    "*Hint: Check for the properties of the Normal distribution and for the graph of distribtuion.*"
   ]
  },
  {
   "cell_type": "code",
   "execution_count": 21,
   "metadata": {},
   "outputs": [],
   "source": [
    "my_list = [113, 71, 89, 143, 140, 146, 122, 104, 134, 143, 110, 131, 125, 116, \n",
    "           164, 107, 113, 122, 119, 116, 98, 161, 128, 152, 116, 83, 86, 155,\n",
    "           128, 122, 95, 122, 131, 134, 107, 113, 101, 92, 134, 140]"
   ]
  },
  {
   "cell_type": "code",
   "execution_count": 22,
   "metadata": {},
   "outputs": [
    {
     "name": "stdout",
     "output_type": "stream",
     "text": [
      "Size:40\n",
      "Mean:121\n",
      "Std.:21.4552\n",
      "Mode:122\n",
      "Median:122\n"
     ]
    }
   ],
   "source": [
    "n = len(my_list)\n",
    "mu = round(sum(my_list)/len(my_list))\n",
    "sigma = round(np.std(my_list), 4)\n",
    "\n",
    "mode = max(my_list, key = my_list.count)\n",
    "median = round(np.median(my_list))\n",
    "print('Size:'+ str(n) + '\\n' + 'Mean:' + str(mu) + '\\n'+ 'Std.:' + str(sigma) \n",
    "      + '\\n' + 'Mode:'+ str(mode) + '\\n' + 'Median:'+ str(median))"
   ]
  },
  {
   "cell_type": "code",
   "execution_count": 23,
   "metadata": {},
   "outputs": [
    {
     "data": {
      "image/png": "[encoded data removed]",
      "text/plain": [
       "<Figure size 432x288 with 1 Axes>"
      ]
     },
     "metadata": {
      "needs_background": "light"
     },
     "output_type": "display_data"
    }
   ],
   "source": [
    "Y = norm.pdf(my_list, loc=120.65, scale=21.45)  #array of probabilities\n",
    "\n",
    "plt.plot(my_list, Y)\n",
    "plt.title('Graph of Standard Normal Dist, mu=120 , sigma=21.45')\n",
    "plt.xlabel('my_list scores')\n",
    "plt.ylabel('PDF value of Std Normal Dist');"
   ]
  },
  {
   "cell_type": "markdown",
   "metadata": {},
   "source": [
    "The data above is approximately follow a normal distribution, because:\n",
    "- x_bar(mean) is normal, since sample size is large n = 40 (> 30).\n",
    "- Determined by mean and std..\n",
    "- The mean, median and mode are exactly the same.\n",
    "- By graph: the distribution is symmetric about the mean—half the values fall below the mean and half above the mean.\n",
    "- The distribution can be described by two values: the mean and the standard deviation."
   ]
  },
  {
   "cell_type": "markdown",
   "metadata": {},
   "source": [
    "## Q5 (10%)\n",
    "Generate synthetic data (numpy.random.normal) with mean = 70, std = 12 and size = 1000 (round it to nearest integer). \n",
    "\n",
    "__Tasks to do:__\n",
    "1. Plot histogram\n",
    "2. What is the mean, median and mode\n",
    "3. Build function to calculate standard deviation using standard Python functionality\n",
    "4. Calculate std. using your function and compare it with numpy function"
   ]
  },
  {
   "cell_type": "code",
   "execution_count": 24,
   "metadata": {
    "scrolled": true
   },
   "outputs": [
    {
     "data": {
      "image/png": "[encoded data removed]",
      "text/plain": [
       "<Figure size 432x288 with 1 Axes>"
      ]
     },
     "metadata": {
      "needs_background": "light"
     },
     "output_type": "display_data"
    }
   ],
   "source": [
    "n = 1000\n",
    "mu = 70 #mean\n",
    "sigma = 12 #std\n",
    "s = np.random.normal(mu, sigma, n)\n",
    "data = [np.round(x) for x in s]\n",
    "\n",
    "# Histogram\n",
    "plt.hist(x=data, bins=30, density=True);"
   ]
  },
  {
   "cell_type": "markdown",
   "metadata": {},
   "source": [
    "task 2: what is Mean, median, mode?"
   ]
  },
  {
   "cell_type": "code",
   "execution_count": 42,
   "metadata": {},
   "outputs": [
    {
     "name": "stdout",
     "output_type": "stream",
     "text": [
      "Mean: 70\n",
      "Median: 70\n",
      "Mode: 72.0\n"
     ]
    }
   ],
   "source": [
    "mean = round(sum(data)/len(data))\n",
    "print('Mean:', mean)\n",
    "    \n",
    "median = round(np.median(data))\n",
    "print('Median:', median)\n",
    "\n",
    "mode = max(data, key = data.count)\n",
    "print('Mode:', mode)"
   ]
  },
  {
   "cell_type": "code",
   "execution_count": 26,
   "metadata": {},
   "outputs": [],
   "source": [
    "def calc_std(X):\n",
    "    sigma = 0.0\n",
    "    mu = round(sum(X)/len(X), 4)\n",
    "    n = len(X)\n",
    "    for x in X:\n",
    "        sigma += (x - mu)**2   \n",
    "    sigma = sigma/n\n",
    "    sigma = sigma**(1/2)\n",
    "    sigma = round(sigma, 4)\n",
    "    return sigma"
   ]
  },
  {
   "cell_type": "code",
   "execution_count": 27,
   "metadata": {},
   "outputs": [
    {
     "name": "stdout",
     "output_type": "stream",
     "text": [
      "function std.: 12.0646\n",
      "numpy std.: 12.0646\n"
     ]
    }
   ],
   "source": [
    "print('function std.:', calc_std(data))\n",
    "print('numpy std.:',round(np.std(data), 4))"
   ]
  },
  {
   "cell_type": "markdown",
   "metadata": {},
   "source": [
    "## Q6 (10%)\n",
    "Prove the following expression:\n",
    "\n",
    "$$Var(X) = E((X-\\mu)^2) = E(X^2) - (E(X))^2$$\n",
    "\n",
    "\n",
    "\n",
    "*Hint: For proof write it down in markdown cell below using LaTex.*"
   ]
  },
  {
   "cell_type": "code",
   "execution_count": 28,
   "metadata": {},
   "outputs": [],
   "source": [
    "# Please, write your proof here (as markdown)"
   ]
  },
  {
   "cell_type": "markdown",
   "metadata": {},
   "source": [
    "## Q7 (10%)\n",
    "For each of the cases of confidence intervals in the lecture (3 simple and 5 complicated) find/create an example and mention corresponding assumptions such as sample size or original distribution or variance. Also, note that you should not use examples that was presented during the lecture. \n",
    "\n",
    "*Note: no need to create a problem, just a situation which will correspond to the confidence interval case.*"
   ]
  },
  {
   "cell_type": "code",
   "execution_count": 29,
   "metadata": {},
   "outputs": [],
   "source": [
    "# Please, write your examples here (as markdown)"
   ]
  },
  {
   "cell_type": "markdown",
   "metadata": {},
   "source": [
    "---\n",
    "\n",
    "### Evaluation (Keep it!)\n",
    "\n",
    "| Question | Mark     | Comment   \n",
    "|:-------:|:--------:|:----------------------\n",
    "| 1       |   20/20    |     \n",
    "| 2       |   20/20 | \n",
    "| 3       |   20/20    |     \n",
    "| 4       |   10/10 | \n",
    "| 5       |   10/10    |     \n",
    "| 6       |   10/10 | \n",
    "| 7       |   10/10    |     \n",
    "|**Total**|**100/100**  | \n"
   ]
  }
 ],
 "metadata": {
  "kernelspec": {
   "display_name": "Python 3",
   "language": "python",
   "name": "python3"
  },
  "language_info": {
   "codemirror_mode": {
    "name": "ipython",
    "version": 3
   },
   "file_extension": ".py",
   "mimetype": "text/x-python",
   "name": "python",
   "nbconvert_exporter": "python",
   "pygments_lexer": "ipython3",
   "version": "3.8.8"
  }
 },
 "nbformat": 4,
 "nbformat_minor": 4
}
