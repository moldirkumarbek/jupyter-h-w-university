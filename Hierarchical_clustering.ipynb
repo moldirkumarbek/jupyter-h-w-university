{
 "cells": [
  {
   "cell_type": "markdown",
   "metadata": {},
   "source": [
    "# Hierarchical Agglomerative  Clustering"
   ]
  },
  {
   "cell_type": "code",
   "execution_count": 2,
   "metadata": {},
   "outputs": [
    {
     "name": "stdout",
     "output_type": "stream",
     "text": [
      "           X     Y\n",
      "Points            \n",
      "P1      0.40  0.53\n",
      "P2      0.22  0.38\n",
      "P3      0.35  0.32\n",
      "P4      0.26  0.19\n",
      "P5      0.08  0.41\n",
      "P6      0.45  0.30\n"
     ]
    },
    {
     "data": {
      "image/png": "[encoded data removed]",
      "text/plain": [
       "<Figure size 432x288 with 1 Axes>"
      ]
     },
     "metadata": {
      "needs_background": "light"
     },
     "output_type": "display_data"
    }
   ],
   "source": [
    "import pandas as pd\n",
    "import matplotlib.pyplot as plt\n",
    "import numpy as np\n",
    "%matplotlib inline\n",
    "\n",
    "#create dataset\n",
    "d = {\"Points\":[\"P1\", 'P2', \"P3\", \"P4\", \"P5\", \"P6\"],\n",
    "     'X': [0.4, 0.22, 0.35, 0.26, 0.08, 0.45], \n",
    "     'Y': [0.53, 0.38, 0.32, 0.19, 0.41, 0.3]}\n",
    "data = pd.DataFrame(data=d).set_index(\"Points\")\n",
    "print(data)\n",
    "\n",
    "\n",
    "#vizualizing\n",
    "fig, ax = plt.subplots()\n",
    "data.plot('X', 'Y', kind='scatter', ax=ax)\n",
    "\n",
    "for k, v in data.iterrows():\n",
    "    ax.annotate(k, v,  fontsize=12)"
   ]
  },
  {
   "cell_type": "markdown",
   "metadata": {},
   "source": [
    "# Example  of calculating Distance Matrix"
   ]
  },
  {
   "cell_type": "markdown",
   "metadata": {},
   "source": [
    "https://docs.scipy.org/doc/scipy/reference/spatial.distance.html "
   ]
  },
  {
   "cell_type": "code",
   "execution_count": 3,
   "metadata": {},
   "outputs": [
    {
     "name": "stdout",
     "output_type": "stream",
     "text": [
      "numpy array of our data\n",
      " [[0.4  0.53]\n",
      " [0.22 0.38]\n",
      " [0.35 0.32]\n",
      " [0.26 0.19]\n",
      " [0.08 0.41]\n",
      " [0.45 0.3 ]]\n"
     ]
    }
   ],
   "source": [
    "from scipy.spatial.distance import pdist, squareform\n",
    "#numpy array of our data\n",
    "print(\"numpy array of our data\\n\", data.values)"
   ]
  },
  {
   "cell_type": "code",
   "execution_count": 4,
   "metadata": {},
   "outputs": [
    {
     "name": "stdout",
     "output_type": "stream",
     "text": [
      "Pairwise distances between observations in n-dimensional space:\n",
      " [0.23430749 0.21587033 0.36769553 0.34176015 0.23537205 0.14317821\n",
      " 0.19416488 0.14317821 0.24351591 0.15811388 0.28460499 0.10198039\n",
      " 0.28425341 0.21954498 0.38600518]\n"
     ]
    }
   ],
   "source": [
    "# pdist - https://docs.scipy.org/doc/scipy/reference/generated/scipy.spatial.distance.pdist.html#scipy.spatial.distance.pdist\n",
    "dist_condensed = pdist(data.values)\n",
    "print(\"Pairwise distances between observations in n-dimensional space:\\n\", dist_condensed)"
   ]
  },
  {
   "cell_type": "code",
   "execution_count": 5,
   "metadata": {},
   "outputs": [
    {
     "name": "stdout",
     "output_type": "stream",
     "text": [
      "[[0.         0.23430749 0.21587033 0.36769553 0.34176015 0.23537205]\n",
      " [0.23430749 0.         0.14317821 0.19416488 0.14317821 0.24351591]\n",
      " [0.21587033 0.14317821 0.         0.15811388 0.28460499 0.10198039]\n",
      " [0.36769553 0.19416488 0.15811388 0.         0.28425341 0.21954498]\n",
      " [0.34176015 0.14317821 0.28460499 0.28425341 0.         0.38600518]\n",
      " [0.23537205 0.24351591 0.10198039 0.21954498 0.38600518 0.        ]]\n"
     ]
    }
   ],
   "source": [
    "# Convert a vector-form distance vector to a square-form distance matrix, and vice-versa.\n",
    "distance_matrix = squareform(dist_condensed)\n",
    "print(distance_matrix)"
   ]
  },
  {
   "cell_type": "code",
   "execution_count": 6,
   "metadata": {},
   "outputs": [
    {
     "data": {
      "text/html": [
       "<div>\n",
       "<style scoped>\n",
       "    .dataframe tbody tr th:only-of-type {\n",
       "        vertical-align: middle;\n",
       "    }\n",
       "\n",
       "    .dataframe tbody tr th {\n",
       "        vertical-align: top;\n",
       "    }\n",
       "\n",
       "    .dataframe thead th {\n",
       "        text-align: right;\n",
       "    }\n",
       "</style>\n",
       "<table border=\"1\" class=\"dataframe\">\n",
       "  <thead>\n",
       "    <tr style=\"text-align: right;\">\n",
       "      <th></th>\n",
       "      <th>P1</th>\n",
       "      <th>P2</th>\n",
       "      <th>P3</th>\n",
       "      <th>P4</th>\n",
       "      <th>P5</th>\n",
       "      <th>P6</th>\n",
       "    </tr>\n",
       "  </thead>\n",
       "  <tbody>\n",
       "    <tr>\n",
       "      <th>P1</th>\n",
       "      <td>0.000000</td>\n",
       "      <td>0.234307</td>\n",
       "      <td>0.215870</td>\n",
       "      <td>0.367696</td>\n",
       "      <td>0.341760</td>\n",
       "      <td>0.235372</td>\n",
       "    </tr>\n",
       "    <tr>\n",
       "      <th>P2</th>\n",
       "      <td>0.234307</td>\n",
       "      <td>0.000000</td>\n",
       "      <td>0.143178</td>\n",
       "      <td>0.194165</td>\n",
       "      <td>0.143178</td>\n",
       "      <td>0.243516</td>\n",
       "    </tr>\n",
       "    <tr>\n",
       "      <th>P3</th>\n",
       "      <td>0.215870</td>\n",
       "      <td>0.143178</td>\n",
       "      <td>0.000000</td>\n",
       "      <td>0.158114</td>\n",
       "      <td>0.284605</td>\n",
       "      <td>0.101980</td>\n",
       "    </tr>\n",
       "    <tr>\n",
       "      <th>P4</th>\n",
       "      <td>0.367696</td>\n",
       "      <td>0.194165</td>\n",
       "      <td>0.158114</td>\n",
       "      <td>0.000000</td>\n",
       "      <td>0.284253</td>\n",
       "      <td>0.219545</td>\n",
       "    </tr>\n",
       "    <tr>\n",
       "      <th>P5</th>\n",
       "      <td>0.341760</td>\n",
       "      <td>0.143178</td>\n",
       "      <td>0.284605</td>\n",
       "      <td>0.284253</td>\n",
       "      <td>0.000000</td>\n",
       "      <td>0.386005</td>\n",
       "    </tr>\n",
       "    <tr>\n",
       "      <th>P6</th>\n",
       "      <td>0.235372</td>\n",
       "      <td>0.243516</td>\n",
       "      <td>0.101980</td>\n",
       "      <td>0.219545</td>\n",
       "      <td>0.386005</td>\n",
       "      <td>0.000000</td>\n",
       "    </tr>\n",
       "  </tbody>\n",
       "</table>\n",
       "</div>"
      ],
      "text/plain": [
       "          P1        P2        P3        P4        P5        P6\n",
       "P1  0.000000  0.234307  0.215870  0.367696  0.341760  0.235372\n",
       "P2  0.234307  0.000000  0.143178  0.194165  0.143178  0.243516\n",
       "P3  0.215870  0.143178  0.000000  0.158114  0.284605  0.101980\n",
       "P4  0.367696  0.194165  0.158114  0.000000  0.284253  0.219545\n",
       "P5  0.341760  0.143178  0.284605  0.284253  0.000000  0.386005\n",
       "P6  0.235372  0.243516  0.101980  0.219545  0.386005  0.000000"
      ]
     },
     "execution_count": 6,
     "metadata": {},
     "output_type": "execute_result"
    }
   ],
   "source": [
    "dist = pd.DataFrame(distance_matrix, columns=data.index.values, index=data.index.values)\n",
    "dist"
   ]
  },
  {
   "cell_type": "markdown",
   "metadata": {},
   "source": [
    "# Dendograms with different linkages\n",
    "https://docs.scipy.org/doc/scipy/reference/generated/scipy.cluster.hierarchy.linkage.html"
   ]
  },
  {
   "cell_type": "code",
   "execution_count": 7,
   "metadata": {},
   "outputs": [
    {
     "data": {
      "image/png": "[encoded data removed]",
      "text/plain": [
       "<Figure size 432x288 with 1 Axes>"
      ]
     },
     "metadata": {
      "needs_background": "light"
     },
     "output_type": "display_data"
    }
   ],
   "source": [
    "import scipy.cluster.hierarchy as model\n",
    "dend_max = model.dendrogram(model.linkage(data[['X', 'Y']], method='complete'), labels=data.index)"
   ]
  },
  {
   "cell_type": "code",
   "execution_count": 8,
   "metadata": {},
   "outputs": [
    {
     "data": {
      "image/png": "[encoded data removed]",
      "text/plain": [
       "<Figure size 432x288 with 1 Axes>"
      ]
     },
     "metadata": {
      "needs_background": "light"
     },
     "output_type": "display_data"
    }
   ],
   "source": [
    "dend_min = model.dendrogram(model.linkage(data[['X', 'Y']], method='single'), labels=data.index)"
   ]
  },
  {
   "cell_type": "code",
   "execution_count": 9,
   "metadata": {},
   "outputs": [
    {
     "data": {
      "image/png": "[encoded data removed]",
      "text/plain": [
       "<Figure size 432x288 with 1 Axes>"
      ]
     },
     "metadata": {
      "needs_background": "light"
     },
     "output_type": "display_data"
    }
   ],
   "source": [
    "dend_min = model.dendrogram(model.linkage(data[['X', 'Y']], method='average'), labels=data.index)"
   ]
  },
  {
   "cell_type": "code",
   "execution_count": null,
   "metadata": {
    "collapsed": true,
    "jupyter": {
     "outputs_hidden": true
    }
   },
   "outputs": [],
   "source": []
  }
 ],
 "metadata": {
  "kernelspec": {
   "display_name": "Python 3",
   "language": "python",
   "name": "python3"
  },
  "language_info": {
   "codemirror_mode": {
    "name": "ipython",
    "version": 3
   },
   "file_extension": ".py",
   "mimetype": "text/x-python",
   "name": "python",
   "nbconvert_exporter": "python",
   "pygments_lexer": "ipython3",
   "version": "3.8.8"
  }
 },
 "nbformat": 4,
 "nbformat_minor": 4
}
