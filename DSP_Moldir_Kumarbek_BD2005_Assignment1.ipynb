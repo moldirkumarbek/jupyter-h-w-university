{
 "cells": [
  {
   "cell_type": "markdown",
   "metadata": {},
   "source": [
    "# DSP1: Assignment 1\n",
    "\n",
    "### Deadline: January 12 (until 23:59)\n",
    "\n",
    "\n",
    "**Instructions:** All answers should be filled in the notebook and then submitted  For theoretical question you can use markdown and LaTeX. Name of notebook should be in following format:\n",
    " - Name_group_Assignment1.ipynb (ex. Elon_Musk_200X_Assignment1.ipynb)"
   ]
  },
  {
   "cell_type": "markdown",
   "metadata": {},
   "source": [
    "## Q1 (20%)\n",
    "Read video games sales data from vgsales.csv file. This dataset contains a list of video games with sales greater than 100,000 copies. Fields include:\n",
    "* Rank - Ranking of overall sales\n",
    "* Name - The games name\n",
    "* Platform - Platform of the games release (i.e. PC,PS4, etc.)\n",
    "* Year - Year of the game's release\n",
    "* Genre - Genre of the game\n",
    "* Publisher - Publisher of the game\n",
    "* NA_Sales - Sales in North America (in millions)\n",
    "* EU_Sales - Sales in Europe (in millions)\n",
    "* JP_Sales - Sales in Japan (in millions)\n",
    "* Other_Sales - Sales in the rest of the world (in millions)\n",
    "* Global_Sales - Total worldwide sales.\n",
    "\n",
    "**Tasks to do:**\n",
    "1. Using your favorite visualization library build histograms and boxplots for NA_Sales, EU_Sales, JP_Sales, Other_Sales, Global_Sales? \n",
    "2. What is the average sales for each region? \n",
    "3. What is the standard deviation for each region?\n",
    "4. How many outliers (using IQR rule) we have in Global_Sales column?\n",
    "5. What is the difference between mean and median values in Global_Sales column? \n",
    "6. Remove outliers and plot histogram and boxplot again. \n",
    "7. What is the difference between mean and median now?\n",
    "8. In your opinion what happened, why difference between mean and median have changed?\n",
    "\n",
    "*Hint: use pandas to read dataset.*"
   ]
  },
  {
   "cell_type": "code",
   "execution_count": null,
   "metadata": {},
   "outputs": [],
   "source": [
    "# Please, write your code here\n",
    "import numpy as np\n",
    "import pandas as pd\n",
    "import matplotlib.pyplot as plt\n",
    "import seaborn as sns\n",
    "from scipy.stats import norm\n",
    "from scipy.stats import t\n",
    "from scipy import stats\n",
    "import statistics as st\n",
    "import math\n",
    "%matplotlib inline\n",
    "data = pd.read_csv('vgsales.csv')\n",
    "data.head()"
   ]
  },
  {
   "cell_type": "code",
   "execution_count": null,
   "metadata": {},
   "outputs": [],
   "source": [
    "df = pd.DataFrame(data)"
   ]
  },
  {
   "cell_type": "code",
   "execution_count": null,
   "metadata": {},
   "outputs": [],
   "source": [
    "df.dropna()"
   ]
  },
  {
   "cell_type": "code",
   "execution_count": null,
   "metadata": {},
   "outputs": [],
   "source": [
    "numerical_col = ['NA_Sales','EU_Sales','JP_Sales','Other_Sales','Global_Sales']"
   ]
  },
  {
   "cell_type": "code",
   "execution_count": null,
   "metadata": {},
   "outputs": [],
   "source": [
    "#Using your favorite visualization library build histograms and boxplots for NA_Sales, EU_Sales, JP_Sales, Other_Sales, Global_Sales\n",
    "df.boxplot(numerical_col)"
   ]
  },
  {
   "cell_type": "code",
   "execution_count": null,
   "metadata": {},
   "outputs": [],
   "source": [
    "#Using your favorite visualization library build histograms and boxplots for NA_Sales, EU_Sales, JP_Sales, Other_Sales, Global_Sales\n",
    "df.hist(numerical_col)"
   ]
  },
  {
   "cell_type": "code",
   "execution_count": null,
   "metadata": {},
   "outputs": [],
   "source": [
    "#convert data types from object to float for calculations\n",
    "df['NA_Sales'] = df['NA_Sales'].astype(float)\n",
    "df['EU_Sales'] = df['EU_Sales'].astype(float)\n",
    "df['JP_Sales'] = df['JP_Sales'].astype(float)\n",
    "df['Other_Sales'] = df['Other_Sales'].astype(float)\n",
    "df['Global_Sales'] = df['Global_Sales'].astype(float)\n",
    "df.head()"
   ]
  },
  {
   "cell_type": "code",
   "execution_count": null,
   "metadata": {},
   "outputs": [],
   "source": [
    "#What is the average sales for each region?\n",
    "#Avarage for NA_Sales\n",
    "df['NA_Sales'].mean()"
   ]
  },
  {
   "cell_type": "code",
   "execution_count": null,
   "metadata": {},
   "outputs": [],
   "source": [
    "#Avarage for EU_Sales:\n",
    "df['EU_Sales'].mean()"
   ]
  },
  {
   "cell_type": "code",
   "execution_count": null,
   "metadata": {},
   "outputs": [],
   "source": [
    "#Avarage for JP_Sales:\n",
    "df['JP_Sales'].mean()"
   ]
  },
  {
   "cell_type": "code",
   "execution_count": null,
   "metadata": {},
   "outputs": [],
   "source": [
    "#Avarage for Other_Sales:\n",
    "df['Other_Sales'].mean()"
   ]
  },
  {
   "cell_type": "code",
   "execution_count": null,
   "metadata": {},
   "outputs": [],
   "source": [
    "#Avarage for Global_Sales:\n",
    "df['Global_Sales'].mean()"
   ]
  },
  {
   "cell_type": "code",
   "execution_count": null,
   "metadata": {},
   "outputs": [],
   "source": [
    "#What is the standard deviation for each region?\n",
    "print('NA_Sales std')\n",
    "print(df.std()['NA_Sales'])\n",
    "print('EU_Sales std')\n",
    "print(df.std()['EU_Sales'])\n",
    "print('JP_Sales std')\n",
    "print(df.std()['JP_Sales'])\n",
    "print('Other_Sales std')\n",
    "print(df.std()['Other_Sales'])\n",
    "print('Global_Sales std')\n",
    "print(df.std()['Global_Sales'])"
   ]
  },
  {
   "cell_type": "code",
   "execution_count": null,
   "metadata": {},
   "outputs": [],
   "source": [
    "#How many outliers (using IQR rule) we have in Global_Sales column\n",
    "\n",
    "Q1 = np.percentile(df['Global_Sales'], 25) \n",
    "Q2 = np.percentile(df['Global_Sales'], 50) \n",
    "Q3 = np.percentile(df['Global_Sales'], 75) \n",
    "  \n",
    "print('Q1 25%', Q1)\n",
    "print('Q2 50% ', Q2)\n",
    "print('Q3 75%', Q3)\n",
    "  \n",
    "IQR = Q3 - Q1 \n",
    "print('IQR is -', IQR)"
   ]
  },
  {
   "cell_type": "code",
   "execution_count": null,
   "metadata": {},
   "outputs": [],
   "source": [
    "#What is the difference between mean and median values in Global_Sales column\n",
    "global_median = df['Global_Sales'].median()\n",
    "global_median"
   ]
  },
  {
   "cell_type": "code",
   "execution_count": null,
   "metadata": {},
   "outputs": [],
   "source": [
    "global_mean = df['Global_Sales'].mean()\n",
    "global_mean"
   ]
  },
  {
   "cell_type": "code",
   "execution_count": null,
   "metadata": {},
   "outputs": [],
   "source": [
    "dif = global_mean - global_median\n",
    "dif"
   ]
  },
  {
   "cell_type": "code",
   "execution_count": null,
   "metadata": {},
   "outputs": [],
   "source": [
    "#Remove outliers and plot histogram and boxplot again\n",
    "new_df = df[df['Global_Sales']<Q3]\n",
    "new_df.shape"
   ]
  },
  {
   "cell_type": "code",
   "execution_count": null,
   "metadata": {},
   "outputs": [],
   "source": [
    "df.boxplot('Global_Sales')"
   ]
  },
  {
   "cell_type": "code",
   "execution_count": null,
   "metadata": {},
   "outputs": [],
   "source": [
    "new_df.boxplot('Global_Sales')"
   ]
  },
  {
   "cell_type": "code",
   "execution_count": null,
   "metadata": {},
   "outputs": [],
   "source": [
    "new_df.hist('Global_Sales')"
   ]
  },
  {
   "cell_type": "code",
   "execution_count": null,
   "metadata": {},
   "outputs": [],
   "source": [
    "#What is the difference between mean and median now\n",
    "new_median = new_df['Global_Sales'].median()\n",
    "new_median"
   ]
  },
  {
   "cell_type": "code",
   "execution_count": null,
   "metadata": {},
   "outputs": [],
   "source": [
    "new_mean = new_df['Global_Sales'].mean()\n",
    "new_mean"
   ]
  },
  {
   "cell_type": "code",
   "execution_count": null,
   "metadata": {},
   "outputs": [],
   "source": [
    "new_dif = new_mean - new_median\n",
    "new_dif"
   ]
  },
  {
   "cell_type": "code",
   "execution_count": null,
   "metadata": {},
   "outputs": [],
   "source": []
  },
  {
   "cell_type": "markdown",
   "metadata": {},
   "source": [
    "## Q2 (20%)\n",
    "Suppose that S is a random variable of the AITU graduates salaries in the first year of work, which is assumed to be normally distributed with the population mean µ = 500 thousand KZT and the population standard deviation σ = 80 thousand KZT. \n",
    "\n",
    "**Find the following probabilities:**\n",
    "1. A graduate will have salary below 450 thousand KZT?\n",
    "2. A graduate will have salary below the median salary?\n",
    "3. A graduate will have salary above 660 thousand KZT?\n",
    "4. A graduate will have salary between 400 and 600 thousand KZT?\n",
    "5. In a sample of 25 graduates, what percentage of that students will have salary between 480 and 520 thousand KZT?\n",
    "\n",
    "*Hint: Use SciPy's norm module and write all answers in one cell (using print(command)) for convenience.*"
   ]
  },
  {
   "cell_type": "code",
   "execution_count": null,
   "metadata": {},
   "outputs": [],
   "source": [
    "# Please, write your code here\n",
    "import scipy.stats"
   ]
  },
  {
   "cell_type": "code",
   "execution_count": null,
   "metadata": {},
   "outputs": [],
   "source": [
    "print('1)', norm.cdf(x=450, loc=500, scale=80))\n",
    "print('2)', norm.cdf(x=500, loc=500, scale=80)) #mean = median = 500 \n",
    "print('3)', 1 - norm.cdf(x=660, loc=500, scale=80))\n",
    "print('4)', norm.cdf(x=600, loc=500, scale=80) - norm.cdf(x=400, loc=500, scale=80))\n",
    "print('5)', 100 * (norm.cdf(x=520, loc=500, scale=80/5) - norm.cdf(x=480, loc=500, scale=80/5))) #78.8%"
   ]
  },
  {
   "cell_type": "markdown",
   "metadata": {},
   "source": [
    "## Q3 (20%)\n",
    "We have a sample data about GPA for two groups of students (software engineers and big data analytics), which are presented in the lists below. Based on these data, do the following:\n",
    "1. Construct 95% confidence interval for the population mean of software engineer students' GPA. State all the assumptions. \n",
    "2. Is there an evidence that average GPA for this group is larger than 2.9?\n",
    "3. Construct 95% confidence interval for difference between two population means of GPA. State all the assumptions. \n",
    "4. Is there an evidence that one group has higher average GPA than another? If yes, which group performs better?\n",
    "5. How your analysis would change in Task 1, if the sample size was 30? What if 20? Explain.\n",
    "\n",
    "*Note: do not use too many cells for one task. For theoretical question use markdown cells.*"
   ]
  },
  {
   "cell_type": "code",
   "execution_count": null,
   "metadata": {},
   "outputs": [],
   "source": [
    "gpa_se = [3.54, 3.17, 2.68, 3.08, 3.43, 3.11, 3.33, 2.70, 3.29, 3.94, 3.50, 3.07, 3.05,\n",
    "          3.33, 3.37, 3.25, 2.90, 3.05, 3.55, 2.63, 3.03, 2.94, 2.80, 3.05, 2.91, 3.22,\n",
    "          3.21, 3.09, 3.09, 3.06, 3.29, 3.12, 2.90, 3.42, 3.47, 2.99, 3.35, 2.94, 3.03,\n",
    "          2.71, 3.09, 3.51, 3.73, 2.92, 3.47, 3.14, 3.19, 3.23, 2.35, 3.06, 3.71, 3.44]"
   ]
  },
  {
   "cell_type": "code",
   "execution_count": null,
   "metadata": {},
   "outputs": [],
   "source": [
    "gpa_bda = [3.16, 3.40, 3.61, 3.37, 3.24, 3.40, 3.00, 2.78, 3.22, 3.43, 3.32, 3.58,\n",
    "           3.46, 3.45, 3.52, 3.13, 3.13, 3.81, 3.22, 3.65, 2.65, 3.51, 3.94, 3.86,\n",
    "           3.30, 3.31, 3.45, 3.17, 3.57, 3.90, 3.54, 3.41, 3.39, 3.99, 3.24, 3.50,\n",
    "           3.44, 3.55, 3.40, 3.17, 3.18, 3.67, 3.64, 3.29, 3.32, 3.19, 2.71, 3.79,\n",
    "           3.12, 3.32, 3.17, 3.38, 3.76, 3.19, 3.47, 3.41, 3.01, 3.47, 2.72, 3.16]"
   ]
  },
  {
   "cell_type": "code",
   "execution_count": null,
   "metadata": {},
   "outputs": [],
   "source": [
    "# Please, write your code here\n",
    "#Construct 95% confidence interval for the population mean of software engineer students' GPA. State all the assumptions.\n",
    "x_bar = np.mean(gpa_se)\n",
    "x_bar"
   ]
  },
  {
   "cell_type": "code",
   "execution_count": null,
   "metadata": {},
   "outputs": [],
   "source": [
    "sigma_3 = np.std(gpa_se, ddof=0)\n",
    "sigma_3"
   ]
  },
  {
   "cell_type": "code",
   "execution_count": null,
   "metadata": {},
   "outputs": [],
   "source": [
    "n = len(gpa_se)\n",
    "n"
   ]
  },
  {
   "cell_type": "code",
   "execution_count": null,
   "metadata": {},
   "outputs": [],
   "source": [
    "std_error = sigma_3/np.sqrt(n)\n",
    "std_error"
   ]
  },
  {
   "cell_type": "code",
   "execution_count": null,
   "metadata": {},
   "outputs": [],
   "source": [
    "ci_95_1 = t.interval(alpha=0.95, df=n, loc=x_bar, scale=sigma_3)\n",
    "print('Lower bound:', round(ci_95_1[0], 3))\n",
    "print('Upper bound:', round(ci_95_1[1], 3))"
   ]
  },
  {
   "cell_type": "code",
   "execution_count": null,
   "metadata": {},
   "outputs": [],
   "source": [
    "#Is there an evidence that average GPA for this group is larger than 2.9?\n",
    "#there are lower gpa is 2.58 and upper gpa is 3.744, so we can say that +- near 2.9 "
   ]
  },
  {
   "cell_type": "code",
   "execution_count": null,
   "metadata": {},
   "outputs": [],
   "source": [
    "#Construct 95% confidence interval for difference between two population means of GPA. State all the assumptions.\n",
    "bda_mean = np.mean(gpa_bda)\n",
    "bda_mean"
   ]
  },
  {
   "cell_type": "code",
   "execution_count": null,
   "metadata": {},
   "outputs": [],
   "source": [
    "se_mean = np.mean(gpa_se)\n",
    "se_mean"
   ]
  },
  {
   "cell_type": "code",
   "execution_count": null,
   "metadata": {},
   "outputs": [],
   "source": [
    "dif_of_f = bda_mean-se_mean\n",
    "dif_of_f"
   ]
  },
  {
   "cell_type": "code",
   "execution_count": null,
   "metadata": {},
   "outputs": [],
   "source": [
    "bda_std = np.std(gpa_bda, ddof=0)\n",
    "bda_std"
   ]
  },
  {
   "cell_type": "code",
   "execution_count": null,
   "metadata": {},
   "outputs": [],
   "source": [
    "se_std = np.std(gpa_se, ddof=0)\n",
    "se_std"
   ]
  },
  {
   "cell_type": "code",
   "execution_count": null,
   "metadata": {},
   "outputs": [],
   "source": [
    "dif_std_error = bda_std/np.sqrt(len(gpa_bda)) - se_std/np.sqrt(len(gpa_se))\n",
    "dif_std_error"
   ]
  },
  {
   "cell_type": "code",
   "execution_count": null,
   "metadata": {},
   "outputs": [],
   "source": [
    "ci_95_3 = norm.interval(alpha=0.95, loc=dif_of_f, scale=dif_std_error)\n",
    "print('Lower bound:', round(ci_95_3[0], 3))\n",
    "print('Upper bound:', round(ci_95_3[1], 3))"
   ]
  },
  {
   "cell_type": "code",
   "execution_count": null,
   "metadata": {},
   "outputs": [],
   "source": [
    "#Is there an evidence that one group has higher average GPA than another? If yes, which group performs better?\n",
    "bda = len(gpa_bda)\n",
    "bda"
   ]
  },
  {
   "cell_type": "code",
   "execution_count": null,
   "metadata": {},
   "outputs": [],
   "source": [
    "se = len(gpa_se)\n",
    "se"
   ]
  },
  {
   "cell_type": "code",
   "execution_count": null,
   "metadata": {},
   "outputs": [],
   "source": [
    "bda_mean = np.mean(gpa_bda)\n",
    "bda_mean"
   ]
  },
  {
   "cell_type": "code",
   "execution_count": null,
   "metadata": {},
   "outputs": [],
   "source": [
    "se_mean = np.mean(gpa_se)\n",
    "se_mean"
   ]
  },
  {
   "cell_type": "code",
   "execution_count": null,
   "metadata": {},
   "outputs": [],
   "source": [
    "bda_med = np.median(gpa_bda)\n",
    "bda_med"
   ]
  },
  {
   "cell_type": "code",
   "execution_count": null,
   "metadata": {},
   "outputs": [],
   "source": [
    "se_med = np.median(gpa_se)\n",
    "se_med"
   ]
  },
  {
   "cell_type": "code",
   "execution_count": null,
   "metadata": {},
   "outputs": [],
   "source": [
    "# we can see that there are bda students more than se students, but anyway, the avarage gpa of bda students more than se's studensts\n",
    "# also we can check the median of them, in this case, bda's gpa also higher than se"
   ]
  },
  {
   "cell_type": "code",
   "execution_count": null,
   "metadata": {},
   "outputs": [],
   "source": [
    "#How your analysis would change in Task 1, if the sample size was 30? What if 20? Explain.\n",
    "n_5 = 30\n",
    "ci_95_5 = t.interval(alpha=0.95, df=n_5, loc=x_bar, scale=sigma_3)\n",
    "print('Lower bound:', round(ci_95_5[0], 3))\n",
    "print('Upper bound:', round(ci_95_5[1], 3))"
   ]
  },
  {
   "cell_type": "code",
   "execution_count": null,
   "metadata": {},
   "outputs": [],
   "source": [
    "n_5_1 = 20\n",
    "ci_95_5_1 = t.interval(alpha=0.95, df=n_5_1, loc=x_bar, scale=sigma_3)\n",
    "print('Lower bound:', round(ci_95_5_1[0], 3))\n",
    "print('Upper bound:', round(ci_95_5_1[1], 3))"
   ]
  },
  {
   "cell_type": "markdown",
   "metadata": {},
   "source": [
    "## Q4 (10%)\n",
    "Consider the set of data below (my_list). Does it appear to approximately follow a normal distribution? Justify your answer.\n",
    "\n",
    "*Hint: Check for the properties of the Normal distribution and for the graph of distribtuion.*"
   ]
  },
  {
   "cell_type": "code",
   "execution_count": null,
   "metadata": {},
   "outputs": [],
   "source": [
    "my_list = [113, 71, 89, 143, 140, 146, 122, 104, 134, 143, 110, 131, 125, 116, \n",
    "           164, 107, 113, 122, 119, 116, 98, 161, 128, 152, 116, 83, 86, 155,\n",
    "           128, 122, 95, 122, 131, 134, 107, 113, 101, 92, 134, 140]"
   ]
  },
  {
   "cell_type": "code",
   "execution_count": null,
   "metadata": {},
   "outputs": [],
   "source": [
    "# Please, write your code here\n",
    "n = len(my_list)\n",
    "mu = round(sum(my_list)/len(my_list))\n",
    "sigma = round(np.std(my_list), 4)\n",
    "\n",
    "mode = max(my_list, key = my_list.count)\n",
    "median = round(np.median(my_list))\n",
    "print('Size:'+ str(n) + '\\n' + 'Mean:' + str(mu) + '\\n'+ 'Std.:' + str(sigma) \n",
    "      + '\\n' + 'Mode:'+ str(mode) + '\\n' + 'Median:'+ str(median))"
   ]
  },
  {
   "cell_type": "code",
   "execution_count": null,
   "metadata": {},
   "outputs": [],
   "source": [
    "Y = norm.pdf(my_list, loc=120.65, scale=21.45)  #array of probabilities\n",
    "\n",
    "plt.plot(my_list, Y)\n",
    "plt.title('Graph of Standard Normal Dist, mu=120 , sigma=21.45')\n",
    "plt.xlabel('my_list scores')\n",
    "plt.ylabel('PDF value of Std Normal Dist');"
   ]
  },
  {
   "cell_type": "code",
   "execution_count": null,
   "metadata": {},
   "outputs": [],
   "source": []
  },
  {
   "cell_type": "markdown",
   "metadata": {},
   "source": [
    "## Q5 (10%)\n",
    "Generate synthetic data (numpy.random.normal) with mean = 70, std = 12 and size = 1000 (round it to nearest integer). \n",
    "\n",
    "__Tasks to do:__\n",
    "1. Plot histogram\n",
    "2. What is the mean, median and mode\n",
    "3. Build function to calculate standard deviation using standard Python functionality\n",
    "4. Calculate std. using your function and compare it with numpy function"
   ]
  },
  {
   "cell_type": "code",
   "execution_count": null,
   "metadata": {},
   "outputs": [],
   "source": [
    "# Please, write your code here\n",
    "s = np.random.normal(70,12,1000)"
   ]
  },
  {
   "cell_type": "code",
   "execution_count": null,
   "metadata": {},
   "outputs": [],
   "source": [
    "data = [np.round(x) for x in s]\n",
    "\n",
    "# Histogram\n",
    "plt.hist(x=data, bins=30, density=True);"
   ]
  },
  {
   "cell_type": "code",
   "execution_count": null,
   "metadata": {},
   "outputs": [],
   "source": [
    "df = pd.DataFrame(s)"
   ]
  },
  {
   "cell_type": "code",
   "execution_count": null,
   "metadata": {},
   "outputs": [],
   "source": [
    "mean = round(sum(data)/len(data))\n",
    "print('Mean:', mean)\n",
    "    \n",
    "median = round(np.median(data))\n",
    "print('Median:', median)\n",
    "\n",
    "mode = max(data, key = data.count)\n",
    "print('Mode:', mode)"
   ]
  },
  {
   "cell_type": "code",
   "execution_count": null,
   "metadata": {},
   "outputs": [],
   "source": [
    "def calc_std(X):\n",
    "    sigma = 0.0\n",
    "    mu = round(sum(X)/len(X), 4)\n",
    "    n = len(X)\n",
    "    for x in X:\n",
    "        sigma += (x - mu)**2   \n",
    "    sigma = sigma/n\n",
    "    sigma = sigma**(1/2)\n",
    "    sigma = round(sigma, 4)\n",
    "    return sigma"
   ]
  },
  {
   "cell_type": "code",
   "execution_count": null,
   "metadata": {},
   "outputs": [],
   "source": [
    "print('function std.:', calc_std(data))\n",
    "print('numpy std.:',round(np.std(data), 4))"
   ]
  },
  {
   "cell_type": "markdown",
   "metadata": {},
   "source": [
    "## Q6 (10%)\n",
    "Prove the following expression:\n",
    "\n",
    "$$Var(X) = E((X-\\mu)^2) = E(X^2) - (E(X))^2$$\n",
    "\n",
    "\n",
    "\n",
    "\n",
    "*Hint: For proof write it down in markdown cell below using LaTex.*"
   ]
  },
  {
   "cell_type": "markdown",
   "metadata": {},
   "source": [
    "#### Please, write your proof here (as markdown)\n",
    "$$Var(X) = E((X-\\mu)^2) = E(X^2) - (E(X))^2$$\n",
    "$$Var(x) = E((X - \\mu)^2)$$\n",
    "$$Var(x) = E((X-E(x))^2)$$\n",
    "$$Var(x) = E((X-E(X))(X-E(X)))$$\n",
    "$$Var(x) = E(X^2 - 2X*E(X) + (E(X))^2)$$\n",
    "$$Var(x) = E(X^2) - 2E(X*E(X)) + E((E(X))^2)$$\n",
    "$$Var(x) = E(X^2)-2E(E(X)*E(X)) + E((E(X))^2)$$\n",
    "$$Var(x) = E(X^2) - 2(E(X))^2 + (E(X))^2$$\n",
    "$$Var(x) = E(X^2) - (E(X))^2$$"
   ]
  },
  {
   "cell_type": "markdown",
   "metadata": {},
   "source": [
    "## Q7 (10%)\n",
    "For each of the cases of confidence intervals in the lecture (3 simple and 5 complicated) find/create an example and mention corresponding assumptions such as sample size or original distribution or variance. Also, note that you should not use examples that was presented during the lecture. \n",
    "\n",
    "*Note: no need to create a problem, just a situation which will correspond to the confidence interval case.*"
   ]
  },
  {
   "cell_type": "code",
   "execution_count": null,
   "metadata": {},
   "outputs": [],
   "source": [
    "# Please, write your examples here (as markdown)"
   ]
  },
  {
   "cell_type": "markdown",
   "metadata": {},
   "source": [
    "---\n",
    "\n",
    "### Evaluation (Keep it!)\n",
    "\n",
    "| Question | Mark     | Comment   \n",
    "|:-------:|:--------:|:----------------------\n",
    "| 1       |   20/20    |     \n",
    "| 2       |   20/20 | \n",
    "| 3       |   20/20    |     \n",
    "| 4       |   10/10 | \n",
    "| 5       |   10/10    |     \n",
    "| 6       |   10/10 | \n",
    "| 7       |   10/10    |     \n",
    "|**Total**|**100/100**  | \n"
   ]
  }
 ],
 "metadata": {
  "kernelspec": {
   "display_name": "Python 3",
   "language": "python",
   "name": "python3"
  },
  "language_info": {
   "codemirror_mode": {
    "name": "ipython",
    "version": 3
   },
   "file_extension": ".py",
   "mimetype": "text/x-python",
   "name": "python",
   "nbconvert_exporter": "python",
   "pygments_lexer": "ipython3",
   "version": "3.8.8"
  }
 },
 "nbformat": 4,
 "nbformat_minor": 4
}
