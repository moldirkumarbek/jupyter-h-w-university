{
 "cells": [
  {
   "cell_type": "code",
   "execution_count": null,
   "id": "494d39eb",
   "metadata": {},
   "outputs": [],
   "source": [
    "from math import sqrt\n",
    "import numpy as np\n",
    "from sklearn.datasets import load_iris\n",
    "from sklearn.model_selection import train_test_split\n",
    "import pandas as pd"
   ]
  },
  {
   "cell_type": "code",
   "execution_count": null,
   "id": "e159a67b",
   "metadata": {},
   "outputs": [],
   "source": [
    "iris = load_iris()\n",
    "iris.keys()"
   ]
  },
  {
   "cell_type": "code",
   "execution_count": null,
   "id": "0858fe39",
   "metadata": {},
   "outputs": [],
   "source": [
    "y_iris = iris.target\n",
    "data = iris.data"
   ]
  },
  {
   "cell_type": "code",
   "execution_count": null,
   "id": "d986742b",
   "metadata": {
    "scrolled": true
   },
   "outputs": [],
   "source": [
    "data = np.insert(data, 4, y_iris, axis =1)\n",
    " \n",
    "data"
   ]
  },
  {
   "cell_type": "code",
   "execution_count": null,
   "id": "cc6c8151",
   "metadata": {},
   "outputs": [],
   "source": [
    "#Splitting data into two parts training and testing data\n",
    "train, test = train_test_split(data, test_size = 0.25)"
   ]
  },
  {
   "cell_type": "code",
   "execution_count": null,
   "id": "1f1a945c",
   "metadata": {},
   "outputs": [],
   "source": [
    "def Euclidean_distance(row1, row2): #row1 - testing data, row2 - all rows from dataset\n",
    "    distance = 0\n",
    "    for i in range(len(row1)-1):\n",
    "        distance += (row1[i] - row2[i])**2            #(x1-x2)**2+(y1-y2)**2\n",
    "    return sqrt(distance)"
   ]
  },
  {
   "cell_type": "markdown",
   "id": "7d3ade4f",
   "metadata": {},
   "source": [
    "### Finding the K - Nearest Neighbor"
   ]
  },
  {
   "cell_type": "code",
   "execution_count": null,
   "id": "3162f0c0",
   "metadata": {},
   "outputs": [],
   "source": [
    "def Get_KNN(train, test_row, num): #num = K\n",
    "    distance = list() # []\n",
    "    data = []\n",
    "    for i in train:\n",
    "        dist = Euclidean_distance(test_row, i)\n",
    "        distance.append(dist)\n",
    "        data.append(i)\n",
    "    distance = np.array(distance)\n",
    "    data = np.array(data)\n",
    "    #finding index of min distance \n",
    "    index_dist = distance.argsort()\n",
    "    #arange data according to index\n",
    "    data = data[index_dist]\n",
    "    #slicing num number of datas\n",
    "    neighbors = data[:num]\n",
    "    \n",
    "    return neighbors"
   ]
  },
  {
   "cell_type": "markdown",
   "id": "8bf9c1ec",
   "metadata": {},
   "source": [
    "### Prediction for all the classes:"
   ]
  },
  {
   "cell_type": "code",
   "execution_count": null,
   "id": "6917d910",
   "metadata": {},
   "outputs": [],
   "source": [
    "def predict_classification(train, test_row, num):\n",
    "    Neighbors = Get_KNN(train, test_row, num)\n",
    "    Classes = []\n",
    "    for i in Neighbors:\n",
    "        Classes.append(i[-1])\n",
    "    prediction = max(Classes, key= Classes.count)\n",
    "    return prediction"
   ]
  },
  {
   "cell_type": "code",
   "execution_count": null,
   "id": "8a26c9bf",
   "metadata": {},
   "outputs": [],
   "source": [
    "y_pred = []\n",
    "y_true = test[:, -1]\n",
    "for i in test:\n",
    "    prediction = predict_classification(train, i, 10)\n",
    "   \n",
    "    y_pred.append(prediction)"
   ]
  },
  {
   "cell_type": "code",
   "execution_count": null,
   "id": "a4c0b1cb",
   "metadata": {},
   "outputs": [],
   "source": [
    "Get_KNN(train, i, 10)"
   ]
  },
  {
   "cell_type": "code",
   "execution_count": null,
   "id": "ffe6b50e",
   "metadata": {},
   "outputs": [],
   "source": [
    "#accuracy\n",
    "def evaluate(y_true, y_pred):\n",
    "    n_correct = 0\n",
    "    for i in range(len(y_true)):\n",
    "        if y_true[i] == y_pred[i]:\n",
    "            n_correct += 1\n",
    "    acc = n_correct/len(y_true)\n",
    "    return acc"
   ]
  },
  {
   "cell_type": "code",
   "execution_count": null,
   "id": "3a16b49b",
   "metadata": {},
   "outputs": [],
   "source": [
    "evaluate(y_true, y_pred)"
   ]
  }
 ],
 "metadata": {
  "kernelspec": {
   "display_name": "Python 3",
   "language": "python",
   "name": "python3"
  },
  "language_info": {
   "codemirror_mode": {
    "name": "ipython",
    "version": 3
   },
   "file_extension": ".py",
   "mimetype": "text/x-python",
   "name": "python",
   "nbconvert_exporter": "python",
   "pygments_lexer": "ipython3",
   "version": "3.8.8"
  }
 },
 "nbformat": 4,
 "nbformat_minor": 5
}
